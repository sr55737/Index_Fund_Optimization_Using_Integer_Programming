{
 "cells": [
  {
   "cell_type": "code",
   "execution_count": 42,
   "metadata": {},
   "outputs": [],
   "source": [
    "import numpy as np\n",
    "import pandas as pd\n",
    "import gurobipy as gp\n",
    "from tqdm import tqdm\n",
    "import plotly.express as px\n",
    "from plotly.subplots import make_subplots"
   ]
  },
  {
   "cell_type": "code",
   "execution_count": 2,
   "metadata": {},
   "outputs": [],
   "source": [
    "# Reading the files\n",
    "stocks2019 = pd.read_csv('stocks2019.csv')\n",
    "stocks2020 = pd.read_csv('stocks2020.csv')"
   ]
  },
  {
   "cell_type": "markdown",
   "metadata": {},
   "source": [
    "## Question 1"
   ]
  },
  {
   "cell_type": "code",
   "execution_count": 5,
   "metadata": {},
   "outputs": [
    {
     "data": {
      "text/html": [
       "<div>\n",
       "<style scoped>\n",
       "    .dataframe tbody tr th:only-of-type {\n",
       "        vertical-align: middle;\n",
       "    }\n",
       "\n",
       "    .dataframe tbody tr th {\n",
       "        vertical-align: top;\n",
       "    }\n",
       "\n",
       "    .dataframe thead th {\n",
       "        text-align: right;\n",
       "    }\n",
       "</style>\n",
       "<table border=\"1\" class=\"dataframe\">\n",
       "  <thead>\n",
       "    <tr style=\"text-align: right;\">\n",
       "      <th></th>\n",
       "      <th>ATVI</th>\n",
       "      <th>ADBE</th>\n",
       "      <th>AMD</th>\n",
       "      <th>ALXN</th>\n",
       "      <th>ALGN</th>\n",
       "      <th>GOOGL</th>\n",
       "      <th>GOOG</th>\n",
       "      <th>AMZN</th>\n",
       "      <th>AMGN</th>\n",
       "      <th>ADI</th>\n",
       "      <th>...</th>\n",
       "      <th>TCOM</th>\n",
       "      <th>ULTA</th>\n",
       "      <th>VRSN</th>\n",
       "      <th>VRSK</th>\n",
       "      <th>VRTX</th>\n",
       "      <th>WBA</th>\n",
       "      <th>WDAY</th>\n",
       "      <th>WDC</th>\n",
       "      <th>XEL</th>\n",
       "      <th>XLNX</th>\n",
       "    </tr>\n",
       "  </thead>\n",
       "  <tbody>\n",
       "    <tr>\n",
       "      <th>ATVI</th>\n",
       "      <td>1.000000</td>\n",
       "      <td>0.399939</td>\n",
       "      <td>0.365376</td>\n",
       "      <td>0.223162</td>\n",
       "      <td>0.216280</td>\n",
       "      <td>0.433097</td>\n",
       "      <td>0.426777</td>\n",
       "      <td>0.467076</td>\n",
       "      <td>0.203956</td>\n",
       "      <td>0.329355</td>\n",
       "      <td>...</td>\n",
       "      <td>0.322906</td>\n",
       "      <td>0.128241</td>\n",
       "      <td>0.464850</td>\n",
       "      <td>0.316549</td>\n",
       "      <td>0.259679</td>\n",
       "      <td>0.218149</td>\n",
       "      <td>0.311659</td>\n",
       "      <td>0.303077</td>\n",
       "      <td>0.043389</td>\n",
       "      <td>0.249667</td>\n",
       "    </tr>\n",
       "    <tr>\n",
       "      <th>ADBE</th>\n",
       "      <td>0.399939</td>\n",
       "      <td>1.000000</td>\n",
       "      <td>0.452848</td>\n",
       "      <td>0.368928</td>\n",
       "      <td>0.363370</td>\n",
       "      <td>0.552125</td>\n",
       "      <td>0.540404</td>\n",
       "      <td>0.598237</td>\n",
       "      <td>0.291978</td>\n",
       "      <td>0.473815</td>\n",
       "      <td>...</td>\n",
       "      <td>0.360392</td>\n",
       "      <td>0.201151</td>\n",
       "      <td>0.711339</td>\n",
       "      <td>0.541243</td>\n",
       "      <td>0.402171</td>\n",
       "      <td>0.228106</td>\n",
       "      <td>0.650430</td>\n",
       "      <td>0.361516</td>\n",
       "      <td>0.207403</td>\n",
       "      <td>0.289497</td>\n",
       "    </tr>\n",
       "    <tr>\n",
       "      <th>AMD</th>\n",
       "      <td>0.365376</td>\n",
       "      <td>0.452848</td>\n",
       "      <td>1.000000</td>\n",
       "      <td>0.301831</td>\n",
       "      <td>0.344252</td>\n",
       "      <td>0.418861</td>\n",
       "      <td>0.417254</td>\n",
       "      <td>0.549302</td>\n",
       "      <td>0.151452</td>\n",
       "      <td>0.503733</td>\n",
       "      <td>...</td>\n",
       "      <td>0.332776</td>\n",
       "      <td>0.210623</td>\n",
       "      <td>0.498342</td>\n",
       "      <td>0.330900</td>\n",
       "      <td>0.272983</td>\n",
       "      <td>0.281950</td>\n",
       "      <td>0.407626</td>\n",
       "      <td>0.438892</td>\n",
       "      <td>0.017283</td>\n",
       "      <td>0.478010</td>\n",
       "    </tr>\n",
       "    <tr>\n",
       "      <th>ALXN</th>\n",
       "      <td>0.223162</td>\n",
       "      <td>0.368928</td>\n",
       "      <td>0.301831</td>\n",
       "      <td>1.000000</td>\n",
       "      <td>0.332433</td>\n",
       "      <td>0.315993</td>\n",
       "      <td>0.307698</td>\n",
       "      <td>0.363170</td>\n",
       "      <td>0.342022</td>\n",
       "      <td>0.317040</td>\n",
       "      <td>...</td>\n",
       "      <td>0.257143</td>\n",
       "      <td>0.408936</td>\n",
       "      <td>0.350581</td>\n",
       "      <td>0.191489</td>\n",
       "      <td>0.522423</td>\n",
       "      <td>0.192720</td>\n",
       "      <td>0.416396</td>\n",
       "      <td>0.289908</td>\n",
       "      <td>0.047947</td>\n",
       "      <td>0.200356</td>\n",
       "    </tr>\n",
       "    <tr>\n",
       "      <th>ALGN</th>\n",
       "      <td>0.216280</td>\n",
       "      <td>0.363370</td>\n",
       "      <td>0.344252</td>\n",
       "      <td>0.332433</td>\n",
       "      <td>1.000000</td>\n",
       "      <td>0.248747</td>\n",
       "      <td>0.250316</td>\n",
       "      <td>0.399281</td>\n",
       "      <td>0.264599</td>\n",
       "      <td>0.328280</td>\n",
       "      <td>...</td>\n",
       "      <td>0.175957</td>\n",
       "      <td>0.128559</td>\n",
       "      <td>0.360886</td>\n",
       "      <td>0.251855</td>\n",
       "      <td>0.334978</td>\n",
       "      <td>0.219595</td>\n",
       "      <td>0.308968</td>\n",
       "      <td>0.284407</td>\n",
       "      <td>0.088059</td>\n",
       "      <td>0.253934</td>\n",
       "    </tr>\n",
       "    <tr>\n",
       "      <th>...</th>\n",
       "      <td>...</td>\n",
       "      <td>...</td>\n",
       "      <td>...</td>\n",
       "      <td>...</td>\n",
       "      <td>...</td>\n",
       "      <td>...</td>\n",
       "      <td>...</td>\n",
       "      <td>...</td>\n",
       "      <td>...</td>\n",
       "      <td>...</td>\n",
       "      <td>...</td>\n",
       "      <td>...</td>\n",
       "      <td>...</td>\n",
       "      <td>...</td>\n",
       "      <td>...</td>\n",
       "      <td>...</td>\n",
       "      <td>...</td>\n",
       "      <td>...</td>\n",
       "      <td>...</td>\n",
       "      <td>...</td>\n",
       "      <td>...</td>\n",
       "    </tr>\n",
       "    <tr>\n",
       "      <th>WBA</th>\n",
       "      <td>0.218149</td>\n",
       "      <td>0.228106</td>\n",
       "      <td>0.281950</td>\n",
       "      <td>0.192720</td>\n",
       "      <td>0.219595</td>\n",
       "      <td>0.232900</td>\n",
       "      <td>0.230603</td>\n",
       "      <td>0.288168</td>\n",
       "      <td>0.194490</td>\n",
       "      <td>0.347861</td>\n",
       "      <td>...</td>\n",
       "      <td>0.257049</td>\n",
       "      <td>0.145330</td>\n",
       "      <td>0.195475</td>\n",
       "      <td>0.126118</td>\n",
       "      <td>0.214585</td>\n",
       "      <td>1.000000</td>\n",
       "      <td>0.211641</td>\n",
       "      <td>0.296309</td>\n",
       "      <td>-0.130798</td>\n",
       "      <td>0.276643</td>\n",
       "    </tr>\n",
       "    <tr>\n",
       "      <th>WDAY</th>\n",
       "      <td>0.311659</td>\n",
       "      <td>0.650430</td>\n",
       "      <td>0.407626</td>\n",
       "      <td>0.416396</td>\n",
       "      <td>0.308968</td>\n",
       "      <td>0.379493</td>\n",
       "      <td>0.371826</td>\n",
       "      <td>0.424748</td>\n",
       "      <td>0.211712</td>\n",
       "      <td>0.351734</td>\n",
       "      <td>...</td>\n",
       "      <td>0.235045</td>\n",
       "      <td>0.269545</td>\n",
       "      <td>0.569672</td>\n",
       "      <td>0.401476</td>\n",
       "      <td>0.376047</td>\n",
       "      <td>0.211641</td>\n",
       "      <td>1.000000</td>\n",
       "      <td>0.315699</td>\n",
       "      <td>0.209240</td>\n",
       "      <td>0.254117</td>\n",
       "    </tr>\n",
       "    <tr>\n",
       "      <th>WDC</th>\n",
       "      <td>0.303077</td>\n",
       "      <td>0.361516</td>\n",
       "      <td>0.438892</td>\n",
       "      <td>0.289908</td>\n",
       "      <td>0.284407</td>\n",
       "      <td>0.328619</td>\n",
       "      <td>0.322110</td>\n",
       "      <td>0.419620</td>\n",
       "      <td>0.172623</td>\n",
       "      <td>0.602935</td>\n",
       "      <td>...</td>\n",
       "      <td>0.377215</td>\n",
       "      <td>0.126463</td>\n",
       "      <td>0.331916</td>\n",
       "      <td>0.308558</td>\n",
       "      <td>0.314773</td>\n",
       "      <td>0.296309</td>\n",
       "      <td>0.315699</td>\n",
       "      <td>1.000000</td>\n",
       "      <td>-0.076115</td>\n",
       "      <td>0.516958</td>\n",
       "    </tr>\n",
       "    <tr>\n",
       "      <th>XEL</th>\n",
       "      <td>0.043389</td>\n",
       "      <td>0.207403</td>\n",
       "      <td>0.017283</td>\n",
       "      <td>0.047947</td>\n",
       "      <td>0.088059</td>\n",
       "      <td>0.059930</td>\n",
       "      <td>0.052570</td>\n",
       "      <td>0.076724</td>\n",
       "      <td>0.137857</td>\n",
       "      <td>-0.047259</td>\n",
       "      <td>...</td>\n",
       "      <td>-0.172752</td>\n",
       "      <td>0.074686</td>\n",
       "      <td>0.280371</td>\n",
       "      <td>0.407770</td>\n",
       "      <td>0.191667</td>\n",
       "      <td>-0.130798</td>\n",
       "      <td>0.209240</td>\n",
       "      <td>-0.076115</td>\n",
       "      <td>1.000000</td>\n",
       "      <td>-0.117552</td>\n",
       "    </tr>\n",
       "    <tr>\n",
       "      <th>XLNX</th>\n",
       "      <td>0.249667</td>\n",
       "      <td>0.289497</td>\n",
       "      <td>0.478010</td>\n",
       "      <td>0.200356</td>\n",
       "      <td>0.253934</td>\n",
       "      <td>0.221983</td>\n",
       "      <td>0.213764</td>\n",
       "      <td>0.389871</td>\n",
       "      <td>0.092808</td>\n",
       "      <td>0.687646</td>\n",
       "      <td>...</td>\n",
       "      <td>0.415079</td>\n",
       "      <td>0.142450</td>\n",
       "      <td>0.352529</td>\n",
       "      <td>0.193846</td>\n",
       "      <td>0.166732</td>\n",
       "      <td>0.276643</td>\n",
       "      <td>0.254117</td>\n",
       "      <td>0.516958</td>\n",
       "      <td>-0.117552</td>\n",
       "      <td>1.000000</td>\n",
       "    </tr>\n",
       "  </tbody>\n",
       "</table>\n",
       "<p>100 rows × 100 columns</p>\n",
       "</div>"
      ],
      "text/plain": [
       "          ATVI      ADBE       AMD      ALXN      ALGN     GOOGL      GOOG  \\\n",
       "ATVI  1.000000  0.399939  0.365376  0.223162  0.216280  0.433097  0.426777   \n",
       "ADBE  0.399939  1.000000  0.452848  0.368928  0.363370  0.552125  0.540404   \n",
       "AMD   0.365376  0.452848  1.000000  0.301831  0.344252  0.418861  0.417254   \n",
       "ALXN  0.223162  0.368928  0.301831  1.000000  0.332433  0.315993  0.307698   \n",
       "ALGN  0.216280  0.363370  0.344252  0.332433  1.000000  0.248747  0.250316   \n",
       "...        ...       ...       ...       ...       ...       ...       ...   \n",
       "WBA   0.218149  0.228106  0.281950  0.192720  0.219595  0.232900  0.230603   \n",
       "WDAY  0.311659  0.650430  0.407626  0.416396  0.308968  0.379493  0.371826   \n",
       "WDC   0.303077  0.361516  0.438892  0.289908  0.284407  0.328619  0.322110   \n",
       "XEL   0.043389  0.207403  0.017283  0.047947  0.088059  0.059930  0.052570   \n",
       "XLNX  0.249667  0.289497  0.478010  0.200356  0.253934  0.221983  0.213764   \n",
       "\n",
       "          AMZN      AMGN       ADI  ...      TCOM      ULTA      VRSN  \\\n",
       "ATVI  0.467076  0.203956  0.329355  ...  0.322906  0.128241  0.464850   \n",
       "ADBE  0.598237  0.291978  0.473815  ...  0.360392  0.201151  0.711339   \n",
       "AMD   0.549302  0.151452  0.503733  ...  0.332776  0.210623  0.498342   \n",
       "ALXN  0.363170  0.342022  0.317040  ...  0.257143  0.408936  0.350581   \n",
       "ALGN  0.399281  0.264599  0.328280  ...  0.175957  0.128559  0.360886   \n",
       "...        ...       ...       ...  ...       ...       ...       ...   \n",
       "WBA   0.288168  0.194490  0.347861  ...  0.257049  0.145330  0.195475   \n",
       "WDAY  0.424748  0.211712  0.351734  ...  0.235045  0.269545  0.569672   \n",
       "WDC   0.419620  0.172623  0.602935  ...  0.377215  0.126463  0.331916   \n",
       "XEL   0.076724  0.137857 -0.047259  ... -0.172752  0.074686  0.280371   \n",
       "XLNX  0.389871  0.092808  0.687646  ...  0.415079  0.142450  0.352529   \n",
       "\n",
       "          VRSK      VRTX       WBA      WDAY       WDC       XEL      XLNX  \n",
       "ATVI  0.316549  0.259679  0.218149  0.311659  0.303077  0.043389  0.249667  \n",
       "ADBE  0.541243  0.402171  0.228106  0.650430  0.361516  0.207403  0.289497  \n",
       "AMD   0.330900  0.272983  0.281950  0.407626  0.438892  0.017283  0.478010  \n",
       "ALXN  0.191489  0.522423  0.192720  0.416396  0.289908  0.047947  0.200356  \n",
       "ALGN  0.251855  0.334978  0.219595  0.308968  0.284407  0.088059  0.253934  \n",
       "...        ...       ...       ...       ...       ...       ...       ...  \n",
       "WBA   0.126118  0.214585  1.000000  0.211641  0.296309 -0.130798  0.276643  \n",
       "WDAY  0.401476  0.376047  0.211641  1.000000  0.315699  0.209240  0.254117  \n",
       "WDC   0.308558  0.314773  0.296309  0.315699  1.000000 -0.076115  0.516958  \n",
       "XEL   0.407770  0.191667 -0.130798  0.209240 -0.076115  1.000000 -0.117552  \n",
       "XLNX  0.193846  0.166732  0.276643  0.254117  0.516958 -0.117552  1.000000  \n",
       "\n",
       "[100 rows x 100 columns]"
      ]
     },
     "metadata": {},
     "output_type": "display_data"
    },
    {
     "data": {
      "text/html": [
       "<div>\n",
       "<style scoped>\n",
       "    .dataframe tbody tr th:only-of-type {\n",
       "        vertical-align: middle;\n",
       "    }\n",
       "\n",
       "    .dataframe tbody tr th {\n",
       "        vertical-align: top;\n",
       "    }\n",
       "\n",
       "    .dataframe thead th {\n",
       "        text-align: right;\n",
       "    }\n",
       "</style>\n",
       "<table border=\"1\" class=\"dataframe\">\n",
       "  <thead>\n",
       "    <tr style=\"text-align: right;\">\n",
       "      <th></th>\n",
       "      <th>ATVI</th>\n",
       "      <th>ADBE</th>\n",
       "      <th>AMD</th>\n",
       "      <th>ALXN</th>\n",
       "      <th>ALGN</th>\n",
       "      <th>GOOGL</th>\n",
       "      <th>GOOG</th>\n",
       "      <th>AMZN</th>\n",
       "      <th>AMGN</th>\n",
       "      <th>ADI</th>\n",
       "      <th>...</th>\n",
       "      <th>TCOM</th>\n",
       "      <th>ULTA</th>\n",
       "      <th>VRSN</th>\n",
       "      <th>VRSK</th>\n",
       "      <th>VRTX</th>\n",
       "      <th>WBA</th>\n",
       "      <th>WDAY</th>\n",
       "      <th>WDC</th>\n",
       "      <th>XEL</th>\n",
       "      <th>XLNX</th>\n",
       "    </tr>\n",
       "  </thead>\n",
       "  <tbody>\n",
       "    <tr>\n",
       "      <th>ATVI</th>\n",
       "      <td>1.000000</td>\n",
       "      <td>0.730174</td>\n",
       "      <td>0.579314</td>\n",
       "      <td>0.403073</td>\n",
       "      <td>0.237541</td>\n",
       "      <td>0.567828</td>\n",
       "      <td>0.566060</td>\n",
       "      <td>0.626415</td>\n",
       "      <td>0.565433</td>\n",
       "      <td>0.454953</td>\n",
       "      <td>...</td>\n",
       "      <td>0.154898</td>\n",
       "      <td>0.120848</td>\n",
       "      <td>0.603622</td>\n",
       "      <td>0.497564</td>\n",
       "      <td>0.579678</td>\n",
       "      <td>0.247209</td>\n",
       "      <td>0.410701</td>\n",
       "      <td>0.280593</td>\n",
       "      <td>0.411515</td>\n",
       "      <td>0.479460</td>\n",
       "    </tr>\n",
       "    <tr>\n",
       "      <th>ADBE</th>\n",
       "      <td>0.730174</td>\n",
       "      <td>1.000000</td>\n",
       "      <td>0.659260</td>\n",
       "      <td>0.491232</td>\n",
       "      <td>0.437418</td>\n",
       "      <td>0.798263</td>\n",
       "      <td>0.795778</td>\n",
       "      <td>0.753873</td>\n",
       "      <td>0.620782</td>\n",
       "      <td>0.720870</td>\n",
       "      <td>...</td>\n",
       "      <td>0.344892</td>\n",
       "      <td>0.367310</td>\n",
       "      <td>0.754475</td>\n",
       "      <td>0.672608</td>\n",
       "      <td>0.602576</td>\n",
       "      <td>0.322319</td>\n",
       "      <td>0.709340</td>\n",
       "      <td>0.488606</td>\n",
       "      <td>0.520639</td>\n",
       "      <td>0.672700</td>\n",
       "    </tr>\n",
       "    <tr>\n",
       "      <th>AMD</th>\n",
       "      <td>0.579314</td>\n",
       "      <td>0.659260</td>\n",
       "      <td>1.000000</td>\n",
       "      <td>0.395293</td>\n",
       "      <td>0.396404</td>\n",
       "      <td>0.604720</td>\n",
       "      <td>0.603124</td>\n",
       "      <td>0.621273</td>\n",
       "      <td>0.509703</td>\n",
       "      <td>0.599515</td>\n",
       "      <td>...</td>\n",
       "      <td>0.292341</td>\n",
       "      <td>0.362999</td>\n",
       "      <td>0.669125</td>\n",
       "      <td>0.589336</td>\n",
       "      <td>0.538653</td>\n",
       "      <td>0.285847</td>\n",
       "      <td>0.507533</td>\n",
       "      <td>0.433935</td>\n",
       "      <td>0.469962</td>\n",
       "      <td>0.609899</td>\n",
       "    </tr>\n",
       "    <tr>\n",
       "      <th>ALXN</th>\n",
       "      <td>0.403073</td>\n",
       "      <td>0.491232</td>\n",
       "      <td>0.395293</td>\n",
       "      <td>1.000000</td>\n",
       "      <td>0.327819</td>\n",
       "      <td>0.434124</td>\n",
       "      <td>0.430771</td>\n",
       "      <td>0.426561</td>\n",
       "      <td>0.524339</td>\n",
       "      <td>0.457500</td>\n",
       "      <td>...</td>\n",
       "      <td>0.332673</td>\n",
       "      <td>0.281982</td>\n",
       "      <td>0.506699</td>\n",
       "      <td>0.473451</td>\n",
       "      <td>0.457318</td>\n",
       "      <td>0.330271</td>\n",
       "      <td>0.353305</td>\n",
       "      <td>0.348578</td>\n",
       "      <td>0.373230</td>\n",
       "      <td>0.475345</td>\n",
       "    </tr>\n",
       "    <tr>\n",
       "      <th>ALGN</th>\n",
       "      <td>0.237541</td>\n",
       "      <td>0.437418</td>\n",
       "      <td>0.396404</td>\n",
       "      <td>0.327819</td>\n",
       "      <td>1.000000</td>\n",
       "      <td>0.547835</td>\n",
       "      <td>0.540729</td>\n",
       "      <td>0.304170</td>\n",
       "      <td>0.390302</td>\n",
       "      <td>0.589460</td>\n",
       "      <td>...</td>\n",
       "      <td>0.454142</td>\n",
       "      <td>0.568183</td>\n",
       "      <td>0.527947</td>\n",
       "      <td>0.506896</td>\n",
       "      <td>0.307963</td>\n",
       "      <td>0.372854</td>\n",
       "      <td>0.397577</td>\n",
       "      <td>0.543233</td>\n",
       "      <td>0.464390</td>\n",
       "      <td>0.469649</td>\n",
       "    </tr>\n",
       "    <tr>\n",
       "      <th>...</th>\n",
       "      <td>...</td>\n",
       "      <td>...</td>\n",
       "      <td>...</td>\n",
       "      <td>...</td>\n",
       "      <td>...</td>\n",
       "      <td>...</td>\n",
       "      <td>...</td>\n",
       "      <td>...</td>\n",
       "      <td>...</td>\n",
       "      <td>...</td>\n",
       "      <td>...</td>\n",
       "      <td>...</td>\n",
       "      <td>...</td>\n",
       "      <td>...</td>\n",
       "      <td>...</td>\n",
       "      <td>...</td>\n",
       "      <td>...</td>\n",
       "      <td>...</td>\n",
       "      <td>...</td>\n",
       "      <td>...</td>\n",
       "      <td>...</td>\n",
       "    </tr>\n",
       "    <tr>\n",
       "      <th>WBA</th>\n",
       "      <td>0.247209</td>\n",
       "      <td>0.322319</td>\n",
       "      <td>0.285847</td>\n",
       "      <td>0.330271</td>\n",
       "      <td>0.372854</td>\n",
       "      <td>0.452024</td>\n",
       "      <td>0.451883</td>\n",
       "      <td>0.247289</td>\n",
       "      <td>0.483689</td>\n",
       "      <td>0.378966</td>\n",
       "      <td>...</td>\n",
       "      <td>0.382775</td>\n",
       "      <td>0.356305</td>\n",
       "      <td>0.373740</td>\n",
       "      <td>0.430280</td>\n",
       "      <td>0.309819</td>\n",
       "      <td>1.000000</td>\n",
       "      <td>0.151933</td>\n",
       "      <td>0.413085</td>\n",
       "      <td>0.471935</td>\n",
       "      <td>0.366630</td>\n",
       "    </tr>\n",
       "    <tr>\n",
       "      <th>WDAY</th>\n",
       "      <td>0.410701</td>\n",
       "      <td>0.709340</td>\n",
       "      <td>0.507533</td>\n",
       "      <td>0.353305</td>\n",
       "      <td>0.397577</td>\n",
       "      <td>0.621941</td>\n",
       "      <td>0.617913</td>\n",
       "      <td>0.533779</td>\n",
       "      <td>0.355236</td>\n",
       "      <td>0.584594</td>\n",
       "      <td>...</td>\n",
       "      <td>0.405752</td>\n",
       "      <td>0.486523</td>\n",
       "      <td>0.552892</td>\n",
       "      <td>0.560405</td>\n",
       "      <td>0.397599</td>\n",
       "      <td>0.151933</td>\n",
       "      <td>1.000000</td>\n",
       "      <td>0.528519</td>\n",
       "      <td>0.376101</td>\n",
       "      <td>0.475497</td>\n",
       "    </tr>\n",
       "    <tr>\n",
       "      <th>WDC</th>\n",
       "      <td>0.280593</td>\n",
       "      <td>0.488606</td>\n",
       "      <td>0.433935</td>\n",
       "      <td>0.348578</td>\n",
       "      <td>0.543233</td>\n",
       "      <td>0.564265</td>\n",
       "      <td>0.556093</td>\n",
       "      <td>0.335195</td>\n",
       "      <td>0.422348</td>\n",
       "      <td>0.700760</td>\n",
       "      <td>...</td>\n",
       "      <td>0.568574</td>\n",
       "      <td>0.657512</td>\n",
       "      <td>0.538575</td>\n",
       "      <td>0.567524</td>\n",
       "      <td>0.372172</td>\n",
       "      <td>0.413085</td>\n",
       "      <td>0.528519</td>\n",
       "      <td>1.000000</td>\n",
       "      <td>0.474558</td>\n",
       "      <td>0.523815</td>\n",
       "    </tr>\n",
       "    <tr>\n",
       "      <th>XEL</th>\n",
       "      <td>0.411515</td>\n",
       "      <td>0.520639</td>\n",
       "      <td>0.469962</td>\n",
       "      <td>0.373230</td>\n",
       "      <td>0.464390</td>\n",
       "      <td>0.563182</td>\n",
       "      <td>0.552362</td>\n",
       "      <td>0.379968</td>\n",
       "      <td>0.616083</td>\n",
       "      <td>0.572824</td>\n",
       "      <td>...</td>\n",
       "      <td>0.237195</td>\n",
       "      <td>0.460488</td>\n",
       "      <td>0.676772</td>\n",
       "      <td>0.752317</td>\n",
       "      <td>0.456288</td>\n",
       "      <td>0.471935</td>\n",
       "      <td>0.376101</td>\n",
       "      <td>0.474558</td>\n",
       "      <td>1.000000</td>\n",
       "      <td>0.459359</td>\n",
       "    </tr>\n",
       "    <tr>\n",
       "      <th>XLNX</th>\n",
       "      <td>0.479460</td>\n",
       "      <td>0.672700</td>\n",
       "      <td>0.609899</td>\n",
       "      <td>0.475345</td>\n",
       "      <td>0.469649</td>\n",
       "      <td>0.650637</td>\n",
       "      <td>0.646030</td>\n",
       "      <td>0.573881</td>\n",
       "      <td>0.484753</td>\n",
       "      <td>0.724278</td>\n",
       "      <td>...</td>\n",
       "      <td>0.383841</td>\n",
       "      <td>0.360357</td>\n",
       "      <td>0.637377</td>\n",
       "      <td>0.627892</td>\n",
       "      <td>0.495704</td>\n",
       "      <td>0.366630</td>\n",
       "      <td>0.475497</td>\n",
       "      <td>0.523815</td>\n",
       "      <td>0.459359</td>\n",
       "      <td>1.000000</td>\n",
       "    </tr>\n",
       "  </tbody>\n",
       "</table>\n",
       "<p>100 rows × 100 columns</p>\n",
       "</div>"
      ],
      "text/plain": [
       "          ATVI      ADBE       AMD      ALXN      ALGN     GOOGL      GOOG  \\\n",
       "ATVI  1.000000  0.730174  0.579314  0.403073  0.237541  0.567828  0.566060   \n",
       "ADBE  0.730174  1.000000  0.659260  0.491232  0.437418  0.798263  0.795778   \n",
       "AMD   0.579314  0.659260  1.000000  0.395293  0.396404  0.604720  0.603124   \n",
       "ALXN  0.403073  0.491232  0.395293  1.000000  0.327819  0.434124  0.430771   \n",
       "ALGN  0.237541  0.437418  0.396404  0.327819  1.000000  0.547835  0.540729   \n",
       "...        ...       ...       ...       ...       ...       ...       ...   \n",
       "WBA   0.247209  0.322319  0.285847  0.330271  0.372854  0.452024  0.451883   \n",
       "WDAY  0.410701  0.709340  0.507533  0.353305  0.397577  0.621941  0.617913   \n",
       "WDC   0.280593  0.488606  0.433935  0.348578  0.543233  0.564265  0.556093   \n",
       "XEL   0.411515  0.520639  0.469962  0.373230  0.464390  0.563182  0.552362   \n",
       "XLNX  0.479460  0.672700  0.609899  0.475345  0.469649  0.650637  0.646030   \n",
       "\n",
       "          AMZN      AMGN       ADI  ...      TCOM      ULTA      VRSN  \\\n",
       "ATVI  0.626415  0.565433  0.454953  ...  0.154898  0.120848  0.603622   \n",
       "ADBE  0.753873  0.620782  0.720870  ...  0.344892  0.367310  0.754475   \n",
       "AMD   0.621273  0.509703  0.599515  ...  0.292341  0.362999  0.669125   \n",
       "ALXN  0.426561  0.524339  0.457500  ...  0.332673  0.281982  0.506699   \n",
       "ALGN  0.304170  0.390302  0.589460  ...  0.454142  0.568183  0.527947   \n",
       "...        ...       ...       ...  ...       ...       ...       ...   \n",
       "WBA   0.247289  0.483689  0.378966  ...  0.382775  0.356305  0.373740   \n",
       "WDAY  0.533779  0.355236  0.584594  ...  0.405752  0.486523  0.552892   \n",
       "WDC   0.335195  0.422348  0.700760  ...  0.568574  0.657512  0.538575   \n",
       "XEL   0.379968  0.616083  0.572824  ...  0.237195  0.460488  0.676772   \n",
       "XLNX  0.573881  0.484753  0.724278  ...  0.383841  0.360357  0.637377   \n",
       "\n",
       "          VRSK      VRTX       WBA      WDAY       WDC       XEL      XLNX  \n",
       "ATVI  0.497564  0.579678  0.247209  0.410701  0.280593  0.411515  0.479460  \n",
       "ADBE  0.672608  0.602576  0.322319  0.709340  0.488606  0.520639  0.672700  \n",
       "AMD   0.589336  0.538653  0.285847  0.507533  0.433935  0.469962  0.609899  \n",
       "ALXN  0.473451  0.457318  0.330271  0.353305  0.348578  0.373230  0.475345  \n",
       "ALGN  0.506896  0.307963  0.372854  0.397577  0.543233  0.464390  0.469649  \n",
       "...        ...       ...       ...       ...       ...       ...       ...  \n",
       "WBA   0.430280  0.309819  1.000000  0.151933  0.413085  0.471935  0.366630  \n",
       "WDAY  0.560405  0.397599  0.151933  1.000000  0.528519  0.376101  0.475497  \n",
       "WDC   0.567524  0.372172  0.413085  0.528519  1.000000  0.474558  0.523815  \n",
       "XEL   0.752317  0.456288  0.471935  0.376101  0.474558  1.000000  0.459359  \n",
       "XLNX  0.627892  0.495704  0.366630  0.475497  0.523815  0.459359  1.000000  \n",
       "\n",
       "[100 rows x 100 columns]"
      ]
     },
     "metadata": {},
     "output_type": "display_data"
    }
   ],
   "source": [
    "# Procxessing the data to get the the attributes and features:\n",
    "# Percentage Change, NDX change, correlation matrix\n",
    "stocks2019_cols = list(stocks2019.columns)\n",
    "stocks2019_change = stocks2019[stocks2019_cols[2:]].pct_change().dropna()\n",
    "q2019 = stocks2019[['NDX']].pct_change().dropna()\n",
    "stocks2019_corr = stocks2019_change.corr()\n",
    "display(stocks2019_corr)\n",
    "stocks2019_index = q2019.index.values.tolist()\n",
    "\n",
    "stocks2020_cols = list(stocks2020.columns)\n",
    "stocks2020_change = stocks2020[stocks2020_cols[2:]].pct_change().dropna()\n",
    "q2020 = stocks2020[['NDX']].pct_change().dropna()\n",
    "stocks2020_corr = stocks2020_change.corr()\n",
    "display(stocks2020_corr)\n",
    "stocks2020_index = q2020.index.values.tolist()"
   ]
  },
  {
   "cell_type": "code",
   "execution_count": 6,
   "metadata": {},
   "outputs": [],
   "source": [
    "# Processing the features extracted above\n",
    "n_stocks_2019 = len(stocks2019_corr)\n",
    "stocks2019_names = list(stocks2019_corr.columns)\n",
    "stocks2019_corr_dict = stocks2019_corr.to_dict()\n",
    "stocks2019_returns_dict = stocks2019_change.to_dict()\n",
    "stocks2019_dates = list(stocks2019[stocks2019_cols[0]])\n",
    "\n",
    "n_stocks_2020 = len(stocks2020_corr)\n",
    "stocks2020_names = list(stocks2020_corr.columns)\n",
    "stocks2020_corr_dict = stocks2020_corr.to_dict()\n",
    "stocks2020_returns_dict = stocks2020_change.to_dict()\n",
    "stocks2020_dates = list(stocks2020[stocks2020_cols[0]])"
   ]
  },
  {
   "cell_type": "markdown",
   "metadata": {},
   "source": [
    "## Question 2"
   ]
  },
  {
   "cell_type": "code",
   "execution_count": 7,
   "metadata": {},
   "outputs": [],
   "source": [
    "def stockSelection(m, stock_names, correlation_dict): # Function to select the stocks in the 2_step prcess\n",
    "    # Some minute sanity checks\n",
    "    assert m <= len(stocks2019_names)\n",
    "    assert len(stocks2019_names) <= len(correlation_dict)\n",
    "\n",
    "    stock_selection_model = gp.Model()\n",
    "    stock_selection_model.ModelSense = gp.GRB.MAXIMIZE\n",
    "\n",
    "    x = stock_selection_model.addVars(stock_names,stock_names,vtype='B') # similarity variable\n",
    "    y = stock_selection_model.addVars(stock_names,vtype='B') # limiting variable\n",
    "\n",
    "    # Constraint to select just m stocks\n",
    "    sum_y = 0\n",
    "    for i in stock_names:\n",
    "        sum_y += y[i]\n",
    "    stock_selection_model.addConstr(sum_y == m)\n",
    "\n",
    "    # Constraint to get similar stocks\n",
    "    for i in stock_names:\n",
    "        sum_x = 0\n",
    "        for j in stock_names:\n",
    "            sum_x += x[i, j]\n",
    "        stock_selection_model.addConstr( sum_x == 1)\n",
    "\n",
    "    # Constraint to deselect similar stock\n",
    "    for i in stock_names:\n",
    "        for j in stock_names:\n",
    "            stock_selection_model.addConstr(x[i, j] <= y[j])\n",
    "\n",
    "    # Setting the objective function to maximize the correlation\n",
    "    sum_obj = 0\n",
    "    for i in stock_names:\n",
    "        for j in stock_names:\n",
    "            sum_obj += correlation_dict[i][j] * x[i, j]\n",
    "    stock_selection_model.setObjective(sum_obj)\n",
    "\n",
    "    # Setting model parameters\n",
    "    stock_selection_model.Params.OutputFlag = 0\n",
    "    stock_selection_model.optimize()\n",
    "    \n",
    "    # Converting selected stocks to a list\n",
    "    selectedStocks = []\n",
    "    for i in stock_names:\n",
    "        for j in stock_names:\n",
    "            if x[i,j].X == 1 and j not in selectedStocks:\n",
    "                selectedStocks.append(j)\n",
    "                \n",
    "    return stock_selection_model, selectedStocks"
   ]
  },
  {
   "cell_type": "code",
   "execution_count": 6,
   "metadata": {},
   "outputs": [
    {
     "name": "stdout",
     "output_type": "stream",
     "text": [
      "Set parameter Username\n",
      "Academic license - for non-commercial use only - expires 2024-08-22\n",
      "54.83990652229108\n",
      "['MSFT', 'VRTX', 'MXIM', 'LBTYK', 'XEL']\n"
     ]
    }
   ],
   "source": [
    "# Testing stockSelection for m=5\n",
    "selection_model, selectedStocks = stockSelection(m=5, stock_names=stocks2019_names, correlation_dict=stocks2019_corr_dict)\n",
    "print(selection_model.ObjVal)\n",
    "print(selectedStocks)"
   ]
  },
  {
   "cell_type": "code",
   "execution_count": 11,
   "metadata": {},
   "outputs": [],
   "source": [
    "def portfolioWeights(m,selectedStocks, stock_names, stocks_indices_old, stock_indices_new, \\\n",
    "                     stock_returns_old, stock_returns_new, q, q_new, timeLimit = 300, save=False): # Function to get the model weight (2-steo)\n",
    "    # Minute sanity checks\n",
    "    assert len(q.columns) == 1\n",
    "    assert len(q_new.columns) == 1\n",
    "    \n",
    "    # Converting actual NDX returns provided to a list\n",
    "    q = list(q[list(q.columns)[0]].values)\n",
    "    q_new = list(q_new[list(q_new.columns)[0]].values)\n",
    "\n",
    "    # Intializing the model and setting the model parameters\n",
    "    weight_model = gp.Model()\n",
    "    weight_model.ModelSense = gp.GRB.MINIMIZE\n",
    "    weight_model.Params.OutputFlag = 0\n",
    "    weight_model.Params.TIME_LIMIT = timeLimit\n",
    "\n",
    "    # Decision Variables\n",
    "    weight_SelectedStocks = weight_model.addVars(selectedStocks, ub=[1]*len(selectedStocks)) # variable for weight of selected stock\n",
    "    u = weight_model.addVars(stocks_indices_old) # dummy variable to solve non-linearities\n",
    "\n",
    "    # Constraint for sum of weight = 1\n",
    "    sum_weighgts = 0\n",
    "    for i in selectedStocks:\n",
    "        sum_weighgts += weight_SelectedStocks[i]\n",
    "    weight_model.addConstr(sum_weighgts == 1)\n",
    "\n",
    "    # Constraints to minimize non linearity like min -> |X-1|\n",
    "    for j in stocks_indices_old:\n",
    "        sum_weight_return = 0\n",
    "        for i in selectedStocks:\n",
    "            sum_weight_return += weight_SelectedStocks[i] * stock_returns_old[i][j]\n",
    "        weight_model.addConstr(u[j] >= (q[j-1] - sum_weight_return))\n",
    "        weight_model.addConstr(u[j] >= -(q[j-1] - sum_weight_return))\n",
    "    \n",
    "    # Setting the objective to minimize the absolute errors\n",
    "    sum_obj = 0 \n",
    "    for j in stocks_indices_old:\n",
    "        sum_obj += u[j]\n",
    "    weight_model.setObjective(sum_obj)\n",
    "\n",
    "    weight_model.optimize()        \n",
    "\n",
    "    # Calculating returns from model for the old data\n",
    "    returns_old = []\n",
    "    for j in stocks_indices_old:\n",
    "        sum_return = 0\n",
    "        for i in selectedStocks:\n",
    "            sum_return += weight_SelectedStocks[i].X * stock_returns_old[i][j]\n",
    "        returns_old.append(sum_return)\n",
    "\n",
    "    # Calculating returns from model for the new data\n",
    "    returns_new = []\n",
    "    for j in stock_indices_new:\n",
    "        sum_return = 0\n",
    "        for i in selectedStocks:\n",
    "            sum_return += weight_SelectedStocks[i].X * stock_returns_new[i][j]\n",
    "        returns_new.append(sum_return)\n",
    "    \n",
    "    # Saving the calculated returns as per user's demand\n",
    "    if save:\n",
    "        returns_old_save = []\n",
    "        for j in stocks_indices_old:\n",
    "            sum_return = 0\n",
    "            for i in selectedStocks:\n",
    "                sum_return += weight_SelectedStocks[i].X * stock_returns_old[i][j]\n",
    "            returns_old_save.append([j, q[j-1], sum_return])\n",
    "        returns_old_save = pd.DataFrame(returns_old_save, columns=['Index', 'Index Return', 'Portfolio Return'])\n",
    "        returns_old_save.to_csv(f'Returns_old_m-{m}_2step.csv', index=False)\n",
    "\n",
    "        returns_new_save = []\n",
    "        for j in stock_indices_new:\n",
    "            sum_return = 0\n",
    "            for i in selectedStocks:\n",
    "                sum_return += weight_SelectedStocks[i].X * stock_returns_new[i][j]\n",
    "            returns_new_save.append([j, q_new[j-1], sum_return])\n",
    "        returns_new_save = pd.DataFrame(returns_new_save, columns=['Index', 'Index Return', 'Portfolio Return'])\n",
    "        returns_new_save.to_csv(f'Returns_new_m-{m}_2step.csv', index=False)\n",
    "    \n",
    "    # Saving the weights in a dataframe\n",
    "    selectedStocks_weights = pd.DataFrame(index=stock_names)\n",
    "    selectedStocks_weights[f'm_{m}'] = np.nan\n",
    "    for i in selectedStocks:\n",
    "        selectedStocks_weights[f'm_{m}'].loc[i] = weight_SelectedStocks[i].X\n",
    "    selectedStocks_weights = selectedStocks_weights[selectedStocks_weights[f'm_{m}'].notna()]\n",
    "        \n",
    "    # Evaluating the model on the old and the new data\n",
    "    model_error = weight_model.objVal\n",
    "    new_return_error = sum(abs(np.array(q_new) - np.array(returns_new)))\n",
    "    old_return_error_rmse = np.sqrt(np.mean((np.array(q) - np.array(returns_old))**2))\n",
    "    new_return_error_rmse = np.sqrt(np.mean((np.array(q_new) - np.array(returns_new))**2))\n",
    "        \n",
    "    return weight_model, selectedStocks_weights, model_error, old_return_error_rmse, new_return_error, new_return_error_rmse\n",
    "\n",
    "\n",
    "def portfolioWeights_MIP(m, stock_names, stocks_indices_old, stock_indices_new, \\\n",
    "                     stock_returns_old, stock_returns_new, q, q_new, timeLimit = 300, save=False): # Function to get the model weight (MIP)\n",
    "    # Minute sanity checks\n",
    "    assert len(q.columns) == 1\n",
    "    assert len(q_new.columns) == 1\n",
    "\n",
    "    # Converting actual NDX returns provided to a list\n",
    "    q = list(q[list(q.columns)[0]].values)\n",
    "    q_new = list(q_new[list(q_new.columns)[0]].values)\n",
    "    \n",
    "    # Intializing the model and setting the model parameters\n",
    "    MIP_model = gp.Model()\n",
    "    MIP_model.ModelSense = gp.GRB.MINIMIZE\n",
    "    MIP_model.Params.OutputFlag = 0\n",
    "    MIP_model.Params.TIME_LIMIT = timeLimit\n",
    "    bigM = 1\n",
    "\n",
    "    # Decision Variables\n",
    "    weights = MIP_model.addVars(stock_names) # variable for weight of selected stock\n",
    "    y = MIP_model.addVars(stock_names,vtype='B') # variable to limit the weights or push them to zero - BigM constraint\n",
    "    u = MIP_model.addVars(stocks_indices_old) # dummy variable to solve non-linearities\n",
    "\n",
    "    # Constraint for sum of weight = 1\n",
    "    sum_weights = 0\n",
    "    for i in stock_names:\n",
    "        sum_weights += weights[i]\n",
    "    MIP_model.addConstr(sum_weights == 1)\n",
    "\n",
    "    # Constraints to minimize non linearity like min -> |X-1|\n",
    "    for j in stocks_indices_old:\n",
    "        sum_return = 0\n",
    "        for i in stock_names:\n",
    "            sum_return += weights[i]*stock_returns_old[i][j]\n",
    "        MIP_model.addConstr(u[j] >=  (q[j-1] - sum_return))\n",
    "        MIP_model.addConstr(u[j] >=  -(q[j-1] - sum_return))\n",
    "    \n",
    "    # Setting the bigM constraints\n",
    "    for i in stock_names:\n",
    "        MIP_model.addConstr(weights[i] <= y[i]*bigM)\n",
    "\n",
    "    # Constraint to select the number of constraints specified by the user\n",
    "    sum_y = 0\n",
    "    for i in stock_names:\n",
    "        sum_y += y[i]\n",
    "    MIP_model.addConstr(sum_y == m)\n",
    "\n",
    "    # Setting the objective to minimize the absolute errors\n",
    "    sum_obj = 0\n",
    "    for j in stocks_indices_old:\n",
    "        sum_obj += u[j]\n",
    "    MIP_model.setObjective(sum_obj)\n",
    "    \n",
    "    MIP_model.optimize()\n",
    "    \n",
    "    # Calculating returns from model for the old data\n",
    "    returns_old = []\n",
    "    for j in stocks_indices_old:\n",
    "        sum_return = 0\n",
    "        for i in stock_names:\n",
    "            sum_return += weights[i].X * stock_returns_old[i][j]\n",
    "        returns_old.append(sum_return)\n",
    "\n",
    "    # Calculating returns from model for the new data\n",
    "    returns_new = []\n",
    "    for j in stock_indices_new:\n",
    "        sum_return = 0\n",
    "        for i in stock_names:\n",
    "            sum_return += weights[i].X * stock_returns_new[i][j]\n",
    "        returns_new.append(sum_return)  \n",
    "    \n",
    "    # Saving the calculated returns as per user's demand\n",
    "    if save:\n",
    "        returns_old_save = []\n",
    "        for j in stocks_indices_old:\n",
    "            sum_return = 0\n",
    "            for i in stock_names:\n",
    "                sum_return += weights[i].X * stock_returns_old[i][j]\n",
    "            returns_old_save.append([j, q[j-1], sum_return])\n",
    "        returns_old_save = pd.DataFrame(returns_old_save, columns=['Index', 'Index Return', 'Portfolio Return'])\n",
    "        returns_old_save.to_csv(f'Returns_old_m-{m}_T-{timeLimit}.csv', index=False)\n",
    "\n",
    "        returns_new_save = []\n",
    "        for j in stock_indices_new:\n",
    "            sum_return = 0\n",
    "            for i in stock_names:\n",
    "                sum_return += weights[i].X * stock_returns_new[i][j]\n",
    "            returns_new_save.append([j, q_new[j-1], sum_return])\n",
    "        returns_new_save = pd.DataFrame(returns_new_save, columns=['Index', 'Index Return', 'Portfolio Return'])\n",
    "        returns_new_save.to_csv(f'Returns_new_m-{m}_T-{timeLimit}.csv', index=False)\n",
    "\n",
    "    # Saving the weights in a dataframe\n",
    "    stockWeights = pd.DataFrame(index=stock_names)\n",
    "    stockWeights[f'm_{m}'] = np.nan\n",
    "    for i in stock_names:\n",
    "        stockWeights[f'm_{m}'].loc[i] = weights[i].X\n",
    "    stockWeights = stockWeights[stockWeights[f'm_{m}'].notna()]\n",
    "        \n",
    "    # Evaluating the model on the old and the new data\n",
    "    model_error = MIP_model.objVal\n",
    "    new_return_error = sum(abs(np.array(q_new) - np.array(returns_new)))\n",
    "    old_return_error_rmse = np.sqrt(np.mean((np.array(q) - np.array(returns_old))**2))\n",
    "    new_return_error_rmse = np.sqrt(np.mean((np.array(q_new) - np.array(returns_new))**2))\n",
    "        \n",
    "    return MIP_model, stockWeights, model_error, old_return_error_rmse, new_return_error, new_return_error_rmse"
   ]
  },
  {
   "cell_type": "code",
   "execution_count": 8,
   "metadata": {},
   "outputs": [
    {
     "name": "stdout",
     "output_type": "stream",
     "text": [
      "0.7891782824631471\n",
      "1.1124373455076464\n",
      "0.004399606152430161\n",
      "0.006248354722298066\n"
     ]
    },
    {
     "data": {
      "text/html": [
       "<div>\n",
       "<style scoped>\n",
       "    .dataframe tbody tr th:only-of-type {\n",
       "        vertical-align: middle;\n",
       "    }\n",
       "\n",
       "    .dataframe tbody tr th {\n",
       "        vertical-align: top;\n",
       "    }\n",
       "\n",
       "    .dataframe thead th {\n",
       "        text-align: right;\n",
       "    }\n",
       "</style>\n",
       "<table border=\"1\" class=\"dataframe\">\n",
       "  <thead>\n",
       "    <tr style=\"text-align: right;\">\n",
       "      <th></th>\n",
       "      <th>m_5</th>\n",
       "    </tr>\n",
       "  </thead>\n",
       "  <tbody>\n",
       "    <tr>\n",
       "      <th>LBTYK</th>\n",
       "      <td>0.048862</td>\n",
       "    </tr>\n",
       "    <tr>\n",
       "      <th>MXIM</th>\n",
       "      <td>0.210388</td>\n",
       "    </tr>\n",
       "    <tr>\n",
       "      <th>MSFT</th>\n",
       "      <td>0.580352</td>\n",
       "    </tr>\n",
       "    <tr>\n",
       "      <th>VRTX</th>\n",
       "      <td>0.071190</td>\n",
       "    </tr>\n",
       "    <tr>\n",
       "      <th>XEL</th>\n",
       "      <td>0.089208</td>\n",
       "    </tr>\n",
       "  </tbody>\n",
       "</table>\n",
       "</div>"
      ],
      "text/plain": [
       "            m_5\n",
       "LBTYK  0.048862\n",
       "MXIM   0.210388\n",
       "MSFT   0.580352\n",
       "VRTX   0.071190\n",
       "XEL    0.089208"
      ]
     },
     "metadata": {},
     "output_type": "display_data"
    }
   ],
   "source": [
    "# Getting portfolio weights for the selected 5 stocks\n",
    "weight_model, weight, model_error, old_return_rmse, new_return_error, new_return_rmse = portfolioWeights(m=5, \\\n",
    "                                                                       selectedStocks=selectedStocks, \\\n",
    "                                                                        stock_names=stocks2019_names, \\\n",
    "                                                                        stocks_indices_old=stocks2019_index, \\\n",
    "                                                                        stock_indices_new=stocks2020_index, \\\n",
    "                                                                        stock_returns_old=stocks2019_returns_dict, \\\n",
    "                                                                        stock_returns_new=stocks2020_returns_dict, \\\n",
    "                                                                        q=q2019, \\\n",
    "                                                                        q_new=q2020, \\\n",
    "                                                                        timeLimit=600,\n",
    "                                                                        save=True)\n",
    "print(model_error)\n",
    "print(new_return_error)\n",
    "print(old_return_rmse)\n",
    "print(new_return_rmse)\n",
    "display(weight)"
   ]
  },
  {
   "cell_type": "markdown",
   "metadata": {},
   "source": [
    "## Question 3"
   ]
  },
  {
   "cell_type": "code",
   "execution_count": 9,
   "metadata": {},
   "outputs": [
    {
     "data": {
      "text/html": [
       "<div>\n",
       "<style scoped>\n",
       "    .dataframe tbody tr th:only-of-type {\n",
       "        vertical-align: middle;\n",
       "    }\n",
       "\n",
       "    .dataframe tbody tr th {\n",
       "        vertical-align: top;\n",
       "    }\n",
       "\n",
       "    .dataframe thead th {\n",
       "        text-align: right;\n",
       "    }\n",
       "</style>\n",
       "<table border=\"1\" class=\"dataframe\">\n",
       "  <thead>\n",
       "    <tr style=\"text-align: right;\">\n",
       "      <th></th>\n",
       "      <th>m</th>\n",
       "      <th>#StocksSelected</th>\n",
       "      <th>Selection_Obj_Val</th>\n",
       "      <th>2019_return_error</th>\n",
       "      <th>2019_return_RMSE</th>\n",
       "      <th>2020_return_error</th>\n",
       "      <th>2020_return_RMSE</th>\n",
       "    </tr>\n",
       "  </thead>\n",
       "  <tbody>\n",
       "    <tr>\n",
       "      <th>0</th>\n",
       "      <td>5</td>\n",
       "      <td>5</td>\n",
       "      <td>54.839907</td>\n",
       "      <td>0.789178</td>\n",
       "      <td>0.004400</td>\n",
       "      <td>1.112437</td>\n",
       "      <td>0.006248</td>\n",
       "    </tr>\n",
       "    <tr>\n",
       "      <th>1</th>\n",
       "      <td>10</td>\n",
       "      <td>10</td>\n",
       "      <td>59.331930</td>\n",
       "      <td>0.701218</td>\n",
       "      <td>0.003790</td>\n",
       "      <td>1.102404</td>\n",
       "      <td>0.006221</td>\n",
       "    </tr>\n",
       "    <tr>\n",
       "      <th>2</th>\n",
       "      <td>15</td>\n",
       "      <td>15</td>\n",
       "      <td>63.268591</td>\n",
       "      <td>0.582276</td>\n",
       "      <td>0.003218</td>\n",
       "      <td>1.264689</td>\n",
       "      <td>0.007145</td>\n",
       "    </tr>\n",
       "    <tr>\n",
       "      <th>3</th>\n",
       "      <td>20</td>\n",
       "      <td>20</td>\n",
       "      <td>66.648075</td>\n",
       "      <td>0.478836</td>\n",
       "      <td>0.002653</td>\n",
       "      <td>0.899598</td>\n",
       "      <td>0.005088</td>\n",
       "    </tr>\n",
       "    <tr>\n",
       "      <th>4</th>\n",
       "      <td>25</td>\n",
       "      <td>25</td>\n",
       "      <td>69.764755</td>\n",
       "      <td>0.442966</td>\n",
       "      <td>0.002472</td>\n",
       "      <td>0.805065</td>\n",
       "      <td>0.004772</td>\n",
       "    </tr>\n",
       "    <tr>\n",
       "      <th>5</th>\n",
       "      <td>30</td>\n",
       "      <td>30</td>\n",
       "      <td>72.696797</td>\n",
       "      <td>0.418015</td>\n",
       "      <td>0.002399</td>\n",
       "      <td>0.769110</td>\n",
       "      <td>0.004666</td>\n",
       "    </tr>\n",
       "    <tr>\n",
       "      <th>6</th>\n",
       "      <td>35</td>\n",
       "      <td>35</td>\n",
       "      <td>75.505895</td>\n",
       "      <td>0.382997</td>\n",
       "      <td>0.002185</td>\n",
       "      <td>0.766774</td>\n",
       "      <td>0.004419</td>\n",
       "    </tr>\n",
       "    <tr>\n",
       "      <th>7</th>\n",
       "      <td>40</td>\n",
       "      <td>40</td>\n",
       "      <td>78.259157</td>\n",
       "      <td>0.370517</td>\n",
       "      <td>0.002157</td>\n",
       "      <td>0.791047</td>\n",
       "      <td>0.004471</td>\n",
       "    </tr>\n",
       "    <tr>\n",
       "      <th>8</th>\n",
       "      <td>45</td>\n",
       "      <td>45</td>\n",
       "      <td>80.892084</td>\n",
       "      <td>0.343944</td>\n",
       "      <td>0.002102</td>\n",
       "      <td>0.760495</td>\n",
       "      <td>0.004267</td>\n",
       "    </tr>\n",
       "    <tr>\n",
       "      <th>9</th>\n",
       "      <td>50</td>\n",
       "      <td>50</td>\n",
       "      <td>83.316268</td>\n",
       "      <td>0.332540</td>\n",
       "      <td>0.001968</td>\n",
       "      <td>0.772100</td>\n",
       "      <td>0.004311</td>\n",
       "    </tr>\n",
       "    <tr>\n",
       "      <th>10</th>\n",
       "      <td>55</td>\n",
       "      <td>55</td>\n",
       "      <td>85.636309</td>\n",
       "      <td>0.312249</td>\n",
       "      <td>0.001859</td>\n",
       "      <td>0.796320</td>\n",
       "      <td>0.004528</td>\n",
       "    </tr>\n",
       "    <tr>\n",
       "      <th>11</th>\n",
       "      <td>60</td>\n",
       "      <td>60</td>\n",
       "      <td>87.877505</td>\n",
       "      <td>0.344890</td>\n",
       "      <td>0.002046</td>\n",
       "      <td>1.097304</td>\n",
       "      <td>0.005957</td>\n",
       "    </tr>\n",
       "    <tr>\n",
       "      <th>12</th>\n",
       "      <td>65</td>\n",
       "      <td>65</td>\n",
       "      <td>90.023438</td>\n",
       "      <td>0.177765</td>\n",
       "      <td>0.001060</td>\n",
       "      <td>0.558750</td>\n",
       "      <td>0.002880</td>\n",
       "    </tr>\n",
       "    <tr>\n",
       "      <th>13</th>\n",
       "      <td>70</td>\n",
       "      <td>70</td>\n",
       "      <td>92.062402</td>\n",
       "      <td>0.169824</td>\n",
       "      <td>0.001012</td>\n",
       "      <td>0.557854</td>\n",
       "      <td>0.002955</td>\n",
       "    </tr>\n",
       "    <tr>\n",
       "      <th>14</th>\n",
       "      <td>75</td>\n",
       "      <td>75</td>\n",
       "      <td>94.007810</td>\n",
       "      <td>0.158949</td>\n",
       "      <td>0.000977</td>\n",
       "      <td>0.561073</td>\n",
       "      <td>0.003022</td>\n",
       "    </tr>\n",
       "    <tr>\n",
       "      <th>15</th>\n",
       "      <td>80</td>\n",
       "      <td>80</td>\n",
       "      <td>95.728853</td>\n",
       "      <td>0.147683</td>\n",
       "      <td>0.000884</td>\n",
       "      <td>0.537323</td>\n",
       "      <td>0.002923</td>\n",
       "    </tr>\n",
       "    <tr>\n",
       "      <th>16</th>\n",
       "      <td>85</td>\n",
       "      <td>85</td>\n",
       "      <td>97.212076</td>\n",
       "      <td>0.110861</td>\n",
       "      <td>0.000711</td>\n",
       "      <td>0.451875</td>\n",
       "      <td>0.002455</td>\n",
       "    </tr>\n",
       "    <tr>\n",
       "      <th>17</th>\n",
       "      <td>90</td>\n",
       "      <td>90</td>\n",
       "      <td>98.517121</td>\n",
       "      <td>0.053779</td>\n",
       "      <td>0.000350</td>\n",
       "      <td>0.367790</td>\n",
       "      <td>0.002051</td>\n",
       "    </tr>\n",
       "    <tr>\n",
       "      <th>18</th>\n",
       "      <td>95</td>\n",
       "      <td>95</td>\n",
       "      <td>99.530702</td>\n",
       "      <td>0.048666</td>\n",
       "      <td>0.000322</td>\n",
       "      <td>0.368971</td>\n",
       "      <td>0.002077</td>\n",
       "    </tr>\n",
       "    <tr>\n",
       "      <th>19</th>\n",
       "      <td>100</td>\n",
       "      <td>100</td>\n",
       "      <td>100.000000</td>\n",
       "      <td>0.044911</td>\n",
       "      <td>0.000299</td>\n",
       "      <td>0.368671</td>\n",
       "      <td>0.002082</td>\n",
       "    </tr>\n",
       "  </tbody>\n",
       "</table>\n",
       "</div>"
      ],
      "text/plain": [
       "      m  #StocksSelected  Selection_Obj_Val  2019_return_error  \\\n",
       "0     5                5          54.839907           0.789178   \n",
       "1    10               10          59.331930           0.701218   \n",
       "2    15               15          63.268591           0.582276   \n",
       "3    20               20          66.648075           0.478836   \n",
       "4    25               25          69.764755           0.442966   \n",
       "5    30               30          72.696797           0.418015   \n",
       "6    35               35          75.505895           0.382997   \n",
       "7    40               40          78.259157           0.370517   \n",
       "8    45               45          80.892084           0.343944   \n",
       "9    50               50          83.316268           0.332540   \n",
       "10   55               55          85.636309           0.312249   \n",
       "11   60               60          87.877505           0.344890   \n",
       "12   65               65          90.023438           0.177765   \n",
       "13   70               70          92.062402           0.169824   \n",
       "14   75               75          94.007810           0.158949   \n",
       "15   80               80          95.728853           0.147683   \n",
       "16   85               85          97.212076           0.110861   \n",
       "17   90               90          98.517121           0.053779   \n",
       "18   95               95          99.530702           0.048666   \n",
       "19  100              100         100.000000           0.044911   \n",
       "\n",
       "    2019_return_RMSE  2020_return_error  2020_return_RMSE  \n",
       "0           0.004400           1.112437          0.006248  \n",
       "1           0.003790           1.102404          0.006221  \n",
       "2           0.003218           1.264689          0.007145  \n",
       "3           0.002653           0.899598          0.005088  \n",
       "4           0.002472           0.805065          0.004772  \n",
       "5           0.002399           0.769110          0.004666  \n",
       "6           0.002185           0.766774          0.004419  \n",
       "7           0.002157           0.791047          0.004471  \n",
       "8           0.002102           0.760495          0.004267  \n",
       "9           0.001968           0.772100          0.004311  \n",
       "10          0.001859           0.796320          0.004528  \n",
       "11          0.002046           1.097304          0.005957  \n",
       "12          0.001060           0.558750          0.002880  \n",
       "13          0.001012           0.557854          0.002955  \n",
       "14          0.000977           0.561073          0.003022  \n",
       "15          0.000884           0.537323          0.002923  \n",
       "16          0.000711           0.451875          0.002455  \n",
       "17          0.000350           0.367790          0.002051  \n",
       "18          0.000322           0.368971          0.002077  \n",
       "19          0.000299           0.368671          0.002082  "
      ]
     },
     "execution_count": 9,
     "metadata": {},
     "output_type": "execute_result"
    }
   ],
   "source": [
    "# Running the 2-step approach for a wide array of selected stocks and saving the results\n",
    "tries = []\n",
    "i = 5\n",
    "while i <= len(stocks2019_names):\n",
    "    tries.append(i)\n",
    "    i += 5\n",
    "\n",
    "data = []\n",
    "for try_ in tries:\n",
    "    row = []\n",
    "    row.append(try_)\n",
    "\n",
    "    selection_model, selectedStocks = stockSelection(m=try_, stock_names=stocks2019_names, correlation_dict=stocks2019_corr_dict)\n",
    "    row.append(len(selectedStocks))\n",
    "    row.append(selection_model.ObjVal)\n",
    "\n",
    "    weight_model, weight, model_error, old_return_rmse, new_return_error, new_return_rmse = portfolioWeights(m=try_, \\\n",
    "                                                                                                selectedStocks=selectedStocks, \\\n",
    "                                                                                                stock_names=stocks2019_names, \\\n",
    "                                                                                                stocks_indices_old=stocks2019_index, \\\n",
    "                                                                                                stock_indices_new=stocks2020_index, \\\n",
    "                                                                                                stock_returns_old=stocks2019_returns_dict, \\\n",
    "                                                                                                stock_returns_new=stocks2020_returns_dict, \\\n",
    "                                                                                                q=q2019, \\\n",
    "                                                                                                q_new=q2020, \\\n",
    "                                                                                                timeLimit=600,\n",
    "                                                                                                save=False)\n",
    "    \n",
    "    row.append(model_error)\n",
    "    row.append(old_return_rmse)\n",
    "    row.append(new_return_error)\n",
    "    row.append(new_return_rmse)\n",
    "\n",
    "    data.append(row)\n",
    "\n",
    "cols = ['m', '#StocksSelected', 'Selection_Obj_Val', '2019_return_error', '2019_return_RMSE', '2020_return_error', '2020_return_RMSE']\n",
    "data = pd.DataFrame(data, columns=cols)\n",
    "data.to_csv(\"stockSelectionApproach.csv\", index=False)\n",
    "data"
   ]
  },
  {
   "cell_type": "markdown",
   "metadata": {},
   "source": [
    "## Question 4"
   ]
  },
  {
   "cell_type": "code",
   "execution_count": 10,
   "metadata": {},
   "outputs": [
    {
     "name": "stderr",
     "output_type": "stream",
     "text": [
      "Calculating for m = 100: 100%|██████████| 20/20 [05:22<00:00, 16.14s/it]\n"
     ]
    },
    {
     "data": {
      "text/html": [
       "<div>\n",
       "<style scoped>\n",
       "    .dataframe tbody tr th:only-of-type {\n",
       "        vertical-align: middle;\n",
       "    }\n",
       "\n",
       "    .dataframe tbody tr th {\n",
       "        vertical-align: top;\n",
       "    }\n",
       "\n",
       "    .dataframe thead th {\n",
       "        text-align: right;\n",
       "    }\n",
       "</style>\n",
       "<table border=\"1\" class=\"dataframe\">\n",
       "  <thead>\n",
       "    <tr style=\"text-align: right;\">\n",
       "      <th></th>\n",
       "      <th>m</th>\n",
       "      <th>#StocksSelected</th>\n",
       "      <th>2019_return_error</th>\n",
       "      <th>2019_return_RMSE</th>\n",
       "      <th>2020_return_error</th>\n",
       "      <th>2020_return_RMSE</th>\n",
       "    </tr>\n",
       "  </thead>\n",
       "  <tbody>\n",
       "    <tr>\n",
       "      <th>0</th>\n",
       "      <td>5</td>\n",
       "      <td>5</td>\n",
       "      <td>0.499259</td>\n",
       "      <td>0.002859</td>\n",
       "      <td>0.777362</td>\n",
       "      <td>0.004181</td>\n",
       "    </tr>\n",
       "    <tr>\n",
       "      <th>1</th>\n",
       "      <td>10</td>\n",
       "      <td>10</td>\n",
       "      <td>0.304668</td>\n",
       "      <td>0.001663</td>\n",
       "      <td>0.640518</td>\n",
       "      <td>0.003533</td>\n",
       "    </tr>\n",
       "    <tr>\n",
       "      <th>2</th>\n",
       "      <td>15</td>\n",
       "      <td>15</td>\n",
       "      <td>0.234798</td>\n",
       "      <td>0.001322</td>\n",
       "      <td>0.698479</td>\n",
       "      <td>0.003699</td>\n",
       "    </tr>\n",
       "    <tr>\n",
       "      <th>3</th>\n",
       "      <td>20</td>\n",
       "      <td>21</td>\n",
       "      <td>0.209536</td>\n",
       "      <td>0.001216</td>\n",
       "      <td>0.608830</td>\n",
       "      <td>0.003294</td>\n",
       "    </tr>\n",
       "    <tr>\n",
       "      <th>4</th>\n",
       "      <td>25</td>\n",
       "      <td>25</td>\n",
       "      <td>0.235961</td>\n",
       "      <td>0.001332</td>\n",
       "      <td>0.655472</td>\n",
       "      <td>0.003458</td>\n",
       "    </tr>\n",
       "    <tr>\n",
       "      <th>5</th>\n",
       "      <td>30</td>\n",
       "      <td>29</td>\n",
       "      <td>0.182629</td>\n",
       "      <td>0.000994</td>\n",
       "      <td>0.485423</td>\n",
       "      <td>0.002605</td>\n",
       "    </tr>\n",
       "    <tr>\n",
       "      <th>6</th>\n",
       "      <td>35</td>\n",
       "      <td>35</td>\n",
       "      <td>0.172666</td>\n",
       "      <td>0.000975</td>\n",
       "      <td>0.476920</td>\n",
       "      <td>0.002570</td>\n",
       "    </tr>\n",
       "    <tr>\n",
       "      <th>7</th>\n",
       "      <td>40</td>\n",
       "      <td>39</td>\n",
       "      <td>0.135122</td>\n",
       "      <td>0.000782</td>\n",
       "      <td>0.411286</td>\n",
       "      <td>0.002287</td>\n",
       "    </tr>\n",
       "    <tr>\n",
       "      <th>8</th>\n",
       "      <td>45</td>\n",
       "      <td>45</td>\n",
       "      <td>0.103895</td>\n",
       "      <td>0.000612</td>\n",
       "      <td>0.378738</td>\n",
       "      <td>0.002080</td>\n",
       "    </tr>\n",
       "    <tr>\n",
       "      <th>9</th>\n",
       "      <td>50</td>\n",
       "      <td>50</td>\n",
       "      <td>0.072081</td>\n",
       "      <td>0.000445</td>\n",
       "      <td>0.379610</td>\n",
       "      <td>0.002071</td>\n",
       "    </tr>\n",
       "    <tr>\n",
       "      <th>10</th>\n",
       "      <td>55</td>\n",
       "      <td>54</td>\n",
       "      <td>0.072243</td>\n",
       "      <td>0.000442</td>\n",
       "      <td>0.404361</td>\n",
       "      <td>0.002263</td>\n",
       "    </tr>\n",
       "    <tr>\n",
       "      <th>11</th>\n",
       "      <td>60</td>\n",
       "      <td>59</td>\n",
       "      <td>0.062469</td>\n",
       "      <td>0.000398</td>\n",
       "      <td>0.387233</td>\n",
       "      <td>0.002117</td>\n",
       "    </tr>\n",
       "    <tr>\n",
       "      <th>12</th>\n",
       "      <td>65</td>\n",
       "      <td>65</td>\n",
       "      <td>0.052271</td>\n",
       "      <td>0.000316</td>\n",
       "      <td>0.367752</td>\n",
       "      <td>0.002064</td>\n",
       "    </tr>\n",
       "    <tr>\n",
       "      <th>13</th>\n",
       "      <td>70</td>\n",
       "      <td>70</td>\n",
       "      <td>0.048280</td>\n",
       "      <td>0.000309</td>\n",
       "      <td>0.363705</td>\n",
       "      <td>0.002022</td>\n",
       "    </tr>\n",
       "    <tr>\n",
       "      <th>14</th>\n",
       "      <td>75</td>\n",
       "      <td>75</td>\n",
       "      <td>0.046548</td>\n",
       "      <td>0.000300</td>\n",
       "      <td>0.369853</td>\n",
       "      <td>0.002086</td>\n",
       "    </tr>\n",
       "    <tr>\n",
       "      <th>15</th>\n",
       "      <td>80</td>\n",
       "      <td>80</td>\n",
       "      <td>0.045227</td>\n",
       "      <td>0.000296</td>\n",
       "      <td>0.370629</td>\n",
       "      <td>0.002095</td>\n",
       "    </tr>\n",
       "    <tr>\n",
       "      <th>16</th>\n",
       "      <td>85</td>\n",
       "      <td>85</td>\n",
       "      <td>0.044966</td>\n",
       "      <td>0.000301</td>\n",
       "      <td>0.361019</td>\n",
       "      <td>0.002044</td>\n",
       "    </tr>\n",
       "    <tr>\n",
       "      <th>17</th>\n",
       "      <td>90</td>\n",
       "      <td>88</td>\n",
       "      <td>0.044911</td>\n",
       "      <td>0.000299</td>\n",
       "      <td>0.368671</td>\n",
       "      <td>0.002082</td>\n",
       "    </tr>\n",
       "    <tr>\n",
       "      <th>18</th>\n",
       "      <td>95</td>\n",
       "      <td>88</td>\n",
       "      <td>0.044911</td>\n",
       "      <td>0.000299</td>\n",
       "      <td>0.368671</td>\n",
       "      <td>0.002082</td>\n",
       "    </tr>\n",
       "    <tr>\n",
       "      <th>19</th>\n",
       "      <td>100</td>\n",
       "      <td>88</td>\n",
       "      <td>0.044911</td>\n",
       "      <td>0.000299</td>\n",
       "      <td>0.368671</td>\n",
       "      <td>0.002082</td>\n",
       "    </tr>\n",
       "  </tbody>\n",
       "</table>\n",
       "</div>"
      ],
      "text/plain": [
       "      m  #StocksSelected  2019_return_error  2019_return_RMSE  \\\n",
       "0     5                5           0.499259          0.002859   \n",
       "1    10               10           0.304668          0.001663   \n",
       "2    15               15           0.234798          0.001322   \n",
       "3    20               21           0.209536          0.001216   \n",
       "4    25               25           0.235961          0.001332   \n",
       "5    30               29           0.182629          0.000994   \n",
       "6    35               35           0.172666          0.000975   \n",
       "7    40               39           0.135122          0.000782   \n",
       "8    45               45           0.103895          0.000612   \n",
       "9    50               50           0.072081          0.000445   \n",
       "10   55               54           0.072243          0.000442   \n",
       "11   60               59           0.062469          0.000398   \n",
       "12   65               65           0.052271          0.000316   \n",
       "13   70               70           0.048280          0.000309   \n",
       "14   75               75           0.046548          0.000300   \n",
       "15   80               80           0.045227          0.000296   \n",
       "16   85               85           0.044966          0.000301   \n",
       "17   90               88           0.044911          0.000299   \n",
       "18   95               88           0.044911          0.000299   \n",
       "19  100               88           0.044911          0.000299   \n",
       "\n",
       "    2020_return_error  2020_return_RMSE  \n",
       "0            0.777362          0.004181  \n",
       "1            0.640518          0.003533  \n",
       "2            0.698479          0.003699  \n",
       "3            0.608830          0.003294  \n",
       "4            0.655472          0.003458  \n",
       "5            0.485423          0.002605  \n",
       "6            0.476920          0.002570  \n",
       "7            0.411286          0.002287  \n",
       "8            0.378738          0.002080  \n",
       "9            0.379610          0.002071  \n",
       "10           0.404361          0.002263  \n",
       "11           0.387233          0.002117  \n",
       "12           0.367752          0.002064  \n",
       "13           0.363705          0.002022  \n",
       "14           0.369853          0.002086  \n",
       "15           0.370629          0.002095  \n",
       "16           0.361019          0.002044  \n",
       "17           0.368671          0.002082  \n",
       "18           0.368671          0.002082  \n",
       "19           0.368671          0.002082  "
      ]
     },
     "execution_count": 10,
     "metadata": {},
     "output_type": "execute_result"
    }
   ],
   "source": [
    "# Running the MIP approach with a time limit of 20 secs for a wide array of selected stocks and saving the results\n",
    "tries = []\n",
    "i = 5\n",
    "while i <= len(stocks2019_names):\n",
    "    tries.append(i)\n",
    "    i += 5\n",
    "\n",
    "# tries = [90, 95]\n",
    "data = []\n",
    "for try_ in (pbar:= tqdm(tries)):\n",
    "    pbar.set_description(f\"Calculating for m = {try_}\")\n",
    "    row = []\n",
    "    row.append(try_)\n",
    "    \n",
    "    weight_model, weight, model_error, old_return_rmse, new_return_error, new_return_rmse = portfolioWeights_MIP(m=try_, \\\n",
    "                                                                            stock_names=stocks2019_names, \\\n",
    "                                                                            stocks_indices_old=stocks2019_index, \\\n",
    "                                                                            stock_indices_new=stocks2020_index, \\\n",
    "                                                                            stock_returns_old=stocks2019_returns_dict, \\\n",
    "                                                                            stock_returns_new=stocks2020_returns_dict, \\\n",
    "                                                                            q=q2019, \\\n",
    "                                                                            q_new=q2020, \\\n",
    "                                                                            timeLimit=20,\n",
    "                                                                            save=False)\n",
    "    \n",
    "    weight = weight.loc[weight[f\"m_{try_}\"] > 0]\n",
    "    \n",
    "    row.append(len(weight))\n",
    "    row.append(model_error)\n",
    "    row.append(old_return_rmse)\n",
    "    row.append(new_return_error)\n",
    "    row.append(new_return_rmse)\n",
    "\n",
    "    data.append(row)\n",
    "\n",
    "cols = ['m', '#StocksSelected', '2019_return_error', '2019_return_RMSE', '2020_return_error', '2020_return_RMSE']\n",
    "data = pd.DataFrame(data, columns=cols)\n",
    "data.to_csv(\"MIPApproach_T-20.csv\", index=False)\n",
    "data"
   ]
  },
  {
   "cell_type": "code",
   "execution_count": 13,
   "metadata": {},
   "outputs": [
    {
     "name": "stdout",
     "output_type": "stream",
     "text": [
      "0.49925869205463597\n",
      "0.0028589246578478284\n",
      "0.7773624845503464\n",
      "0.00418077151184521\n"
     ]
    },
    {
     "data": {
      "text/html": [
       "<div>\n",
       "<style scoped>\n",
       "    .dataframe tbody tr th:only-of-type {\n",
       "        vertical-align: middle;\n",
       "    }\n",
       "\n",
       "    .dataframe tbody tr th {\n",
       "        vertical-align: top;\n",
       "    }\n",
       "\n",
       "    .dataframe thead th {\n",
       "        text-align: right;\n",
       "    }\n",
       "</style>\n",
       "<table border=\"1\" class=\"dataframe\">\n",
       "  <thead>\n",
       "    <tr style=\"text-align: right;\">\n",
       "      <th></th>\n",
       "      <th>m_5</th>\n",
       "    </tr>\n",
       "  </thead>\n",
       "  <tbody>\n",
       "    <tr>\n",
       "      <th>ATVI</th>\n",
       "      <td>0.0</td>\n",
       "    </tr>\n",
       "    <tr>\n",
       "      <th>ADBE</th>\n",
       "      <td>0.0</td>\n",
       "    </tr>\n",
       "    <tr>\n",
       "      <th>AMD</th>\n",
       "      <td>0.0</td>\n",
       "    </tr>\n",
       "    <tr>\n",
       "      <th>ALXN</th>\n",
       "      <td>0.0</td>\n",
       "    </tr>\n",
       "    <tr>\n",
       "      <th>ALGN</th>\n",
       "      <td>0.0</td>\n",
       "    </tr>\n",
       "    <tr>\n",
       "      <th>...</th>\n",
       "      <td>...</td>\n",
       "    </tr>\n",
       "    <tr>\n",
       "      <th>WBA</th>\n",
       "      <td>0.0</td>\n",
       "    </tr>\n",
       "    <tr>\n",
       "      <th>WDAY</th>\n",
       "      <td>0.0</td>\n",
       "    </tr>\n",
       "    <tr>\n",
       "      <th>WDC</th>\n",
       "      <td>0.0</td>\n",
       "    </tr>\n",
       "    <tr>\n",
       "      <th>XEL</th>\n",
       "      <td>0.0</td>\n",
       "    </tr>\n",
       "    <tr>\n",
       "      <th>XLNX</th>\n",
       "      <td>0.0</td>\n",
       "    </tr>\n",
       "  </tbody>\n",
       "</table>\n",
       "<p>100 rows × 1 columns</p>\n",
       "</div>"
      ],
      "text/plain": [
       "      m_5\n",
       "ATVI  0.0\n",
       "ADBE  0.0\n",
       "AMD   0.0\n",
       "ALXN  0.0\n",
       "ALGN  0.0\n",
       "...   ...\n",
       "WBA   0.0\n",
       "WDAY  0.0\n",
       "WDC   0.0\n",
       "XEL   0.0\n",
       "XLNX  0.0\n",
       "\n",
       "[100 rows x 1 columns]"
      ]
     },
     "metadata": {},
     "output_type": "display_data"
    }
   ],
   "source": [
    "# A sample run for somparison with MIP approach with a timelimit of 3600 sec\n",
    "weight_model, weight, model_error, old_return_rmse, new_return_error, new_return_rmse = portfolioWeights_MIP(m=5, \\\n",
    "                                                                        stock_names=stocks2019_names, \\\n",
    "                                                                        stocks_indices_old=stocks2019_index, \\\n",
    "                                                                        stock_indices_new=stocks2020_index, \\\n",
    "                                                                        stock_returns_old=stocks2019_returns_dict, \\\n",
    "                                                                        stock_returns_new=stocks2020_returns_dict, \\\n",
    "                                                                        q=q2019, \\\n",
    "                                                                        q_new=q2020, \\\n",
    "                                                                        timeLimit=3600,\n",
    "                                                                        save=True)\n",
    "print(model_error)\n",
    "print(old_return_rmse)\n",
    "print(new_return_error)\n",
    "print(new_return_rmse)\n",
    "display(weight)"
   ]
  },
  {
   "cell_type": "code",
   "execution_count": 20,
   "metadata": {},
   "outputs": [
    {
     "name": "stdout",
     "output_type": "stream",
     "text": [
      "0.0449108164083929\n",
      "0.0002989428739374261\n",
      "0.36867085361031715\n",
      "0.0020819640068757868\n"
     ]
    },
    {
     "data": {
      "text/html": [
       "<div>\n",
       "<style scoped>\n",
       "    .dataframe tbody tr th:only-of-type {\n",
       "        vertical-align: middle;\n",
       "    }\n",
       "\n",
       "    .dataframe tbody tr th {\n",
       "        vertical-align: top;\n",
       "    }\n",
       "\n",
       "    .dataframe thead th {\n",
       "        text-align: right;\n",
       "    }\n",
       "</style>\n",
       "<table border=\"1\" class=\"dataframe\">\n",
       "  <thead>\n",
       "    <tr style=\"text-align: right;\">\n",
       "      <th></th>\n",
       "      <th>m_100</th>\n",
       "    </tr>\n",
       "  </thead>\n",
       "  <tbody>\n",
       "    <tr>\n",
       "      <th>ATVI</th>\n",
       "      <td>0.004223</td>\n",
       "    </tr>\n",
       "    <tr>\n",
       "      <th>ADBE</th>\n",
       "      <td>0.017138</td>\n",
       "    </tr>\n",
       "    <tr>\n",
       "      <th>AMD</th>\n",
       "      <td>0.004037</td>\n",
       "    </tr>\n",
       "    <tr>\n",
       "      <th>ALXN</th>\n",
       "      <td>0.002450</td>\n",
       "    </tr>\n",
       "    <tr>\n",
       "      <th>ALGN</th>\n",
       "      <td>0.000000</td>\n",
       "    </tr>\n",
       "    <tr>\n",
       "      <th>...</th>\n",
       "      <td>...</td>\n",
       "    </tr>\n",
       "    <tr>\n",
       "      <th>WBA</th>\n",
       "      <td>0.009130</td>\n",
       "    </tr>\n",
       "    <tr>\n",
       "      <th>WDAY</th>\n",
       "      <td>0.002555</td>\n",
       "    </tr>\n",
       "    <tr>\n",
       "      <th>WDC</th>\n",
       "      <td>0.000000</td>\n",
       "    </tr>\n",
       "    <tr>\n",
       "      <th>XEL</th>\n",
       "      <td>0.003662</td>\n",
       "    </tr>\n",
       "    <tr>\n",
       "      <th>XLNX</th>\n",
       "      <td>0.005442</td>\n",
       "    </tr>\n",
       "  </tbody>\n",
       "</table>\n",
       "<p>100 rows × 1 columns</p>\n",
       "</div>"
      ],
      "text/plain": [
       "         m_100\n",
       "ATVI  0.004223\n",
       "ADBE  0.017138\n",
       "AMD   0.004037\n",
       "ALXN  0.002450\n",
       "ALGN  0.000000\n",
       "...        ...\n",
       "WBA   0.009130\n",
       "WDAY  0.002555\n",
       "WDC   0.000000\n",
       "XEL   0.003662\n",
       "XLNX  0.005442\n",
       "\n",
       "[100 rows x 1 columns]"
      ]
     },
     "metadata": {},
     "output_type": "display_data"
    }
   ],
   "source": [
    "# A sample run for somparison with MIP approach with a timelimit of 3600 sec\n",
    "weight_model, weight, model_error, old_return_rmse, new_return_error, new_return_rmse = portfolioWeights_MIP(m=100, \\\n",
    "                                                                        stock_names=stocks2019_names, \\\n",
    "                                                                        stocks_indices_old=stocks2019_index, \\\n",
    "                                                                        stock_indices_new=stocks2020_index, \\\n",
    "                                                                        stock_returns_old=stocks2019_returns_dict, \\\n",
    "                                                                        stock_returns_new=stocks2020_returns_dict, \\\n",
    "                                                                        q=q2019, \\\n",
    "                                                                        q_new=q2020, \\\n",
    "                                                                        timeLimit=3600,\n",
    "                                                                        save=True)\n",
    "print(model_error)\n",
    "print(old_return_rmse)\n",
    "print(new_return_error)\n",
    "print(new_return_rmse)\n",
    "display(weight)\n",
    "weight.to_csv('weights_m-100_T-3600.csv', index=True)"
   ]
  },
  {
   "cell_type": "code",
   "execution_count": 11,
   "metadata": {},
   "outputs": [
    {
     "name": "stderr",
     "output_type": "stream",
     "text": [
      "Calculating for m = 100: 100%|██████████| 20/20 [13:27:04<00:00, 2421.20s/it] \n"
     ]
    },
    {
     "data": {
      "text/html": [
       "<div>\n",
       "<style scoped>\n",
       "    .dataframe tbody tr th:only-of-type {\n",
       "        vertical-align: middle;\n",
       "    }\n",
       "\n",
       "    .dataframe tbody tr th {\n",
       "        vertical-align: top;\n",
       "    }\n",
       "\n",
       "    .dataframe thead th {\n",
       "        text-align: right;\n",
       "    }\n",
       "</style>\n",
       "<table border=\"1\" class=\"dataframe\">\n",
       "  <thead>\n",
       "    <tr style=\"text-align: right;\">\n",
       "      <th></th>\n",
       "      <th>m</th>\n",
       "      <th>#StocksSelected</th>\n",
       "      <th>2019_return_error</th>\n",
       "      <th>2019_return_RMSE</th>\n",
       "      <th>2020_return_error</th>\n",
       "      <th>2020_return_RMSE</th>\n",
       "    </tr>\n",
       "  </thead>\n",
       "  <tbody>\n",
       "    <tr>\n",
       "      <th>0</th>\n",
       "      <td>5</td>\n",
       "      <td>5</td>\n",
       "      <td>0.499259</td>\n",
       "      <td>0.002859</td>\n",
       "      <td>0.777362</td>\n",
       "      <td>0.004181</td>\n",
       "    </tr>\n",
       "    <tr>\n",
       "      <th>1</th>\n",
       "      <td>10</td>\n",
       "      <td>10</td>\n",
       "      <td>0.290137</td>\n",
       "      <td>0.001564</td>\n",
       "      <td>0.753372</td>\n",
       "      <td>0.004347</td>\n",
       "    </tr>\n",
       "    <tr>\n",
       "      <th>2</th>\n",
       "      <td>15</td>\n",
       "      <td>15</td>\n",
       "      <td>0.207520</td>\n",
       "      <td>0.001198</td>\n",
       "      <td>0.636754</td>\n",
       "      <td>0.003357</td>\n",
       "    </tr>\n",
       "    <tr>\n",
       "      <th>3</th>\n",
       "      <td>20</td>\n",
       "      <td>20</td>\n",
       "      <td>0.157501</td>\n",
       "      <td>0.000914</td>\n",
       "      <td>0.559464</td>\n",
       "      <td>0.002906</td>\n",
       "    </tr>\n",
       "    <tr>\n",
       "      <th>4</th>\n",
       "      <td>25</td>\n",
       "      <td>25</td>\n",
       "      <td>0.133442</td>\n",
       "      <td>0.000776</td>\n",
       "      <td>0.478015</td>\n",
       "      <td>0.002620</td>\n",
       "    </tr>\n",
       "    <tr>\n",
       "      <th>5</th>\n",
       "      <td>30</td>\n",
       "      <td>30</td>\n",
       "      <td>0.105653</td>\n",
       "      <td>0.000616</td>\n",
       "      <td>0.491623</td>\n",
       "      <td>0.002564</td>\n",
       "    </tr>\n",
       "    <tr>\n",
       "      <th>6</th>\n",
       "      <td>35</td>\n",
       "      <td>35</td>\n",
       "      <td>0.092986</td>\n",
       "      <td>0.000565</td>\n",
       "      <td>0.476436</td>\n",
       "      <td>0.002609</td>\n",
       "    </tr>\n",
       "    <tr>\n",
       "      <th>7</th>\n",
       "      <td>40</td>\n",
       "      <td>40</td>\n",
       "      <td>0.078577</td>\n",
       "      <td>0.000455</td>\n",
       "      <td>0.408250</td>\n",
       "      <td>0.002210</td>\n",
       "    </tr>\n",
       "    <tr>\n",
       "      <th>8</th>\n",
       "      <td>45</td>\n",
       "      <td>45</td>\n",
       "      <td>0.067697</td>\n",
       "      <td>0.000436</td>\n",
       "      <td>0.406685</td>\n",
       "      <td>0.002198</td>\n",
       "    </tr>\n",
       "    <tr>\n",
       "      <th>9</th>\n",
       "      <td>50</td>\n",
       "      <td>50</td>\n",
       "      <td>0.060979</td>\n",
       "      <td>0.000379</td>\n",
       "      <td>0.391677</td>\n",
       "      <td>0.002157</td>\n",
       "    </tr>\n",
       "    <tr>\n",
       "      <th>10</th>\n",
       "      <td>55</td>\n",
       "      <td>55</td>\n",
       "      <td>0.056206</td>\n",
       "      <td>0.000389</td>\n",
       "      <td>0.376091</td>\n",
       "      <td>0.002084</td>\n",
       "    </tr>\n",
       "    <tr>\n",
       "      <th>11</th>\n",
       "      <td>60</td>\n",
       "      <td>60</td>\n",
       "      <td>0.052442</td>\n",
       "      <td>0.000349</td>\n",
       "      <td>0.373526</td>\n",
       "      <td>0.002082</td>\n",
       "    </tr>\n",
       "    <tr>\n",
       "      <th>12</th>\n",
       "      <td>65</td>\n",
       "      <td>65</td>\n",
       "      <td>0.049173</td>\n",
       "      <td>0.000315</td>\n",
       "      <td>0.369197</td>\n",
       "      <td>0.002059</td>\n",
       "    </tr>\n",
       "    <tr>\n",
       "      <th>13</th>\n",
       "      <td>70</td>\n",
       "      <td>70</td>\n",
       "      <td>0.047488</td>\n",
       "      <td>0.000312</td>\n",
       "      <td>0.360502</td>\n",
       "      <td>0.002015</td>\n",
       "    </tr>\n",
       "    <tr>\n",
       "      <th>14</th>\n",
       "      <td>75</td>\n",
       "      <td>75</td>\n",
       "      <td>0.046042</td>\n",
       "      <td>0.000304</td>\n",
       "      <td>0.362995</td>\n",
       "      <td>0.002046</td>\n",
       "    </tr>\n",
       "    <tr>\n",
       "      <th>15</th>\n",
       "      <td>80</td>\n",
       "      <td>80</td>\n",
       "      <td>0.045227</td>\n",
       "      <td>0.000296</td>\n",
       "      <td>0.370629</td>\n",
       "      <td>0.002095</td>\n",
       "    </tr>\n",
       "    <tr>\n",
       "      <th>16</th>\n",
       "      <td>85</td>\n",
       "      <td>85</td>\n",
       "      <td>0.044966</td>\n",
       "      <td>0.000301</td>\n",
       "      <td>0.361019</td>\n",
       "      <td>0.002044</td>\n",
       "    </tr>\n",
       "    <tr>\n",
       "      <th>17</th>\n",
       "      <td>90</td>\n",
       "      <td>88</td>\n",
       "      <td>0.044911</td>\n",
       "      <td>0.000299</td>\n",
       "      <td>0.368671</td>\n",
       "      <td>0.002082</td>\n",
       "    </tr>\n",
       "    <tr>\n",
       "      <th>18</th>\n",
       "      <td>95</td>\n",
       "      <td>88</td>\n",
       "      <td>0.044911</td>\n",
       "      <td>0.000299</td>\n",
       "      <td>0.368671</td>\n",
       "      <td>0.002082</td>\n",
       "    </tr>\n",
       "    <tr>\n",
       "      <th>19</th>\n",
       "      <td>100</td>\n",
       "      <td>88</td>\n",
       "      <td>0.044911</td>\n",
       "      <td>0.000299</td>\n",
       "      <td>0.368671</td>\n",
       "      <td>0.002082</td>\n",
       "    </tr>\n",
       "  </tbody>\n",
       "</table>\n",
       "</div>"
      ],
      "text/plain": [
       "      m  #StocksSelected  2019_return_error  2019_return_RMSE  \\\n",
       "0     5                5           0.499259          0.002859   \n",
       "1    10               10           0.290137          0.001564   \n",
       "2    15               15           0.207520          0.001198   \n",
       "3    20               20           0.157501          0.000914   \n",
       "4    25               25           0.133442          0.000776   \n",
       "5    30               30           0.105653          0.000616   \n",
       "6    35               35           0.092986          0.000565   \n",
       "7    40               40           0.078577          0.000455   \n",
       "8    45               45           0.067697          0.000436   \n",
       "9    50               50           0.060979          0.000379   \n",
       "10   55               55           0.056206          0.000389   \n",
       "11   60               60           0.052442          0.000349   \n",
       "12   65               65           0.049173          0.000315   \n",
       "13   70               70           0.047488          0.000312   \n",
       "14   75               75           0.046042          0.000304   \n",
       "15   80               80           0.045227          0.000296   \n",
       "16   85               85           0.044966          0.000301   \n",
       "17   90               88           0.044911          0.000299   \n",
       "18   95               88           0.044911          0.000299   \n",
       "19  100               88           0.044911          0.000299   \n",
       "\n",
       "    2020_return_error  2020_return_RMSE  \n",
       "0            0.777362          0.004181  \n",
       "1            0.753372          0.004347  \n",
       "2            0.636754          0.003357  \n",
       "3            0.559464          0.002906  \n",
       "4            0.478015          0.002620  \n",
       "5            0.491623          0.002564  \n",
       "6            0.476436          0.002609  \n",
       "7            0.408250          0.002210  \n",
       "8            0.406685          0.002198  \n",
       "9            0.391677          0.002157  \n",
       "10           0.376091          0.002084  \n",
       "11           0.373526          0.002082  \n",
       "12           0.369197          0.002059  \n",
       "13           0.360502          0.002015  \n",
       "14           0.362995          0.002046  \n",
       "15           0.370629          0.002095  \n",
       "16           0.361019          0.002044  \n",
       "17           0.368671          0.002082  \n",
       "18           0.368671          0.002082  \n",
       "19           0.368671          0.002082  "
      ]
     },
     "execution_count": 11,
     "metadata": {},
     "output_type": "execute_result"
    }
   ],
   "source": [
    "# Running the MIP approach with a time limit of 3600 secs for a wide array of selected stocks and saving the results\n",
    "tries = []\n",
    "i = 5\n",
    "while i <= len(stocks2019_names):\n",
    "    tries.append(i)\n",
    "    i += 5\n",
    "\n",
    "# tries = [90, 95]\n",
    "data = []\n",
    "for try_ in (pbar:= tqdm(tries)):\n",
    "    pbar.set_description(f\"Calculating for m = {try_}\")\n",
    "    row = []\n",
    "    row.append(try_)\n",
    "    \n",
    "    weight_model, weight, model_error, old_return_rmse, new_return_error, new_return_rmse = portfolioWeights_MIP(m=try_, \\\n",
    "                                                                            stock_names=stocks2019_names, \\\n",
    "                                                                            stocks_indices_old=stocks2019_index, \\\n",
    "                                                                            stock_indices_new=stocks2020_index, \\\n",
    "                                                                            stock_returns_old=stocks2019_returns_dict, \\\n",
    "                                                                            stock_returns_new=stocks2020_returns_dict, \\\n",
    "                                                                            q=q2019, \\\n",
    "                                                                            q_new=q2020, \\\n",
    "                                                                            timeLimit=3600,\n",
    "                                                                            save=False)\n",
    "    \n",
    "    weight = weight.loc[weight[f\"m_{try_}\"] > 0]\n",
    "    \n",
    "    row.append(len(weight))\n",
    "    row.append(model_error)\n",
    "    row.append(old_return_rmse)\n",
    "    row.append(new_return_error)\n",
    "    row.append(new_return_rmse)\n",
    "\n",
    "    data.append(row)\n",
    "\n",
    "cols = ['m', '#StocksSelected', '2019_return_error', '2019_return_RMSE', '2020_return_error', '2020_return_RMSE']\n",
    "data = pd.DataFrame(data, columns=cols)\n",
    "data.to_csv(\"MIPApproach_T-3600.csv\", index=False)\n",
    "data"
   ]
  },
  {
   "cell_type": "markdown",
   "metadata": {},
   "source": [
    "## Qestion 5 - Analysis"
   ]
  },
  {
   "cell_type": "markdown",
   "metadata": {},
   "source": [
    "#### 2-Step Approach"
   ]
  },
  {
   "cell_type": "code",
   "execution_count": 36,
   "metadata": {},
   "outputs": [
    {
     "data": {
      "application/vnd.plotly.v1+json": {
       "config": {
        "plotlyServerURL": "https://plot.ly"
       },
       "data": [
        {
         "hovertemplate": "variable=Index Return<br>Index=%{x}<br>value=%{y}<extra></extra>",
         "legendgroup": "Index Return",
         "line": {
          "color": "#636efa",
          "dash": "solid"
         },
         "marker": {
          "symbol": "circle"
         },
         "mode": "lines",
         "name": "Index Return",
         "orientation": "v",
         "showlegend": true,
         "type": "scatter",
         "x": [
          1,
          2,
          3,
          4,
          5,
          6,
          7,
          8,
          9,
          10,
          11,
          12,
          13,
          14,
          15,
          16,
          17,
          18,
          19,
          20,
          21,
          22,
          23,
          24,
          25,
          26,
          27,
          28,
          29,
          30,
          31,
          32,
          33,
          34,
          35,
          36,
          37,
          38,
          39,
          40,
          41,
          42,
          43,
          44,
          45,
          46,
          47,
          48,
          49,
          50,
          51,
          52,
          53,
          54,
          55,
          56,
          57,
          58,
          59,
          60,
          61,
          62,
          63,
          64,
          65,
          66,
          67,
          68,
          69,
          70,
          71,
          72,
          73,
          74,
          75,
          76,
          77,
          78,
          79,
          80,
          81,
          82,
          83,
          84,
          85,
          86,
          87,
          88,
          89,
          90,
          91,
          92,
          93,
          94,
          95,
          96,
          97,
          98,
          99,
          100,
          101,
          102,
          103,
          104,
          105,
          106,
          107,
          108,
          109,
          110,
          111,
          112,
          113,
          114,
          115,
          116,
          117,
          118,
          119,
          120,
          121,
          122,
          123,
          124,
          125,
          126,
          127,
          128,
          129,
          130,
          131,
          132,
          133,
          134,
          135,
          136,
          137,
          138,
          139,
          140,
          141,
          142,
          143,
          144,
          145,
          146,
          147,
          148,
          149,
          150,
          151,
          152,
          153,
          154,
          155,
          156,
          157,
          158,
          159,
          160,
          161,
          162,
          163,
          164,
          165,
          166,
          167,
          168,
          169,
          170,
          171,
          172,
          173,
          174,
          175,
          176,
          177,
          178,
          179,
          180,
          181,
          182,
          183,
          184,
          185,
          186,
          187,
          188,
          189,
          190,
          191,
          192,
          193,
          194,
          195,
          196,
          197,
          198,
          199,
          200,
          201,
          202,
          203,
          204,
          205,
          206,
          207,
          208,
          209,
          210,
          211,
          212,
          213,
          214,
          215,
          216,
          217,
          218,
          219,
          220,
          221,
          222,
          223,
          224,
          225,
          226,
          227,
          228,
          229,
          230,
          231,
          232,
          233,
          234,
          235,
          236,
          237,
          238,
          239,
          240,
          241,
          242,
          243,
          244,
          245,
          246,
          247,
          248,
          249,
          250
         ],
         "xaxis": "x",
         "y": [
          -0.0336023578643369,
          0.0448241771760853,
          0.0102107190306268,
          0.0098023500944013,
          0.0074543590389695,
          0.0030678611146719,
          -0.002951248489508,
          -0.0091434943945317,
          0.0196604969902707,
          -0.0001619394716677,
          0.0074813956174342,
          0.0098474597682121,
          -0.0203106452371703,
          0.0017978108135976,
          0.0065763055792451,
          0.0126549319986739,
          -0.0133012155582733,
          -0.00960115609881,
          0.0264021800735911,
          0.0145315795498286,
          -0.0045346098515962,
          0.012281244291977,
          0.0091322449203958,
          -0.0036875958103981,
          -0.0132388062585651,
          0.0011802935017342,
          -0.0005713341231606,
          0.0152680554440356,
          0.0001724900834185,
          0.0009321765921117,
          0.0046650947057962,
          0.0016200418295313,
          -0.0006042528288362,
          -0.0038485386713712,
          0.0078846431026438,
          0.003497614938196,
          0.0010948092817038,
          -0.0008732307597204,
          -0.0027357334551075,
          0.0076139221161437,
          -0.0001034382685487,
          0.0008334642181384,
          -0.0061926958536557,
          -0.0120338404819598,
          -0.0015924481685066,
          0.0211426217873673,
          0.0052009576879992,
          0.007734763356372,
          -0.0019250726939444,
          0.0088334090477601,
          0.0026398763899044,
          0.0031393832442887,
          0.0042820814992281,
          0.0152450658808387,
          -0.0223146851179399,
          -0.001242154435906,
          0.0046726975659612,
          -0.0058439783670187,
          0.0016803441206565,
          0.0079639426550142,
          0.0135049475359581,
          0.0028375265392057,
          0.0060443004160106,
          -0.0005832217854554,
          0.0050752159177938,
          0.0027577294718197,
          -0.004111982651748,
          0.0056814501532724,
          -0.0021809260065588,
          0.0043792292449325,
          0.0001271887695528,
          0.0033568567026402,
          0.003395317022012,
          0.0011717651142171,
          0.0030911422438533,
          0.0126038568858839,
          -0.0033671465374234,
          0.0041762658118602,
          0.0012486061130714,
          0.0015791961242905,
          -0.0073452970916763,
          -0.0038051809234258,
          -0.0035849556749258,
          0.0157520682219749,
          -0.0065819415314621,
          -0.0197508554662741,
          -0.0029580698402376,
          -0.00456837249389,
          0.0004984715307769,
          -0.0345876058535766,
          0.0106155954689532,
          0.01369518535863,
          0.010247577649685,
          -0.0100868796114712,
          -0.0169223604980042,
          0.01007494178093,
          -0.0040745916557073,
          -0.015191368103396,
          -0.0009537878485609,
          -0.0030927546679638,
          -0.0084524332322487,
          0.0039546339463125,
          -0.0162088970365297,
          -0.0210354634173568,
          0.0270463511797147,
          0.0075557124219485,
          0.0076209717274653,
          0.0194284248997169,
          0.011411194190191,
          0.0015889140155067,
          -0.0055311269799036,
          0.0051376668731579,
          -0.0042033893416046,
          0.0063390106400955,
          0.0144661652012718,
          0.0042355780201543,
          0.0091695295946823,
          -0.0011979788491423,
          -0.0007452360088171,
          -0.0170244257634333,
          0.0046775444531115,
          0.003933368834216,
          0.0018323340395198,
          0.0126527239988487,
          0.0040781559602804,
          0.0074194171539621,
          -0.0020858720722077,
          -0.0070791536327438,
          0.0052749719417393,
          0.0097791503028985,
          -0.0008376290055024,
          0.0058834677254457,
          0.0029824028107066,
          -0.0050019389049055,
          -0.0048341017906896,
          0.0019483565802376,
          -0.00875870994338,
          0.0089624903800078,
          0.0062541670801028,
          0.0070462481374544,
          -0.0100791010148835,
          0.0109812741842163,
          -0.0034763989200509,
          -0.0045824879263401,
          -0.0130387699917968,
          -0.0060684443065948,
          -0.0138889905156447,
          -0.0360219778265762,
          0.0142441072699104,
          0.0040657861539701,
          0.0228988967338141,
          -0.0101698104950859,
          -0.0110628899814867,
          0.0220149123112027,
          -0.0307990944816433,
          -0.0006995534232179,
          0.0159280528929424,
          0.015151012159962,
          -0.0071054976669664,
          0.0089699611416651,
          -0.0033349676180145,
          -0.0314553536605402,
          0.0147394413858519,
          -0.0011868265663013,
          0.0028905671298518,
          0.0150779739424138,
          -0.0014683983004273,
          -0.0105955316603822,
          0.0144214591182114,
          0.0185626892508987,
          -0.0012718536186013,
          -0.0025647926530745,
          -0.0022546943747715,
          0.0093208272852234,
          0.0037729906645265,
          -0.0030805358214455,
          -0.0051362339807593,
          0.0046329575604506,
          -0.000029152759658090943,
          0.0016771096247034,
          -0.0099015835163727,
          -0.0006314195120024,
          -0.0138860776918648,
          0.0121270446751307,
          -0.00404301186927,
          -0.0116328190435036,
          0.008835437020878,
          -0.0084277021410033,
          -0.01735393884319,
          0.0116014480004797,
          0.0151484748650774,
          -0.0037361156851034,
          -0.0156450266636895,
          0.0113435957393843,
          0.0064794077122216,
          0.0133740577740888,
          -0.000197581429486,
          0.0128176216762396,
          -0.0028503794885542,
          0.0027688882123058,
          -0.0092733069084097,
          0.009130067123878,
          -0.0082754697039686,
          0.0018858177003282,
          0.0097915319907193,
          0.0078451355530626,
          0.0101441615523059,
          -0.0077872921235124,
          0.0044237407639324,
          0.00008910122616256899,
          0.0095672278182192,
          0.0060641102284353,
          -0.000058517584563322345,
          -0.0017233989434701,
          0.0028818973592386,
          0.0044088562501005,
          -0.0016932750552676,
          0.0026547102050209,
          -0.0004816759599668,
          -0.0002396534669744,
          0.0069860305255846,
          0.0015586444060027,
          0.0012318891829294,
          -0.006594549351206,
          -0.0021886081786629,
          0.0007778833177654,
          0.0120743812421955,
          0.001650791694991,
          0.0070309705154578,
          -0.0048586953476779,
          -0.0112355450832838,
          -0.0065612983027781,
          0.0050625504637775,
          0.0014307328014735,
          0.0107084061688187,
          -0.0041238962338807,
          -0.0010104576686055,
          0.0057838922008248,
          0.0076499198828969,
          0.0024590273247411,
          0.0097340881556544,
          0.0006265939527561,
          0.000573704990628,
          0.0070705754564055,
          0.0043049353548034,
          0.0020187303929157,
          0.0004024834486369,
          0.0090579591401771,
          -0.000834910291276,
          -0.0069832557735683
         ],
         "yaxis": "y"
        },
        {
         "hovertemplate": "variable=Portfolio Return<br>Index=%{x}<br>value=%{y}<extra></extra>",
         "legendgroup": "Portfolio Return",
         "line": {
          "color": "#EF553B",
          "dash": "solid"
         },
         "marker": {
          "symbol": "circle"
         },
         "mode": "lines",
         "name": "Portfolio Return",
         "orientation": "v",
         "showlegend": true,
         "type": "scatter",
         "x": [
          1,
          2,
          3,
          4,
          5,
          6,
          7,
          8,
          9,
          10,
          11,
          12,
          13,
          14,
          15,
          16,
          17,
          18,
          19,
          20,
          21,
          22,
          23,
          24,
          25,
          26,
          27,
          28,
          29,
          30,
          31,
          32,
          33,
          34,
          35,
          36,
          37,
          38,
          39,
          40,
          41,
          42,
          43,
          44,
          45,
          46,
          47,
          48,
          49,
          50,
          51,
          52,
          53,
          54,
          55,
          56,
          57,
          58,
          59,
          60,
          61,
          62,
          63,
          64,
          65,
          66,
          67,
          68,
          69,
          70,
          71,
          72,
          73,
          74,
          75,
          76,
          77,
          78,
          79,
          80,
          81,
          82,
          83,
          84,
          85,
          86,
          87,
          88,
          89,
          90,
          91,
          92,
          93,
          94,
          95,
          96,
          97,
          98,
          99,
          100,
          101,
          102,
          103,
          104,
          105,
          106,
          107,
          108,
          109,
          110,
          111,
          112,
          113,
          114,
          115,
          116,
          117,
          118,
          119,
          120,
          121,
          122,
          123,
          124,
          125,
          126,
          127,
          128,
          129,
          130,
          131,
          132,
          133,
          134,
          135,
          136,
          137,
          138,
          139,
          140,
          141,
          142,
          143,
          144,
          145,
          146,
          147,
          148,
          149,
          150,
          151,
          152,
          153,
          154,
          155,
          156,
          157,
          158,
          159,
          160,
          161,
          162,
          163,
          164,
          165,
          166,
          167,
          168,
          169,
          170,
          171,
          172,
          173,
          174,
          175,
          176,
          177,
          178,
          179,
          180,
          181,
          182,
          183,
          184,
          185,
          186,
          187,
          188,
          189,
          190,
          191,
          192,
          193,
          194,
          195,
          196,
          197,
          198,
          199,
          200,
          201,
          202,
          203,
          204,
          205,
          206,
          207,
          208,
          209,
          210,
          211,
          212,
          213,
          214,
          215,
          216,
          217,
          218,
          219,
          220,
          221,
          222,
          223,
          224,
          225,
          226,
          227,
          228,
          229,
          230,
          231,
          232,
          233,
          234,
          235,
          236,
          237,
          238,
          239,
          240,
          241,
          242,
          243,
          244,
          245,
          246,
          247,
          248,
          249,
          250
         ],
         "xaxis": "x",
         "y": [
          -0.0341196945559615,
          0.0443721325123365,
          0.0017481749415205,
          0.001263513755983,
          0.0150741725205578,
          0.0001587814990171,
          0.00236508836058,
          -0.0121218115621213,
          0.023242016759006,
          0.0044716196312283,
          0.0087025493200493,
          0.0142093715242309,
          -0.0174413390047779,
          0.0051346484338779,
          0.0074464783699814,
          0.0123451582686796,
          -0.0139212005264177,
          -0.0143035950896045,
          0.0187128635761017,
          -0.0061034185527483,
          -0.0072937248339816,
          0.0195071665849917,
          0.0085838108770214,
          -0.0056094024047356,
          -0.0085715941356842,
          0.0020146372373194,
          -0.0037970525721584,
          0.014675203675939,
          -0.0012340626771317,
          0.002558760458314,
          0.0101130118449982,
          -0.001595772920006,
          -0.0005152873233725,
          0.0090081757219429,
          0.0133885298787602,
          0.003497614938196,
          0.0032915902120595,
          -0.004860079196292,
          0.0007935966967937,
          0.0063511083108791,
          -0.0005214821720642,
          -0.0068790181143935,
          -0.0061406441340904,
          -0.0124084384345664,
          -0.0025352759540178,
          0.0191561517302483,
          0.0052995135237856,
          0.0059033076941551,
          0.0004709311365373,
          0.0136002091119338,
          0.0069158531435355,
          -0.0013007016869212,
          -0.0025784784048908,
          0.0214174457671648,
          -0.0195477079448283,
          0.0019974253539474,
          0.0053054062947603,
          -0.0124879209453219,
          -0.0037397343552181,
          0.0068075895501004,
          0.0112817478414369,
          0.0029699030688566,
          0.0129602975206875,
          -0.0037046242994866,
          0.0083947993198565,
          0.0017531886747056,
          -0.0051946546880707,
          0.0073469494164097,
          -0.0015524733384033,
          0.0083650908486119,
          -0.0001560797826231,
          -0.0018199430250571,
          -0.001650455350735,
          0.0085465118471581,
          -0.0004662713244171,
          0.0132556027770157,
          -0.0009403499803921,
          0.018044303543349,
          0.0024761663279644,
          -0.0015147452937397,
          0.0059037943792396,
          -0.0125653044797464,
          -0.0074526185318476,
          0.0166384008217299,
          -0.0080699232723137,
          -0.0180026739379234,
          -0.0051830626880126,
          0.0004842945341142,
          0.0083123329858222,
          -0.0341155256004698,
          0.0098045677548041,
          0.0117300239070775,
          0.0146806613520678,
          -0.0076115301010144,
          -0.0133203824338332,
          0.0096385443473307,
          0.0062269513131454,
          -0.0068166902816274,
          -0.0027745608102023,
          -0.0064727278313775,
          -0.0053202539327901,
          0.0067663304612296,
          -0.0128679135770189,
          -0.0143550647068133,
          0.0278555563752554,
          0.0161195400872649,
          0.0093670380795166,
          0.0216376972596001,
          0.0110604613946515,
          -0.0038644586095267,
          -0.005503794178604,
          0.0063410947286831,
          -0.0041682103223855,
          0.0017419974164283,
          0.0210024455873555,
          0.0074048212857505,
          0.0065032600412877,
          0.0013027019061354,
          0.0008981490668239,
          -0.0228912447771091,
          0.0042265187818713,
          0.0057543184688096,
          0.0008499408494808,
          0.0117844994145868,
          0.0011930484887328,
          0.0064991752086002,
          -0.0041491497436644,
          -0.002422089652907,
          -0.0001389872184599,
          0.0084458050841649,
          0.0030160476060267,
          0.0037318400630458,
          0.0002894836099126,
          -0.0111362101886874,
          -0.003854822060736,
          0.0090857730927011,
          -0.0033332234042812,
          0.0096996558928042,
          0.0071215322194938,
          0.0110008854789611,
          -0.0082437899086836,
          0.0056371128980909,
          -0.0021497530590164,
          -0.0033472737852168,
          -0.0366668227874536,
          0.0066148178571033,
          -0.0104829960353273,
          -0.0317962548008668,
          0.0147030550733095,
          0.0027697931182986,
          0.0253677718751593,
          -0.0096663294081874,
          -0.011914194321867,
          0.017184110100165,
          -0.0282231753258916,
          0.0013607748310748,
          0.0190136245320635,
          0.0139365012855456,
          -0.0071054976669664,
          0.0105858552052347,
          -0.0064357157590328,
          -0.0317244501951749,
          0.012665276674526,
          0.0014641107173565,
          0.0015339290317791,
          0.0176149069547268,
          0.0018388792259807,
          -0.0097481802923725,
          0.0144214591182114,
          0.0140118218501826,
          -0.0019692233994974,
          -0.0082481818511362,
          -0.004698118832676,
          0.0062277091115942,
          0.006904381449091,
          -0.0009751317770233,
          -0.0056551515805043,
          0.0032329513320024,
          0.0049992592121233,
          0.0099237303366845,
          -0.0131580666404845,
          0.00045362009534,
          -0.0116567699290336,
          0.0142991366797444,
          -0.0020072859791696,
          -0.0130004911634112,
          0.0084151661973613,
          -0.0135764167968554,
          -0.016640317329727,
          0.012368425331398,
          0.0147082871872784,
          -0.0071248835162326,
          -0.0142586135492504,
          0.0146135546106032,
          0.0045351221853375,
          0.0067762495372162,
          0.000011695617119630453,
          0.01419539887453,
          -0.0064959859846935,
          -0.0018427021641463,
          -0.0107824219050885,
          0.0103920622987704,
          -0.0082754697039686,
          -0.0030540415234575,
          0.0153817057435758,
          0.0020239559498803,
          0.0160010659905776,
          -0.0010950884503291,
          0.0095200345269097,
          -0.0062787000069923,
          0.0102630179238549,
          0.0005409793330491,
          -0.0016898258374747,
          -0.0060116239423689,
          -0.0011739106668931,
          0.0082434522080497,
          -0.0007579359678595,
          0.0004805328150428,
          0.0030236434042609,
          -0.0010841636041998,
          0.0082787681391166,
          -0.0026359795647535,
          0.0004087200260747,
          -0.0027947669053268,
          -0.0022764846967285,
          0.0012761284504548,
          0.0123457339026018,
          0.0043067788390813,
          0.0050645785689236,
          -0.0058326983885865,
          -0.0092060658929703,
          -0.0058151718561958,
          0.0087279738423516,
          0.0016133512599914,
          0.009279349470871,
          -0.0050366347679914,
          -0.0009012351437245,
          0.0054436383180505,
          0.0109742840849156,
          0.0071177425521321,
          0.0078330581174783,
          -0.0033009642476563,
          0.0009024258157418,
          0.0085782960905968,
          0.0088567228164598,
          -0.0024612597813029,
          -0.00007681358647722883,
          0.0051006068735708,
          0.0022549102617802,
          -0.0057020190786061
         ],
         "yaxis": "y"
        }
       ],
       "layout": {
        "legend": {
         "orientation": "h",
         "title": {
          "text": "variable"
         },
         "tracegroupgap": 0,
         "y": 1.02,
         "yanchor": "bottom"
        },
        "template": {
         "data": {
          "bar": [
           {
            "error_x": {
             "color": "#2a3f5f"
            },
            "error_y": {
             "color": "#2a3f5f"
            },
            "marker": {
             "line": {
              "color": "#E5ECF6",
              "width": 0.5
             },
             "pattern": {
              "fillmode": "overlay",
              "size": 10,
              "solidity": 0.2
             }
            },
            "type": "bar"
           }
          ],
          "barpolar": [
           {
            "marker": {
             "line": {
              "color": "#E5ECF6",
              "width": 0.5
             },
             "pattern": {
              "fillmode": "overlay",
              "size": 10,
              "solidity": 0.2
             }
            },
            "type": "barpolar"
           }
          ],
          "carpet": [
           {
            "aaxis": {
             "endlinecolor": "#2a3f5f",
             "gridcolor": "white",
             "linecolor": "white",
             "minorgridcolor": "white",
             "startlinecolor": "#2a3f5f"
            },
            "baxis": {
             "endlinecolor": "#2a3f5f",
             "gridcolor": "white",
             "linecolor": "white",
             "minorgridcolor": "white",
             "startlinecolor": "#2a3f5f"
            },
            "type": "carpet"
           }
          ],
          "choropleth": [
           {
            "colorbar": {
             "outlinewidth": 0,
             "ticks": ""
            },
            "type": "choropleth"
           }
          ],
          "contour": [
           {
            "colorbar": {
             "outlinewidth": 0,
             "ticks": ""
            },
            "colorscale": [
             [
              0,
              "#0d0887"
             ],
             [
              0.1111111111111111,
              "#46039f"
             ],
             [
              0.2222222222222222,
              "#7201a8"
             ],
             [
              0.3333333333333333,
              "#9c179e"
             ],
             [
              0.4444444444444444,
              "#bd3786"
             ],
             [
              0.5555555555555556,
              "#d8576b"
             ],
             [
              0.6666666666666666,
              "#ed7953"
             ],
             [
              0.7777777777777778,
              "#fb9f3a"
             ],
             [
              0.8888888888888888,
              "#fdca26"
             ],
             [
              1,
              "#f0f921"
             ]
            ],
            "type": "contour"
           }
          ],
          "contourcarpet": [
           {
            "colorbar": {
             "outlinewidth": 0,
             "ticks": ""
            },
            "type": "contourcarpet"
           }
          ],
          "heatmap": [
           {
            "colorbar": {
             "outlinewidth": 0,
             "ticks": ""
            },
            "colorscale": [
             [
              0,
              "#0d0887"
             ],
             [
              0.1111111111111111,
              "#46039f"
             ],
             [
              0.2222222222222222,
              "#7201a8"
             ],
             [
              0.3333333333333333,
              "#9c179e"
             ],
             [
              0.4444444444444444,
              "#bd3786"
             ],
             [
              0.5555555555555556,
              "#d8576b"
             ],
             [
              0.6666666666666666,
              "#ed7953"
             ],
             [
              0.7777777777777778,
              "#fb9f3a"
             ],
             [
              0.8888888888888888,
              "#fdca26"
             ],
             [
              1,
              "#f0f921"
             ]
            ],
            "type": "heatmap"
           }
          ],
          "heatmapgl": [
           {
            "colorbar": {
             "outlinewidth": 0,
             "ticks": ""
            },
            "colorscale": [
             [
              0,
              "#0d0887"
             ],
             [
              0.1111111111111111,
              "#46039f"
             ],
             [
              0.2222222222222222,
              "#7201a8"
             ],
             [
              0.3333333333333333,
              "#9c179e"
             ],
             [
              0.4444444444444444,
              "#bd3786"
             ],
             [
              0.5555555555555556,
              "#d8576b"
             ],
             [
              0.6666666666666666,
              "#ed7953"
             ],
             [
              0.7777777777777778,
              "#fb9f3a"
             ],
             [
              0.8888888888888888,
              "#fdca26"
             ],
             [
              1,
              "#f0f921"
             ]
            ],
            "type": "heatmapgl"
           }
          ],
          "histogram": [
           {
            "marker": {
             "pattern": {
              "fillmode": "overlay",
              "size": 10,
              "solidity": 0.2
             }
            },
            "type": "histogram"
           }
          ],
          "histogram2d": [
           {
            "colorbar": {
             "outlinewidth": 0,
             "ticks": ""
            },
            "colorscale": [
             [
              0,
              "#0d0887"
             ],
             [
              0.1111111111111111,
              "#46039f"
             ],
             [
              0.2222222222222222,
              "#7201a8"
             ],
             [
              0.3333333333333333,
              "#9c179e"
             ],
             [
              0.4444444444444444,
              "#bd3786"
             ],
             [
              0.5555555555555556,
              "#d8576b"
             ],
             [
              0.6666666666666666,
              "#ed7953"
             ],
             [
              0.7777777777777778,
              "#fb9f3a"
             ],
             [
              0.8888888888888888,
              "#fdca26"
             ],
             [
              1,
              "#f0f921"
             ]
            ],
            "type": "histogram2d"
           }
          ],
          "histogram2dcontour": [
           {
            "colorbar": {
             "outlinewidth": 0,
             "ticks": ""
            },
            "colorscale": [
             [
              0,
              "#0d0887"
             ],
             [
              0.1111111111111111,
              "#46039f"
             ],
             [
              0.2222222222222222,
              "#7201a8"
             ],
             [
              0.3333333333333333,
              "#9c179e"
             ],
             [
              0.4444444444444444,
              "#bd3786"
             ],
             [
              0.5555555555555556,
              "#d8576b"
             ],
             [
              0.6666666666666666,
              "#ed7953"
             ],
             [
              0.7777777777777778,
              "#fb9f3a"
             ],
             [
              0.8888888888888888,
              "#fdca26"
             ],
             [
              1,
              "#f0f921"
             ]
            ],
            "type": "histogram2dcontour"
           }
          ],
          "mesh3d": [
           {
            "colorbar": {
             "outlinewidth": 0,
             "ticks": ""
            },
            "type": "mesh3d"
           }
          ],
          "parcoords": [
           {
            "line": {
             "colorbar": {
              "outlinewidth": 0,
              "ticks": ""
             }
            },
            "type": "parcoords"
           }
          ],
          "pie": [
           {
            "automargin": true,
            "type": "pie"
           }
          ],
          "scatter": [
           {
            "fillpattern": {
             "fillmode": "overlay",
             "size": 10,
             "solidity": 0.2
            },
            "type": "scatter"
           }
          ],
          "scatter3d": [
           {
            "line": {
             "colorbar": {
              "outlinewidth": 0,
              "ticks": ""
             }
            },
            "marker": {
             "colorbar": {
              "outlinewidth": 0,
              "ticks": ""
             }
            },
            "type": "scatter3d"
           }
          ],
          "scattercarpet": [
           {
            "marker": {
             "colorbar": {
              "outlinewidth": 0,
              "ticks": ""
             }
            },
            "type": "scattercarpet"
           }
          ],
          "scattergeo": [
           {
            "marker": {
             "colorbar": {
              "outlinewidth": 0,
              "ticks": ""
             }
            },
            "type": "scattergeo"
           }
          ],
          "scattergl": [
           {
            "marker": {
             "colorbar": {
              "outlinewidth": 0,
              "ticks": ""
             }
            },
            "type": "scattergl"
           }
          ],
          "scattermapbox": [
           {
            "marker": {
             "colorbar": {
              "outlinewidth": 0,
              "ticks": ""
             }
            },
            "type": "scattermapbox"
           }
          ],
          "scatterpolar": [
           {
            "marker": {
             "colorbar": {
              "outlinewidth": 0,
              "ticks": ""
             }
            },
            "type": "scatterpolar"
           }
          ],
          "scatterpolargl": [
           {
            "marker": {
             "colorbar": {
              "outlinewidth": 0,
              "ticks": ""
             }
            },
            "type": "scatterpolargl"
           }
          ],
          "scatterternary": [
           {
            "marker": {
             "colorbar": {
              "outlinewidth": 0,
              "ticks": ""
             }
            },
            "type": "scatterternary"
           }
          ],
          "surface": [
           {
            "colorbar": {
             "outlinewidth": 0,
             "ticks": ""
            },
            "colorscale": [
             [
              0,
              "#0d0887"
             ],
             [
              0.1111111111111111,
              "#46039f"
             ],
             [
              0.2222222222222222,
              "#7201a8"
             ],
             [
              0.3333333333333333,
              "#9c179e"
             ],
             [
              0.4444444444444444,
              "#bd3786"
             ],
             [
              0.5555555555555556,
              "#d8576b"
             ],
             [
              0.6666666666666666,
              "#ed7953"
             ],
             [
              0.7777777777777778,
              "#fb9f3a"
             ],
             [
              0.8888888888888888,
              "#fdca26"
             ],
             [
              1,
              "#f0f921"
             ]
            ],
            "type": "surface"
           }
          ],
          "table": [
           {
            "cells": {
             "fill": {
              "color": "#EBF0F8"
             },
             "line": {
              "color": "white"
             }
            },
            "header": {
             "fill": {
              "color": "#C8D4E3"
             },
             "line": {
              "color": "white"
             }
            },
            "type": "table"
           }
          ]
         },
         "layout": {
          "annotationdefaults": {
           "arrowcolor": "#2a3f5f",
           "arrowhead": 0,
           "arrowwidth": 1
          },
          "autotypenumbers": "strict",
          "coloraxis": {
           "colorbar": {
            "outlinewidth": 0,
            "ticks": ""
           }
          },
          "colorscale": {
           "diverging": [
            [
             0,
             "#8e0152"
            ],
            [
             0.1,
             "#c51b7d"
            ],
            [
             0.2,
             "#de77ae"
            ],
            [
             0.3,
             "#f1b6da"
            ],
            [
             0.4,
             "#fde0ef"
            ],
            [
             0.5,
             "#f7f7f7"
            ],
            [
             0.6,
             "#e6f5d0"
            ],
            [
             0.7,
             "#b8e186"
            ],
            [
             0.8,
             "#7fbc41"
            ],
            [
             0.9,
             "#4d9221"
            ],
            [
             1,
             "#276419"
            ]
           ],
           "sequential": [
            [
             0,
             "#0d0887"
            ],
            [
             0.1111111111111111,
             "#46039f"
            ],
            [
             0.2222222222222222,
             "#7201a8"
            ],
            [
             0.3333333333333333,
             "#9c179e"
            ],
            [
             0.4444444444444444,
             "#bd3786"
            ],
            [
             0.5555555555555556,
             "#d8576b"
            ],
            [
             0.6666666666666666,
             "#ed7953"
            ],
            [
             0.7777777777777778,
             "#fb9f3a"
            ],
            [
             0.8888888888888888,
             "#fdca26"
            ],
            [
             1,
             "#f0f921"
            ]
           ],
           "sequentialminus": [
            [
             0,
             "#0d0887"
            ],
            [
             0.1111111111111111,
             "#46039f"
            ],
            [
             0.2222222222222222,
             "#7201a8"
            ],
            [
             0.3333333333333333,
             "#9c179e"
            ],
            [
             0.4444444444444444,
             "#bd3786"
            ],
            [
             0.5555555555555556,
             "#d8576b"
            ],
            [
             0.6666666666666666,
             "#ed7953"
            ],
            [
             0.7777777777777778,
             "#fb9f3a"
            ],
            [
             0.8888888888888888,
             "#fdca26"
            ],
            [
             1,
             "#f0f921"
            ]
           ]
          },
          "colorway": [
           "#636efa",
           "#EF553B",
           "#00cc96",
           "#ab63fa",
           "#FFA15A",
           "#19d3f3",
           "#FF6692",
           "#B6E880",
           "#FF97FF",
           "#FECB52"
          ],
          "font": {
           "color": "#2a3f5f"
          },
          "geo": {
           "bgcolor": "white",
           "lakecolor": "white",
           "landcolor": "#E5ECF6",
           "showlakes": true,
           "showland": true,
           "subunitcolor": "white"
          },
          "hoverlabel": {
           "align": "left"
          },
          "hovermode": "closest",
          "mapbox": {
           "style": "light"
          },
          "paper_bgcolor": "white",
          "plot_bgcolor": "#E5ECF6",
          "polar": {
           "angularaxis": {
            "gridcolor": "white",
            "linecolor": "white",
            "ticks": ""
           },
           "bgcolor": "#E5ECF6",
           "radialaxis": {
            "gridcolor": "white",
            "linecolor": "white",
            "ticks": ""
           }
          },
          "scene": {
           "xaxis": {
            "backgroundcolor": "#E5ECF6",
            "gridcolor": "white",
            "gridwidth": 2,
            "linecolor": "white",
            "showbackground": true,
            "ticks": "",
            "zerolinecolor": "white"
           },
           "yaxis": {
            "backgroundcolor": "#E5ECF6",
            "gridcolor": "white",
            "gridwidth": 2,
            "linecolor": "white",
            "showbackground": true,
            "ticks": "",
            "zerolinecolor": "white"
           },
           "zaxis": {
            "backgroundcolor": "#E5ECF6",
            "gridcolor": "white",
            "gridwidth": 2,
            "linecolor": "white",
            "showbackground": true,
            "ticks": "",
            "zerolinecolor": "white"
           }
          },
          "shapedefaults": {
           "line": {
            "color": "#2a3f5f"
           }
          },
          "ternary": {
           "aaxis": {
            "gridcolor": "white",
            "linecolor": "white",
            "ticks": ""
           },
           "baxis": {
            "gridcolor": "white",
            "linecolor": "white",
            "ticks": ""
           },
           "bgcolor": "#E5ECF6",
           "caxis": {
            "gridcolor": "white",
            "linecolor": "white",
            "ticks": ""
           }
          },
          "title": {
           "x": 0.05
          },
          "xaxis": {
           "automargin": true,
           "gridcolor": "white",
           "linecolor": "white",
           "ticks": "",
           "title": {
            "standoff": 15
           },
           "zerolinecolor": "white",
           "zerolinewidth": 2
          },
          "yaxis": {
           "automargin": true,
           "gridcolor": "white",
           "linecolor": "white",
           "ticks": "",
           "title": {
            "standoff": 15
           },
           "zerolinecolor": "white",
           "zerolinewidth": 2
          }
         }
        },
        "title": {
         "text": "Portfolio vs Index Returns: 2019"
        },
        "xaxis": {
         "anchor": "y",
         "domain": [
          0,
          1
         ],
         "title": {
          "text": "Index"
         }
        },
        "yaxis": {
         "anchor": "x",
         "domain": [
          0,
          1
         ],
         "title": {
          "text": "value"
         }
        }
       }
      }
     },
     "metadata": {},
     "output_type": "display_data"
    },
    {
     "data": {
      "application/vnd.plotly.v1+json": {
       "config": {
        "plotlyServerURL": "https://plot.ly"
       },
       "data": [
        {
         "hovertemplate": "variable=Index Return<br>Index=%{x}<br>value=%{y}<extra></extra>",
         "legendgroup": "Index Return",
         "line": {
          "color": "#636efa",
          "dash": "solid"
         },
         "marker": {
          "symbol": "circle"
         },
         "mode": "lines",
         "name": "Index Return",
         "orientation": "v",
         "showlegend": true,
         "type": "scatter",
         "x": [
          1,
          2,
          3,
          4,
          5,
          6,
          7,
          8,
          9,
          10,
          11,
          12,
          13,
          14,
          15,
          16,
          17,
          18,
          19,
          20,
          21,
          22,
          23,
          24,
          25,
          26,
          27,
          28,
          29,
          30,
          31,
          32,
          33,
          34,
          35,
          36,
          37,
          38,
          39,
          40,
          41,
          42,
          43,
          44,
          45,
          46,
          47,
          48,
          49,
          50,
          51,
          52,
          53,
          54,
          55,
          56,
          57,
          58,
          59,
          60,
          61,
          62,
          63,
          64,
          65,
          66,
          67,
          68,
          69,
          70,
          71,
          72,
          73,
          74,
          75,
          76,
          77,
          78,
          79,
          80,
          81,
          82,
          83,
          84,
          85,
          86,
          87,
          88,
          89,
          90,
          91,
          92,
          93,
          94,
          95,
          96,
          97,
          98,
          99,
          100,
          101,
          102,
          103,
          104,
          105,
          106,
          107,
          108,
          109,
          110,
          111,
          112,
          113,
          114,
          115,
          116,
          117,
          118,
          119,
          120,
          121,
          122,
          123,
          124,
          125,
          126,
          127,
          128,
          129,
          130,
          131,
          132,
          133,
          134,
          135,
          136,
          137,
          138,
          139,
          140,
          141,
          142,
          143,
          144,
          145,
          146,
          147,
          148,
          149,
          150,
          151,
          152,
          153,
          154,
          155,
          156,
          157,
          158,
          159,
          160,
          161,
          162,
          163,
          164,
          165,
          166,
          167,
          168,
          169,
          170,
          171,
          172,
          173,
          174,
          175,
          176,
          177,
          178,
          179,
          180,
          181,
          182,
          183,
          184,
          185,
          186,
          187,
          188,
          189,
          190,
          191,
          192,
          193,
          194,
          195,
          196,
          197,
          198,
          199,
          200,
          201,
          202,
          203,
          204,
          205,
          206,
          207,
          208,
          209,
          210,
          211,
          212,
          213,
          214,
          215,
          216,
          217,
          218,
          219,
          220,
          221,
          222,
          223,
          224,
          225,
          226,
          227,
          228,
          229,
          230,
          231,
          232,
          233,
          234,
          235,
          236,
          237,
          238,
          239,
          240,
          241,
          242,
          243,
          244,
          245,
          246,
          247,
          248,
          249,
          250,
          251
         ],
         "xaxis": "x",
         "y": [
          -0.0088274793016744,
          0.006211025548561,
          -0.0002338623984216,
          0.0074515676397814,
          0.0086688237792804,
          -0.0025574173018485,
          0.011599746067993,
          -0.0041044982879001,
          0.000249075103275,
          0.0098863812834177,
          0.0053403253698629,
          -0.0007740129300718,
          0.0023945763361417,
          0.0030908356632812,
          -0.0081925682986928,
          -0.0207067402346602,
          0.0154990186564272,
          0.0011748703781195,
          0.0037882847832992,
          -0.0158251593918979,
          0.0149831014485939,
          0.0227727210819355,
          0.0035805320021116,
          0.0083735913044686,
          -0.0047449389122609,
          0.0123113507795618,
          0.0001072318139978,
          0.0100169407276464,
          -0.0018204135610431,
          0.0029054558222367,
          0.0006463007477039,
          0.0092349442149175,
          -0.0093531136901003,
          -0.0188141716806897,
          -0.0388559940351512,
          -0.0269570201818764,
          0.0044018359619308,
          -0.0492564432130244,
          0.0029822378062216,
          0.0491797149273833,
          -0.0319318381010057,
          0.041281103281314,
          -0.0310215021243195,
          -0.0162968000887603,
          -0.068263406810173,
          0.0533767181900413,
          -0.0437335913092928,
          -0.0927378310779346,
          0.1007220713925867,
          -0.1219322337900384,
          0.0646076593516442,
          -0.0399748474641795,
          0.0157960972714115,
          -0.0403689610775055,
          0.0018057419594519,
          0.0780528623258325,
          -0.0111479819019566,
          0.0572331335869458,
          -0.0390977191175062,
          0.0396184746348211,
          -0.0095715138198245,
          -0.0418775146861201,
          0.0199524886454909,
          -0.0140852645092498,
          0.0735311124669755,
          -0.0040029024204862,
          0.0223907364331781,
          0.0010924345658926,
          0.01143528734837,
          0.0431334605312021,
          -0.0115276517231258,
          0.0193052711782766,
          0.0085158169701586,
          -0.0119899764763596,
          -0.0370720682924632,
          0.0311364569796501,
          -0.0026705839988788,
          0.0167910211190187,
          0.0058111839929178,
          -0.0181111905385196,
          0.035166425134838,
          0.0019760074256003,
          -0.0313682319490967,
          0.0132975768048886,
          0.010924672791545,
          0.006073512733651,
          0.0130240789968374,
          0.0130159623641346,
          0.0085214028026991,
          -0.0200528371643288,
          -0.0123314931325118,
          0.0104821116237181,
          0.0064016975793215,
          0.0195888887681903,
          -0.0035780004903955,
          0.0200547065687588,
          -0.0112840354888246,
          0.003838775590689,
          -0.0025504344494947,
          0.0055452017362445,
          -0.002683722763947,
          0.0147419122575649,
          0.0045376210174872,
          0.0060861124715785,
          0.0049062173741627,
          -0.0077313413077103,
          0.0202218446804345,
          0.0078508574846378,
          0.0066303349495457,
          0.0127508459266338,
          -0.0501056355319059,
          0.0078531529832539,
          0.0117044646923545,
          0.0176416503826739,
          0.0033278842389656,
          0.0029621236016263,
          -0.0003406055767516,
          0.0121585384483295,
          0.0078467561641386,
          -0.020286361925208,
          0.0099103120175489,
          -0.024992474234926,
          0.0113509710280117,
          0.01964524723379,
          0.0120510192333151,
          0.0060937957535811,
          0.0253502917622023,
          -0.0075489768302008,
          0.013558561149074,
          0.00823962784667,
          0.0076004981329904,
          -0.0216051115342178,
          0.0082350349907613,
          0.0011375777897102,
          -0.0070287779282245,
          0.0017653828340402,
          0.0288261170537622,
          -0.0108664079454028,
          0.0034782096784895,
          -0.026691825311041,
          -0.009211202917209,
          0.0182435973024499,
          -0.0132916273914733,
          0.0123883664846902,
          0.0049263243187764,
          0.0177658472705586,
          0.0136807118400059,
          0.0037503084283401,
          0.0026044505670976,
          0.0127311499163722,
          -0.0113330542690169,
          -0.0048673878644687,
          -0.0188621231346899,
          0.025895326986228,
          0.0018507715285656,
          -0.0012452548851549,
          0.0111174404271157,
          0.0097851151179126,
          -0.007052408678269,
          0.0139955122610517,
          0.006805786442779,
          0.006145285657382,
          0.0082262387921472,
          0.0213389288152376,
          -0.0038239640656148,
          0.0058434105416205,
          0.009574193886547,
          0.0150412566566549,
          0.0103864915377485,
          -0.0522658369047857,
          -0.0126782386823802,
          -0.0476565066574526,
          0.0295972308933256,
          -0.0212120638892846,
          -0.005981621973065,
          0.017168982205395,
          0.0142856696086548,
          -0.016721101646707,
          -0.0148164422435375,
          -0.0129925437260786,
          0.003953491561826,
          0.0187747053400724,
          -0.0315598390016439,
          0.0058282771348918,
          0.023370885829093,
          0.0191299287422521,
          -0.0036517384712548,
          0.0083996986933669,
          0.0144631081128612,
          -0.0282745497224504,
          0.0225103152557117,
          -0.0189233567413015,
          0.0187685626879194,
          0.0041510223003411,
          0.0151424190142757,
          0.0308941997423419,
          -0.0004087015966065,
          -0.0080946945749811,
          -0.0072413375539436,
          -0.003899660950106,
          -0.0183780954433027,
          0.0037380886304654,
          -0.001067810500131,
          -0.0002108771496056,
          0.0025431174203609,
          -0.0160829291605089,
          0.0082081367895248,
          -0.0393303206009107,
          0.0186650761833662,
          -0.0262352960217467,
          0.0028779257505386,
          0.0176052881658435,
          0.0440703306097962,
          0.0255625609886374,
          0.0010994554311383,
          -0.0215823682564083,
          -0.017421202183311,
          0.0231101984788397,
          -0.0055318615105679,
          0.0093598446687828,
          0.0063277813249671,
          -0.0029874731639636,
          -0.0069113201856478,
          0.0076268971925399,
          -0.0065904403966347,
          -0.00004199407899785346,
          0.0146035620640174,
          0.0059943130378339,
          0.0087218822861097,
          0.0008247819243585,
          0.0152433067669066,
          0.00008671628877454651,
          0.0008605785986739,
          0.0049209874759081,
          0.005426776228993,
          0.0031159523931154,
          -0.0214534736281303,
          0.003000538717681,
          -0.0021230947844164,
          0.0070138927823626,
          0.0107292334529083,
          0.005735209532834,
          0.0066228567479684,
          -0.0010884422178086,
          -0.0037619127038708,
          0.002151240439107,
          -0.0050654309614529,
          0.0045735779103648,
          0.0100582551908463,
          0.0003606145618679,
          0.0001456083951099
         ],
         "yaxis": "y"
        },
        {
         "hovertemplate": "variable=Portfolio Return<br>Index=%{x}<br>value=%{y}<extra></extra>",
         "legendgroup": "Portfolio Return",
         "line": {
          "color": "#EF553B",
          "dash": "solid"
         },
         "marker": {
          "symbol": "circle"
         },
         "mode": "lines",
         "name": "Portfolio Return",
         "orientation": "v",
         "showlegend": true,
         "type": "scatter",
         "x": [
          1,
          2,
          3,
          4,
          5,
          6,
          7,
          8,
          9,
          10,
          11,
          12,
          13,
          14,
          15,
          16,
          17,
          18,
          19,
          20,
          21,
          22,
          23,
          24,
          25,
          26,
          27,
          28,
          29,
          30,
          31,
          32,
          33,
          34,
          35,
          36,
          37,
          38,
          39,
          40,
          41,
          42,
          43,
          44,
          45,
          46,
          47,
          48,
          49,
          50,
          51,
          52,
          53,
          54,
          55,
          56,
          57,
          58,
          59,
          60,
          61,
          62,
          63,
          64,
          65,
          66,
          67,
          68,
          69,
          70,
          71,
          72,
          73,
          74,
          75,
          76,
          77,
          78,
          79,
          80,
          81,
          82,
          83,
          84,
          85,
          86,
          87,
          88,
          89,
          90,
          91,
          92,
          93,
          94,
          95,
          96,
          97,
          98,
          99,
          100,
          101,
          102,
          103,
          104,
          105,
          106,
          107,
          108,
          109,
          110,
          111,
          112,
          113,
          114,
          115,
          116,
          117,
          118,
          119,
          120,
          121,
          122,
          123,
          124,
          125,
          126,
          127,
          128,
          129,
          130,
          131,
          132,
          133,
          134,
          135,
          136,
          137,
          138,
          139,
          140,
          141,
          142,
          143,
          144,
          145,
          146,
          147,
          148,
          149,
          150,
          151,
          152,
          153,
          154,
          155,
          156,
          157,
          158,
          159,
          160,
          161,
          162,
          163,
          164,
          165,
          166,
          167,
          168,
          169,
          170,
          171,
          172,
          173,
          174,
          175,
          176,
          177,
          178,
          179,
          180,
          181,
          182,
          183,
          184,
          185,
          186,
          187,
          188,
          189,
          190,
          191,
          192,
          193,
          194,
          195,
          196,
          197,
          198,
          199,
          200,
          201,
          202,
          203,
          204,
          205,
          206,
          207,
          208,
          209,
          210,
          211,
          212,
          213,
          214,
          215,
          216,
          217,
          218,
          219,
          220,
          221,
          222,
          223,
          224,
          225,
          226,
          227,
          228,
          229,
          230,
          231,
          232,
          233,
          234,
          235,
          236,
          237,
          238,
          239,
          240,
          241,
          242,
          243,
          244,
          245,
          246,
          247,
          248,
          249,
          250,
          251
         ],
         "xaxis": "x",
         "y": [
          -0.0117055896263402,
          0.0002772176789211,
          -0.0011884211620791,
          0.0092888543279798,
          0.0075386415729292,
          -0.0051840224559088,
          0.0089327863529929,
          -0.0011694265619314,
          0.0046761894091288,
          0.0138275727865119,
          0.0012182078766347,
          -0.0014951744726943,
          -0.001324027278127,
          0.0079959454771487,
          -0.0101188722928386,
          -0.0172148479397163,
          0.0202096688861593,
          0.0064091312706037,
          0.0198602127898357,
          -0.016478438340572,
          0.0180127864930638,
          0.0280008006293753,
          0.0072018179078482,
          0.0100801847772268,
          -0.0059708506987223,
          0.018255211542254,
          -0.0075499109759737,
          0.0022838519907912,
          -0.0038003787525282,
          0.0024974094894083,
          0.0036948227822591,
          0.0053999296603991,
          -0.0110365966238714,
          -0.0222503131428533,
          -0.0369297408113842,
          -0.0200129318440187,
          0.0097632669248818,
          -0.0552554771489339,
          0.0084969403812278,
          0.0557630497841586,
          -0.0373642197814889,
          0.040537629648319,
          -0.0256570600377072,
          -0.0216208621243773,
          -0.0685373286689845,
          0.0580913348033559,
          -0.0472977007181952,
          -0.0909103930532257,
          0.1172677309982753,
          -0.1347447233977901,
          0.0934907956518335,
          -0.0452017747336309,
          0.0144066774305115,
          -0.0440638124511337,
          -0.005049852363595,
          0.0818996958655422,
          -0.0055290706773003,
          0.054375005610073,
          -0.0384693918992802,
          0.0613190704035478,
          -0.0159479308321764,
          -0.0406671051563852,
          0.0292212765485402,
          -0.0076627987299578,
          0.0786112187863711,
          -0.0176567371885863,
          0.0212267400248705,
          -0.0016881722198332,
          0.00009962588574908074,
          0.0402519093353511,
          -0.0157797764065381,
          0.0233448260897563,
          0.0117785975699473,
          -0.0193773036463499,
          -0.0354916039232725,
          0.033362128278095,
          -0.0075135754421118,
          0.0167065343277319,
          0.0069900795594359,
          -0.0185202409393511,
          0.0332551825214801,
          -0.0042472872278726,
          -0.0186021216767041,
          0.0150713235824122,
          0.0124521923953209,
          0.0020572636142162,
          0.0042190996573674,
          0.0092579350236468,
          0.0109197333638481,
          -0.0201325870671118,
          -0.0125262489755421,
          0.0041266533866396,
          0.0059574180911589,
          0.0203194712038494,
          -0.0062857425948659,
          0.0163259677350814,
          -0.012614913339343,
          0.0023435489821403,
          -0.0019398736191374,
          0.0051349330879791,
          -0.002656970331156,
          0.0145160926114009,
          0.0022615423897199,
          0.0093892199513562,
          0.0073187703942539,
          -0.0099835872534377,
          0.0159414072730539,
          0.0068364613728846,
          0.0014434392738072,
          0.0205067722877571,
          -0.0494325345727662,
          0.0066800672381821,
          0.0071046951107903,
          0.0228880566381036,
          0.0046894180213354,
          0.0108961196038795,
          -0.0018078692888233,
          0.0180004330292374,
          0.0054381952019132,
          -0.0206985524290341,
          0.0080808282229208,
          -0.0195951187721308,
          0.0094268324654352,
          0.0197989147457417,
          0.0015104017189166,
          0.0092283920653763,
          0.0190785404290303,
          -0.0069576519207679,
          0.0143125751121584,
          0.0108635394237103,
          -0.0021105432796319,
          -0.003101530951609,
          0.0092672685158914,
          0.0011306467969461,
          -0.0148848796490246,
          0.0009101012413984,
          0.0307236912921816,
          -0.017293844745597,
          0.0112765118838637,
          -0.0324920289689116,
          -0.0069183882407296,
          0.0154090148677619,
          -0.0051714055038726,
          0.0104631566409353,
          -0.0035268855359804,
          -0.0019890943238957,
          0.0366012200119167,
          -0.0071389626277236,
          -0.0037261399038428,
          0.0096711740787572,
          -0.0093067800397318,
          -0.0122142352144314,
          -0.0185574991858712,
          0.0248761816301842,
          -0.0048401685372058,
          -0.0027008768036352,
          0.0050692197558702,
          0.0041815196743448,
          -0.0052524085407324,
          0.0131722067538525,
          -0.0050908653160821,
          0.004222916785215,
          0.0134232316801217,
          0.0123505105845752,
          0.0150688120818361,
          0.0058693225061737,
          -0.010463748988443,
          0.0045094258910363,
          0.021664826737844,
          -0.0478319813315236,
          -0.010376503402963,
          -0.0454977759940888,
          0.0327685470040864,
          -0.0223840523112878,
          -0.0051027116800774,
          0.008651846622501,
          0.0136265930466422,
          -0.0084188786022657,
          -0.0097384122045649,
          -0.0143043087413574,
          0.0013779356626357,
          0.0182379488278592,
          -0.026729595305521,
          0.0098892729629518,
          0.0191137836780484,
          0.0138084870346526,
          -0.0061472250076053,
          0.007985948297812,
          0.0121380301763866,
          -0.0299907101776143,
          0.0224692406892221,
          -0.0150355940308266,
          0.0201656989260706,
          0.0071480836550077,
          0.0224764259053792,
          0.0237951558337828,
          -0.000264370971099,
          -0.0095618545655855,
          -0.0159499520438873,
          -0.00007470109519665952,
          -0.0188436987695824,
          0.0005220269956079,
          0.0007014636274885,
          -0.0016025058688053,
          0.0027420557001741,
          -0.0228605727101121,
          0.0090959504925536,
          -0.0406461491847059,
          0.0094142322288291,
          -0.0083493910360425,
          0.0014441659147173,
          0.019680680054861,
          0.0405537281690456,
          0.0304359116062839,
          0.0044061175634399,
          -0.0080255469731342,
          -0.0220061403156527,
          0.0204818562273442,
          -0.0060962469549402,
          0.009562305237526,
          0.0065817634037905,
          -0.0135742436455093,
          -0.0158618619476717,
          0.0064148916652388,
          -0.0073337301798359,
          0.0024322497645895,
          0.0104059918075045,
          -0.0012920836988721,
          0.0082546497821806,
          -0.0019390225682935,
          0.0124917190996952,
          -0.0014166997457479,
          -0.0042352888969812,
          0.0058438003323713,
          -0.000848168691452,
          0.0079414728109766,
          -0.0205142340350998,
          -0.0053377890409803,
          0.0061976640163114,
          0.0079135579880445,
          0.0049208144443932,
          0.0126378507284034,
          0.0054823758768879,
          -0.0026842283695704,
          0.0035570843419512,
          0.0066255956539579,
          -0.0084033877117504,
          0.006597929046938,
          0.0059174827613154,
          -0.0029773956611762,
          -0.0028864490666638
         ],
         "yaxis": "y"
        }
       ],
       "layout": {
        "legend": {
         "orientation": "h",
         "title": {
          "text": "variable"
         },
         "tracegroupgap": 0,
         "y": 1.02,
         "yanchor": "bottom"
        },
        "template": {
         "data": {
          "bar": [
           {
            "error_x": {
             "color": "#2a3f5f"
            },
            "error_y": {
             "color": "#2a3f5f"
            },
            "marker": {
             "line": {
              "color": "#E5ECF6",
              "width": 0.5
             },
             "pattern": {
              "fillmode": "overlay",
              "size": 10,
              "solidity": 0.2
             }
            },
            "type": "bar"
           }
          ],
          "barpolar": [
           {
            "marker": {
             "line": {
              "color": "#E5ECF6",
              "width": 0.5
             },
             "pattern": {
              "fillmode": "overlay",
              "size": 10,
              "solidity": 0.2
             }
            },
            "type": "barpolar"
           }
          ],
          "carpet": [
           {
            "aaxis": {
             "endlinecolor": "#2a3f5f",
             "gridcolor": "white",
             "linecolor": "white",
             "minorgridcolor": "white",
             "startlinecolor": "#2a3f5f"
            },
            "baxis": {
             "endlinecolor": "#2a3f5f",
             "gridcolor": "white",
             "linecolor": "white",
             "minorgridcolor": "white",
             "startlinecolor": "#2a3f5f"
            },
            "type": "carpet"
           }
          ],
          "choropleth": [
           {
            "colorbar": {
             "outlinewidth": 0,
             "ticks": ""
            },
            "type": "choropleth"
           }
          ],
          "contour": [
           {
            "colorbar": {
             "outlinewidth": 0,
             "ticks": ""
            },
            "colorscale": [
             [
              0,
              "#0d0887"
             ],
             [
              0.1111111111111111,
              "#46039f"
             ],
             [
              0.2222222222222222,
              "#7201a8"
             ],
             [
              0.3333333333333333,
              "#9c179e"
             ],
             [
              0.4444444444444444,
              "#bd3786"
             ],
             [
              0.5555555555555556,
              "#d8576b"
             ],
             [
              0.6666666666666666,
              "#ed7953"
             ],
             [
              0.7777777777777778,
              "#fb9f3a"
             ],
             [
              0.8888888888888888,
              "#fdca26"
             ],
             [
              1,
              "#f0f921"
             ]
            ],
            "type": "contour"
           }
          ],
          "contourcarpet": [
           {
            "colorbar": {
             "outlinewidth": 0,
             "ticks": ""
            },
            "type": "contourcarpet"
           }
          ],
          "heatmap": [
           {
            "colorbar": {
             "outlinewidth": 0,
             "ticks": ""
            },
            "colorscale": [
             [
              0,
              "#0d0887"
             ],
             [
              0.1111111111111111,
              "#46039f"
             ],
             [
              0.2222222222222222,
              "#7201a8"
             ],
             [
              0.3333333333333333,
              "#9c179e"
             ],
             [
              0.4444444444444444,
              "#bd3786"
             ],
             [
              0.5555555555555556,
              "#d8576b"
             ],
             [
              0.6666666666666666,
              "#ed7953"
             ],
             [
              0.7777777777777778,
              "#fb9f3a"
             ],
             [
              0.8888888888888888,
              "#fdca26"
             ],
             [
              1,
              "#f0f921"
             ]
            ],
            "type": "heatmap"
           }
          ],
          "heatmapgl": [
           {
            "colorbar": {
             "outlinewidth": 0,
             "ticks": ""
            },
            "colorscale": [
             [
              0,
              "#0d0887"
             ],
             [
              0.1111111111111111,
              "#46039f"
             ],
             [
              0.2222222222222222,
              "#7201a8"
             ],
             [
              0.3333333333333333,
              "#9c179e"
             ],
             [
              0.4444444444444444,
              "#bd3786"
             ],
             [
              0.5555555555555556,
              "#d8576b"
             ],
             [
              0.6666666666666666,
              "#ed7953"
             ],
             [
              0.7777777777777778,
              "#fb9f3a"
             ],
             [
              0.8888888888888888,
              "#fdca26"
             ],
             [
              1,
              "#f0f921"
             ]
            ],
            "type": "heatmapgl"
           }
          ],
          "histogram": [
           {
            "marker": {
             "pattern": {
              "fillmode": "overlay",
              "size": 10,
              "solidity": 0.2
             }
            },
            "type": "histogram"
           }
          ],
          "histogram2d": [
           {
            "colorbar": {
             "outlinewidth": 0,
             "ticks": ""
            },
            "colorscale": [
             [
              0,
              "#0d0887"
             ],
             [
              0.1111111111111111,
              "#46039f"
             ],
             [
              0.2222222222222222,
              "#7201a8"
             ],
             [
              0.3333333333333333,
              "#9c179e"
             ],
             [
              0.4444444444444444,
              "#bd3786"
             ],
             [
              0.5555555555555556,
              "#d8576b"
             ],
             [
              0.6666666666666666,
              "#ed7953"
             ],
             [
              0.7777777777777778,
              "#fb9f3a"
             ],
             [
              0.8888888888888888,
              "#fdca26"
             ],
             [
              1,
              "#f0f921"
             ]
            ],
            "type": "histogram2d"
           }
          ],
          "histogram2dcontour": [
           {
            "colorbar": {
             "outlinewidth": 0,
             "ticks": ""
            },
            "colorscale": [
             [
              0,
              "#0d0887"
             ],
             [
              0.1111111111111111,
              "#46039f"
             ],
             [
              0.2222222222222222,
              "#7201a8"
             ],
             [
              0.3333333333333333,
              "#9c179e"
             ],
             [
              0.4444444444444444,
              "#bd3786"
             ],
             [
              0.5555555555555556,
              "#d8576b"
             ],
             [
              0.6666666666666666,
              "#ed7953"
             ],
             [
              0.7777777777777778,
              "#fb9f3a"
             ],
             [
              0.8888888888888888,
              "#fdca26"
             ],
             [
              1,
              "#f0f921"
             ]
            ],
            "type": "histogram2dcontour"
           }
          ],
          "mesh3d": [
           {
            "colorbar": {
             "outlinewidth": 0,
             "ticks": ""
            },
            "type": "mesh3d"
           }
          ],
          "parcoords": [
           {
            "line": {
             "colorbar": {
              "outlinewidth": 0,
              "ticks": ""
             }
            },
            "type": "parcoords"
           }
          ],
          "pie": [
           {
            "automargin": true,
            "type": "pie"
           }
          ],
          "scatter": [
           {
            "fillpattern": {
             "fillmode": "overlay",
             "size": 10,
             "solidity": 0.2
            },
            "type": "scatter"
           }
          ],
          "scatter3d": [
           {
            "line": {
             "colorbar": {
              "outlinewidth": 0,
              "ticks": ""
             }
            },
            "marker": {
             "colorbar": {
              "outlinewidth": 0,
              "ticks": ""
             }
            },
            "type": "scatter3d"
           }
          ],
          "scattercarpet": [
           {
            "marker": {
             "colorbar": {
              "outlinewidth": 0,
              "ticks": ""
             }
            },
            "type": "scattercarpet"
           }
          ],
          "scattergeo": [
           {
            "marker": {
             "colorbar": {
              "outlinewidth": 0,
              "ticks": ""
             }
            },
            "type": "scattergeo"
           }
          ],
          "scattergl": [
           {
            "marker": {
             "colorbar": {
              "outlinewidth": 0,
              "ticks": ""
             }
            },
            "type": "scattergl"
           }
          ],
          "scattermapbox": [
           {
            "marker": {
             "colorbar": {
              "outlinewidth": 0,
              "ticks": ""
             }
            },
            "type": "scattermapbox"
           }
          ],
          "scatterpolar": [
           {
            "marker": {
             "colorbar": {
              "outlinewidth": 0,
              "ticks": ""
             }
            },
            "type": "scatterpolar"
           }
          ],
          "scatterpolargl": [
           {
            "marker": {
             "colorbar": {
              "outlinewidth": 0,
              "ticks": ""
             }
            },
            "type": "scatterpolargl"
           }
          ],
          "scatterternary": [
           {
            "marker": {
             "colorbar": {
              "outlinewidth": 0,
              "ticks": ""
             }
            },
            "type": "scatterternary"
           }
          ],
          "surface": [
           {
            "colorbar": {
             "outlinewidth": 0,
             "ticks": ""
            },
            "colorscale": [
             [
              0,
              "#0d0887"
             ],
             [
              0.1111111111111111,
              "#46039f"
             ],
             [
              0.2222222222222222,
              "#7201a8"
             ],
             [
              0.3333333333333333,
              "#9c179e"
             ],
             [
              0.4444444444444444,
              "#bd3786"
             ],
             [
              0.5555555555555556,
              "#d8576b"
             ],
             [
              0.6666666666666666,
              "#ed7953"
             ],
             [
              0.7777777777777778,
              "#fb9f3a"
             ],
             [
              0.8888888888888888,
              "#fdca26"
             ],
             [
              1,
              "#f0f921"
             ]
            ],
            "type": "surface"
           }
          ],
          "table": [
           {
            "cells": {
             "fill": {
              "color": "#EBF0F8"
             },
             "line": {
              "color": "white"
             }
            },
            "header": {
             "fill": {
              "color": "#C8D4E3"
             },
             "line": {
              "color": "white"
             }
            },
            "type": "table"
           }
          ]
         },
         "layout": {
          "annotationdefaults": {
           "arrowcolor": "#2a3f5f",
           "arrowhead": 0,
           "arrowwidth": 1
          },
          "autotypenumbers": "strict",
          "coloraxis": {
           "colorbar": {
            "outlinewidth": 0,
            "ticks": ""
           }
          },
          "colorscale": {
           "diverging": [
            [
             0,
             "#8e0152"
            ],
            [
             0.1,
             "#c51b7d"
            ],
            [
             0.2,
             "#de77ae"
            ],
            [
             0.3,
             "#f1b6da"
            ],
            [
             0.4,
             "#fde0ef"
            ],
            [
             0.5,
             "#f7f7f7"
            ],
            [
             0.6,
             "#e6f5d0"
            ],
            [
             0.7,
             "#b8e186"
            ],
            [
             0.8,
             "#7fbc41"
            ],
            [
             0.9,
             "#4d9221"
            ],
            [
             1,
             "#276419"
            ]
           ],
           "sequential": [
            [
             0,
             "#0d0887"
            ],
            [
             0.1111111111111111,
             "#46039f"
            ],
            [
             0.2222222222222222,
             "#7201a8"
            ],
            [
             0.3333333333333333,
             "#9c179e"
            ],
            [
             0.4444444444444444,
             "#bd3786"
            ],
            [
             0.5555555555555556,
             "#d8576b"
            ],
            [
             0.6666666666666666,
             "#ed7953"
            ],
            [
             0.7777777777777778,
             "#fb9f3a"
            ],
            [
             0.8888888888888888,
             "#fdca26"
            ],
            [
             1,
             "#f0f921"
            ]
           ],
           "sequentialminus": [
            [
             0,
             "#0d0887"
            ],
            [
             0.1111111111111111,
             "#46039f"
            ],
            [
             0.2222222222222222,
             "#7201a8"
            ],
            [
             0.3333333333333333,
             "#9c179e"
            ],
            [
             0.4444444444444444,
             "#bd3786"
            ],
            [
             0.5555555555555556,
             "#d8576b"
            ],
            [
             0.6666666666666666,
             "#ed7953"
            ],
            [
             0.7777777777777778,
             "#fb9f3a"
            ],
            [
             0.8888888888888888,
             "#fdca26"
            ],
            [
             1,
             "#f0f921"
            ]
           ]
          },
          "colorway": [
           "#636efa",
           "#EF553B",
           "#00cc96",
           "#ab63fa",
           "#FFA15A",
           "#19d3f3",
           "#FF6692",
           "#B6E880",
           "#FF97FF",
           "#FECB52"
          ],
          "font": {
           "color": "#2a3f5f"
          },
          "geo": {
           "bgcolor": "white",
           "lakecolor": "white",
           "landcolor": "#E5ECF6",
           "showlakes": true,
           "showland": true,
           "subunitcolor": "white"
          },
          "hoverlabel": {
           "align": "left"
          },
          "hovermode": "closest",
          "mapbox": {
           "style": "light"
          },
          "paper_bgcolor": "white",
          "plot_bgcolor": "#E5ECF6",
          "polar": {
           "angularaxis": {
            "gridcolor": "white",
            "linecolor": "white",
            "ticks": ""
           },
           "bgcolor": "#E5ECF6",
           "radialaxis": {
            "gridcolor": "white",
            "linecolor": "white",
            "ticks": ""
           }
          },
          "scene": {
           "xaxis": {
            "backgroundcolor": "#E5ECF6",
            "gridcolor": "white",
            "gridwidth": 2,
            "linecolor": "white",
            "showbackground": true,
            "ticks": "",
            "zerolinecolor": "white"
           },
           "yaxis": {
            "backgroundcolor": "#E5ECF6",
            "gridcolor": "white",
            "gridwidth": 2,
            "linecolor": "white",
            "showbackground": true,
            "ticks": "",
            "zerolinecolor": "white"
           },
           "zaxis": {
            "backgroundcolor": "#E5ECF6",
            "gridcolor": "white",
            "gridwidth": 2,
            "linecolor": "white",
            "showbackground": true,
            "ticks": "",
            "zerolinecolor": "white"
           }
          },
          "shapedefaults": {
           "line": {
            "color": "#2a3f5f"
           }
          },
          "ternary": {
           "aaxis": {
            "gridcolor": "white",
            "linecolor": "white",
            "ticks": ""
           },
           "baxis": {
            "gridcolor": "white",
            "linecolor": "white",
            "ticks": ""
           },
           "bgcolor": "#E5ECF6",
           "caxis": {
            "gridcolor": "white",
            "linecolor": "white",
            "ticks": ""
           }
          },
          "title": {
           "x": 0.05
          },
          "xaxis": {
           "automargin": true,
           "gridcolor": "white",
           "linecolor": "white",
           "ticks": "",
           "title": {
            "standoff": 15
           },
           "zerolinecolor": "white",
           "zerolinewidth": 2
          },
          "yaxis": {
           "automargin": true,
           "gridcolor": "white",
           "linecolor": "white",
           "ticks": "",
           "title": {
            "standoff": 15
           },
           "zerolinecolor": "white",
           "zerolinewidth": 2
          }
         }
        },
        "title": {
         "text": "Portfolio vs Index Returns: 2020"
        },
        "xaxis": {
         "anchor": "y",
         "domain": [
          0,
          1
         ],
         "title": {
          "text": "Index"
         }
        },
        "yaxis": {
         "anchor": "x",
         "domain": [
          0,
          1
         ],
         "title": {
          "text": "value"
         }
        }
       }
      }
     },
     "metadata": {},
     "output_type": "display_data"
    },
    {
     "data": {
      "application/vnd.plotly.v1+json": {
       "config": {
        "plotlyServerURL": "https://plot.ly"
       },
       "data": [
        {
         "alignmentgroup": "True",
         "hovertemplate": "variable=Error<br>Index=%{x}<br>value=%{y}<extra></extra>",
         "legendgroup": "Error",
         "marker": {
          "color": "#636efa",
          "pattern": {
           "shape": ""
          }
         },
         "name": "Error",
         "offsetgroup": "Error",
         "orientation": "v",
         "showlegend": true,
         "textposition": "auto",
         "type": "bar",
         "x": [
          1,
          2,
          3,
          4,
          5,
          6,
          7,
          8,
          9,
          10,
          11,
          12,
          13,
          14,
          15,
          16,
          17,
          18,
          19,
          20,
          21,
          22,
          23,
          24,
          25,
          26,
          27,
          28,
          29,
          30,
          31,
          32,
          33,
          34,
          35,
          36,
          37,
          38,
          39,
          40,
          41,
          42,
          43,
          44,
          45,
          46,
          47,
          48,
          49,
          50,
          51,
          52,
          53,
          54,
          55,
          56,
          57,
          58,
          59,
          60,
          61,
          62,
          63,
          64,
          65,
          66,
          67,
          68,
          69,
          70,
          71,
          72,
          73,
          74,
          75,
          76,
          77,
          78,
          79,
          80,
          81,
          82,
          83,
          84,
          85,
          86,
          87,
          88,
          89,
          90,
          91,
          92,
          93,
          94,
          95,
          96,
          97,
          98,
          99,
          100,
          101,
          102,
          103,
          104,
          105,
          106,
          107,
          108,
          109,
          110,
          111,
          112,
          113,
          114,
          115,
          116,
          117,
          118,
          119,
          120,
          121,
          122,
          123,
          124,
          125,
          126,
          127,
          128,
          129,
          130,
          131,
          132,
          133,
          134,
          135,
          136,
          137,
          138,
          139,
          140,
          141,
          142,
          143,
          144,
          145,
          146,
          147,
          148,
          149,
          150,
          151,
          152,
          153,
          154,
          155,
          156,
          157,
          158,
          159,
          160,
          161,
          162,
          163,
          164,
          165,
          166,
          167,
          168,
          169,
          170,
          171,
          172,
          173,
          174,
          175,
          176,
          177,
          178,
          179,
          180,
          181,
          182,
          183,
          184,
          185,
          186,
          187,
          188,
          189,
          190,
          191,
          192,
          193,
          194,
          195,
          196,
          197,
          198,
          199,
          200,
          201,
          202,
          203,
          204,
          205,
          206,
          207,
          208,
          209,
          210,
          211,
          212,
          213,
          214,
          215,
          216,
          217,
          218,
          219,
          220,
          221,
          222,
          223,
          224,
          225,
          226,
          227,
          228,
          229,
          230,
          231,
          232,
          233,
          234,
          235,
          236,
          237,
          238,
          239,
          240,
          241,
          242,
          243,
          244,
          245,
          246,
          247,
          248,
          249,
          250,
          251
         ],
         "xaxis": "x",
         "y": [
          0.002878110324665801,
          0.0059338078696399,
          0.0009545587636575,
          -0.0018372866881984007,
          0.0011301822063511996,
          0.0026266051540603003,
          0.002666959715000099,
          -0.0029350717259687,
          -0.0044271143058538,
          -0.0039411915030942,
          0.004122117493228199,
          0.0007211615426225001,
          0.0037186036142686997,
          -0.0049051098138675,
          0.0019263039941457994,
          -0.003491892294943899,
          -0.004710650229732098,
          -0.0052342608924842,
          -0.0160719280065365,
          0.0006532789486740978,
          -0.0030296850444699007,
          -0.005228079547439802,
          -0.0036212859057366004,
          -0.0017065934727582,
          0.0012259117864614,
          -0.0059438607626922,
          0.0076571427899715,
          0.0077330887368552,
          0.0019799651914850997,
          0.0004080463328284003,
          -0.0030485220345552,
          0.0038350145545184003,
          0.0016834829337711004,
          0.0034361414621635993,
          -0.0019262532237670008,
          -0.006944088337857701,
          -0.005361430962950999,
          0.005999033935909497,
          -0.0055147025750062004,
          -0.0065833348567753,
          0.005432381680483198,
          0.0007434736329949981,
          -0.005364442086612298,
          0.005324062035617,
          0.00027392185881150444,
          -0.004714616613314598,
          0.003564109408902401,
          -0.0018274380247089023,
          -0.0165456596056886,
          0.012812489607751693,
          -0.028883136300189308,
          0.005226927269451398,
          0.0013894198409,
          0.0036948513736282038,
          0.0068555943230469,
          -0.0038468335397097014,
          -0.0056189112246562995,
          0.0028581279768728,
          -0.0006283272182260047,
          -0.021700595768726703,
          0.0063764170123518996,
          -0.0012104095297349043,
          -0.009268787903049299,
          -0.006422465779292,
          -0.005080106319395608,
          0.013653834768100101,
          0.0011639964083076,
          0.0027806067857258,
          0.01133566146262092,
          0.002881551195850998,
          0.0042521246834123,
          -0.004039554911479698,
          -0.0032627805997886995,
          0.007387327169990299,
          -0.0015804643691907025,
          -0.0022256712984449027,
          0.004842991443233,
          0.00008448679128680164,
          -0.0011788955665181,
          0.000409050400831501,
          0.0019112426133578997,
          0.0062232946534729,
          -0.012766110272392599,
          -0.001773746777523599,
          -0.0015275196037759006,
          0.0040162491194348,
          0.008804979339470002,
          0.0037580273404878,
          -0.0023983305611489994,
          0.00007974990278299815,
          0.00019475584303029966,
          0.0063554582370785005,
          0.0004442794881626003,
          -0.000730582435659103,
          0.0027077421044704,
          0.0037287388336774002,
          0.0013308778505184,
          0.0014952266085486998,
          -0.0006105608303573001,
          0.0004102686482653998,
          -0.0000267524327910002,
          0.0002258196461639994,
          0.0022760786277673003,
          -0.0033031074797776998,
          -0.0024125530200912,
          0.0022522459457274,
          0.0042804374073805995,
          0.0010143961117531995,
          0.0051868956757385,
          -0.0077559263611232995,
          -0.0006731009591396941,
          0.0011730857450718002,
          0.0045997695815642,
          -0.0052464062554297,
          -0.0013615337823698003,
          -0.0079339960022532,
          0.0014672637120717001,
          -0.0058418945809079,
          0.0024085609622253997,
          0.0004121905038260987,
          0.001829483794628101,
          -0.005397355462795201,
          0.0019241385625764999,
          -0.00015366751195169948,
          0.0105406175143985,
          -0.0031345963117952,
          0.006271751333171999,
          -0.0005913249094329004,
          -0.0007540139630844,
          -0.002623911577040299,
          0.0097110414126223,
          -0.0185035805826088,
          -0.0010322335251300996,
          0.000006930992764100138,
          0.007856101720800101,
          0.0008552815926418,
          -0.001897574238419398,
          0.006427436800194201,
          -0.0077983022053742,
          0.005800203657870602,
          -0.0022928146764794,
          0.0028345824346879996,
          -0.0081202218876007,
          0.0019252098437549,
          0.0084532098547568,
          0.0197549415944543,
          -0.0229205081719108,
          0.0108892710560637,
          0.0063305904709404,
          0.0030599758376149994,
          -0.0020262742292850994,
          0.0073468473499627,
          -0.0003046239488187011,
          0.0010191453560437977,
          0.0066909400657714,
          0.0014556219184803,
          0.0060482206712455,
          0.0056035954435678,
          -0.0018000001375365997,
          0.0008233055071991992,
          0.0118966517588611,
          0.001922368872167,
          -0.005196992887974499,
          0.0089884182306624,
          -0.0188927761474509,
          -0.00002591196455320032,
          0.02003794287499,
          0.010531830765618599,
          -0.0112783352000955,
          -0.004433855573262098,
          -0.0023017352794172004,
          -0.002158730663363799,
          -0.0031713161107608002,
          0.0011719884220031986,
          -0.0008789102929875996,
          0.008517135582893999,
          0.0006590765620125994,
          -0.008302223044441299,
          -0.0050780300389726,
          0.0013117650152788003,
          0.0025755558991902997,
          0.0005367565122131983,
          -0.0048302436961229,
          -0.0040609958280599994,
          0.004257102151044599,
          0.005321441707599501,
          0.0024954865363505004,
          0.0004137503955548988,
          0.0023250779364745993,
          0.0017161604551638975,
          0.00004107456648960034,
          -0.0038877627104749023,
          -0.0013971362381512004,
          -0.0029970613546666004,
          -0.007334006891103501,
          0.007099043908559099,
          -0.00014433062550750004,
          0.0014671599906043997,
          0.0087086144899437,
          -0.0038249598549093405,
          0.00046560332627969964,
          0.0032160616348575,
          -0.0017692741276195,
          0.0013916287191997,
          -0.00019893827981320002,
          0.0067776435496032,
          -0.0008878137030288013,
          0.0013158285837952047,
          0.0092508439545371,
          -0.0178859049857042,
          0.0014337598358213,
          -0.0020753918890175013,
          0.0035166024407505964,
          -0.004873350617646502,
          -0.0033066621323016,
          -0.013556821283274099,
          0.0045849381323417,
          0.0026283422514955003,
          0.0005643854443723,
          -0.0002024605687431999,
          -0.0002539820788233999,
          0.0105867704815457,
          0.008950541762023898,
          0.0012120055273011007,
          0.0007432897832011995,
          -0.0024742438435873533,
          0.004197570256512899,
          0.0072863967367060006,
          0.00046723250392909955,
          0.002763804492652,
          0.0027515876672114005,
          0.0015034160345224466,
          0.0050958674956551,
          -0.0009228128564632001,
          0.006274944920445,
          -0.0048255204178612,
          -0.0009392395930304977,
          0.0083383277586613,
          -0.0083207588007278,
          -0.0008996652056819003,
          0.0058084190085151005,
          -0.006902641195569399,
          0.0011404808710804995,
          0.0015957861517618003,
          -0.007318997045822,
          -0.0044743552148509,
          0.0033379567502975,
          -0.0020243511365732004,
          0.004140772429530899,
          0.0033380102230441,
          0.0030320574617737
         ],
         "yaxis": "y"
        }
       ],
       "layout": {
        "barmode": "relative",
        "legend": {
         "title": {
          "text": "variable"
         },
         "tracegroupgap": 0
        },
        "template": {
         "data": {
          "bar": [
           {
            "error_x": {
             "color": "#2a3f5f"
            },
            "error_y": {
             "color": "#2a3f5f"
            },
            "marker": {
             "line": {
              "color": "#E5ECF6",
              "width": 0.5
             },
             "pattern": {
              "fillmode": "overlay",
              "size": 10,
              "solidity": 0.2
             }
            },
            "type": "bar"
           }
          ],
          "barpolar": [
           {
            "marker": {
             "line": {
              "color": "#E5ECF6",
              "width": 0.5
             },
             "pattern": {
              "fillmode": "overlay",
              "size": 10,
              "solidity": 0.2
             }
            },
            "type": "barpolar"
           }
          ],
          "carpet": [
           {
            "aaxis": {
             "endlinecolor": "#2a3f5f",
             "gridcolor": "white",
             "linecolor": "white",
             "minorgridcolor": "white",
             "startlinecolor": "#2a3f5f"
            },
            "baxis": {
             "endlinecolor": "#2a3f5f",
             "gridcolor": "white",
             "linecolor": "white",
             "minorgridcolor": "white",
             "startlinecolor": "#2a3f5f"
            },
            "type": "carpet"
           }
          ],
          "choropleth": [
           {
            "colorbar": {
             "outlinewidth": 0,
             "ticks": ""
            },
            "type": "choropleth"
           }
          ],
          "contour": [
           {
            "colorbar": {
             "outlinewidth": 0,
             "ticks": ""
            },
            "colorscale": [
             [
              0,
              "#0d0887"
             ],
             [
              0.1111111111111111,
              "#46039f"
             ],
             [
              0.2222222222222222,
              "#7201a8"
             ],
             [
              0.3333333333333333,
              "#9c179e"
             ],
             [
              0.4444444444444444,
              "#bd3786"
             ],
             [
              0.5555555555555556,
              "#d8576b"
             ],
             [
              0.6666666666666666,
              "#ed7953"
             ],
             [
              0.7777777777777778,
              "#fb9f3a"
             ],
             [
              0.8888888888888888,
              "#fdca26"
             ],
             [
              1,
              "#f0f921"
             ]
            ],
            "type": "contour"
           }
          ],
          "contourcarpet": [
           {
            "colorbar": {
             "outlinewidth": 0,
             "ticks": ""
            },
            "type": "contourcarpet"
           }
          ],
          "heatmap": [
           {
            "colorbar": {
             "outlinewidth": 0,
             "ticks": ""
            },
            "colorscale": [
             [
              0,
              "#0d0887"
             ],
             [
              0.1111111111111111,
              "#46039f"
             ],
             [
              0.2222222222222222,
              "#7201a8"
             ],
             [
              0.3333333333333333,
              "#9c179e"
             ],
             [
              0.4444444444444444,
              "#bd3786"
             ],
             [
              0.5555555555555556,
              "#d8576b"
             ],
             [
              0.6666666666666666,
              "#ed7953"
             ],
             [
              0.7777777777777778,
              "#fb9f3a"
             ],
             [
              0.8888888888888888,
              "#fdca26"
             ],
             [
              1,
              "#f0f921"
             ]
            ],
            "type": "heatmap"
           }
          ],
          "heatmapgl": [
           {
            "colorbar": {
             "outlinewidth": 0,
             "ticks": ""
            },
            "colorscale": [
             [
              0,
              "#0d0887"
             ],
             [
              0.1111111111111111,
              "#46039f"
             ],
             [
              0.2222222222222222,
              "#7201a8"
             ],
             [
              0.3333333333333333,
              "#9c179e"
             ],
             [
              0.4444444444444444,
              "#bd3786"
             ],
             [
              0.5555555555555556,
              "#d8576b"
             ],
             [
              0.6666666666666666,
              "#ed7953"
             ],
             [
              0.7777777777777778,
              "#fb9f3a"
             ],
             [
              0.8888888888888888,
              "#fdca26"
             ],
             [
              1,
              "#f0f921"
             ]
            ],
            "type": "heatmapgl"
           }
          ],
          "histogram": [
           {
            "marker": {
             "pattern": {
              "fillmode": "overlay",
              "size": 10,
              "solidity": 0.2
             }
            },
            "type": "histogram"
           }
          ],
          "histogram2d": [
           {
            "colorbar": {
             "outlinewidth": 0,
             "ticks": ""
            },
            "colorscale": [
             [
              0,
              "#0d0887"
             ],
             [
              0.1111111111111111,
              "#46039f"
             ],
             [
              0.2222222222222222,
              "#7201a8"
             ],
             [
              0.3333333333333333,
              "#9c179e"
             ],
             [
              0.4444444444444444,
              "#bd3786"
             ],
             [
              0.5555555555555556,
              "#d8576b"
             ],
             [
              0.6666666666666666,
              "#ed7953"
             ],
             [
              0.7777777777777778,
              "#fb9f3a"
             ],
             [
              0.8888888888888888,
              "#fdca26"
             ],
             [
              1,
              "#f0f921"
             ]
            ],
            "type": "histogram2d"
           }
          ],
          "histogram2dcontour": [
           {
            "colorbar": {
             "outlinewidth": 0,
             "ticks": ""
            },
            "colorscale": [
             [
              0,
              "#0d0887"
             ],
             [
              0.1111111111111111,
              "#46039f"
             ],
             [
              0.2222222222222222,
              "#7201a8"
             ],
             [
              0.3333333333333333,
              "#9c179e"
             ],
             [
              0.4444444444444444,
              "#bd3786"
             ],
             [
              0.5555555555555556,
              "#d8576b"
             ],
             [
              0.6666666666666666,
              "#ed7953"
             ],
             [
              0.7777777777777778,
              "#fb9f3a"
             ],
             [
              0.8888888888888888,
              "#fdca26"
             ],
             [
              1,
              "#f0f921"
             ]
            ],
            "type": "histogram2dcontour"
           }
          ],
          "mesh3d": [
           {
            "colorbar": {
             "outlinewidth": 0,
             "ticks": ""
            },
            "type": "mesh3d"
           }
          ],
          "parcoords": [
           {
            "line": {
             "colorbar": {
              "outlinewidth": 0,
              "ticks": ""
             }
            },
            "type": "parcoords"
           }
          ],
          "pie": [
           {
            "automargin": true,
            "type": "pie"
           }
          ],
          "scatter": [
           {
            "fillpattern": {
             "fillmode": "overlay",
             "size": 10,
             "solidity": 0.2
            },
            "type": "scatter"
           }
          ],
          "scatter3d": [
           {
            "line": {
             "colorbar": {
              "outlinewidth": 0,
              "ticks": ""
             }
            },
            "marker": {
             "colorbar": {
              "outlinewidth": 0,
              "ticks": ""
             }
            },
            "type": "scatter3d"
           }
          ],
          "scattercarpet": [
           {
            "marker": {
             "colorbar": {
              "outlinewidth": 0,
              "ticks": ""
             }
            },
            "type": "scattercarpet"
           }
          ],
          "scattergeo": [
           {
            "marker": {
             "colorbar": {
              "outlinewidth": 0,
              "ticks": ""
             }
            },
            "type": "scattergeo"
           }
          ],
          "scattergl": [
           {
            "marker": {
             "colorbar": {
              "outlinewidth": 0,
              "ticks": ""
             }
            },
            "type": "scattergl"
           }
          ],
          "scattermapbox": [
           {
            "marker": {
             "colorbar": {
              "outlinewidth": 0,
              "ticks": ""
             }
            },
            "type": "scattermapbox"
           }
          ],
          "scatterpolar": [
           {
            "marker": {
             "colorbar": {
              "outlinewidth": 0,
              "ticks": ""
             }
            },
            "type": "scatterpolar"
           }
          ],
          "scatterpolargl": [
           {
            "marker": {
             "colorbar": {
              "outlinewidth": 0,
              "ticks": ""
             }
            },
            "type": "scatterpolargl"
           }
          ],
          "scatterternary": [
           {
            "marker": {
             "colorbar": {
              "outlinewidth": 0,
              "ticks": ""
             }
            },
            "type": "scatterternary"
           }
          ],
          "surface": [
           {
            "colorbar": {
             "outlinewidth": 0,
             "ticks": ""
            },
            "colorscale": [
             [
              0,
              "#0d0887"
             ],
             [
              0.1111111111111111,
              "#46039f"
             ],
             [
              0.2222222222222222,
              "#7201a8"
             ],
             [
              0.3333333333333333,
              "#9c179e"
             ],
             [
              0.4444444444444444,
              "#bd3786"
             ],
             [
              0.5555555555555556,
              "#d8576b"
             ],
             [
              0.6666666666666666,
              "#ed7953"
             ],
             [
              0.7777777777777778,
              "#fb9f3a"
             ],
             [
              0.8888888888888888,
              "#fdca26"
             ],
             [
              1,
              "#f0f921"
             ]
            ],
            "type": "surface"
           }
          ],
          "table": [
           {
            "cells": {
             "fill": {
              "color": "#EBF0F8"
             },
             "line": {
              "color": "white"
             }
            },
            "header": {
             "fill": {
              "color": "#C8D4E3"
             },
             "line": {
              "color": "white"
             }
            },
            "type": "table"
           }
          ]
         },
         "layout": {
          "annotationdefaults": {
           "arrowcolor": "#2a3f5f",
           "arrowhead": 0,
           "arrowwidth": 1
          },
          "autotypenumbers": "strict",
          "coloraxis": {
           "colorbar": {
            "outlinewidth": 0,
            "ticks": ""
           }
          },
          "colorscale": {
           "diverging": [
            [
             0,
             "#8e0152"
            ],
            [
             0.1,
             "#c51b7d"
            ],
            [
             0.2,
             "#de77ae"
            ],
            [
             0.3,
             "#f1b6da"
            ],
            [
             0.4,
             "#fde0ef"
            ],
            [
             0.5,
             "#f7f7f7"
            ],
            [
             0.6,
             "#e6f5d0"
            ],
            [
             0.7,
             "#b8e186"
            ],
            [
             0.8,
             "#7fbc41"
            ],
            [
             0.9,
             "#4d9221"
            ],
            [
             1,
             "#276419"
            ]
           ],
           "sequential": [
            [
             0,
             "#0d0887"
            ],
            [
             0.1111111111111111,
             "#46039f"
            ],
            [
             0.2222222222222222,
             "#7201a8"
            ],
            [
             0.3333333333333333,
             "#9c179e"
            ],
            [
             0.4444444444444444,
             "#bd3786"
            ],
            [
             0.5555555555555556,
             "#d8576b"
            ],
            [
             0.6666666666666666,
             "#ed7953"
            ],
            [
             0.7777777777777778,
             "#fb9f3a"
            ],
            [
             0.8888888888888888,
             "#fdca26"
            ],
            [
             1,
             "#f0f921"
            ]
           ],
           "sequentialminus": [
            [
             0,
             "#0d0887"
            ],
            [
             0.1111111111111111,
             "#46039f"
            ],
            [
             0.2222222222222222,
             "#7201a8"
            ],
            [
             0.3333333333333333,
             "#9c179e"
            ],
            [
             0.4444444444444444,
             "#bd3786"
            ],
            [
             0.5555555555555556,
             "#d8576b"
            ],
            [
             0.6666666666666666,
             "#ed7953"
            ],
            [
             0.7777777777777778,
             "#fb9f3a"
            ],
            [
             0.8888888888888888,
             "#fdca26"
            ],
            [
             1,
             "#f0f921"
            ]
           ]
          },
          "colorway": [
           "#636efa",
           "#EF553B",
           "#00cc96",
           "#ab63fa",
           "#FFA15A",
           "#19d3f3",
           "#FF6692",
           "#B6E880",
           "#FF97FF",
           "#FECB52"
          ],
          "font": {
           "color": "#2a3f5f"
          },
          "geo": {
           "bgcolor": "white",
           "lakecolor": "white",
           "landcolor": "#E5ECF6",
           "showlakes": true,
           "showland": true,
           "subunitcolor": "white"
          },
          "hoverlabel": {
           "align": "left"
          },
          "hovermode": "closest",
          "mapbox": {
           "style": "light"
          },
          "paper_bgcolor": "white",
          "plot_bgcolor": "#E5ECF6",
          "polar": {
           "angularaxis": {
            "gridcolor": "white",
            "linecolor": "white",
            "ticks": ""
           },
           "bgcolor": "#E5ECF6",
           "radialaxis": {
            "gridcolor": "white",
            "linecolor": "white",
            "ticks": ""
           }
          },
          "scene": {
           "xaxis": {
            "backgroundcolor": "#E5ECF6",
            "gridcolor": "white",
            "gridwidth": 2,
            "linecolor": "white",
            "showbackground": true,
            "ticks": "",
            "zerolinecolor": "white"
           },
           "yaxis": {
            "backgroundcolor": "#E5ECF6",
            "gridcolor": "white",
            "gridwidth": 2,
            "linecolor": "white",
            "showbackground": true,
            "ticks": "",
            "zerolinecolor": "white"
           },
           "zaxis": {
            "backgroundcolor": "#E5ECF6",
            "gridcolor": "white",
            "gridwidth": 2,
            "linecolor": "white",
            "showbackground": true,
            "ticks": "",
            "zerolinecolor": "white"
           }
          },
          "shapedefaults": {
           "line": {
            "color": "#2a3f5f"
           }
          },
          "ternary": {
           "aaxis": {
            "gridcolor": "white",
            "linecolor": "white",
            "ticks": ""
           },
           "baxis": {
            "gridcolor": "white",
            "linecolor": "white",
            "ticks": ""
           },
           "bgcolor": "#E5ECF6",
           "caxis": {
            "gridcolor": "white",
            "linecolor": "white",
            "ticks": ""
           }
          },
          "title": {
           "x": 0.05
          },
          "xaxis": {
           "automargin": true,
           "gridcolor": "white",
           "linecolor": "white",
           "ticks": "",
           "title": {
            "standoff": 15
           },
           "zerolinecolor": "white",
           "zerolinewidth": 2
          },
          "yaxis": {
           "automargin": true,
           "gridcolor": "white",
           "linecolor": "white",
           "ticks": "",
           "title": {
            "standoff": 15
           },
           "zerolinecolor": "white",
           "zerolinewidth": 2
          }
         }
        },
        "title": {
         "text": "Error Rate 2020"
        },
        "xaxis": {
         "anchor": "y",
         "domain": [
          0,
          1
         ],
         "title": {
          "text": "Index"
         }
        },
        "yaxis": {
         "anchor": "x",
         "domain": [
          0,
          1
         ],
         "title": {
          "text": "value"
         }
        }
       }
      }
     },
     "metadata": {},
     "output_type": "display_data"
    }
   ],
   "source": [
    "df_returns_old = pd.read_csv('Returns_old_m-5_2step.csv')\n",
    "fig = px.line(df_returns_old, x='Index', y=['Index Return', 'Portfolio Return'], title='Portfolio vs Index Returns: 2019')\n",
    "fig.update_layout(\n",
    "    legend=dict(\n",
    "        orientation=\"h\",  # Set orientation to horizontal\n",
    "        yanchor=\"bottom\",  # Anchor the legend to the bottom\n",
    "        y=1.02  # Adjust the position of the legend\n",
    "    )\n",
    ")\n",
    "fig.show()\n",
    "\n",
    "df_returns_new = pd.read_csv('Returns_new_m-5_2step.csv')\n",
    "df_returns_new['Error'] = df_returns_new['Index Return'] - df_returns_new['Portfolio Return']\n",
    "fig = px.line(df_returns_new, x='Index', y=['Index Return', 'Portfolio Return'], title='Portfolio vs Index Returns: 2020')\n",
    "fig.update_layout(\n",
    "    legend=dict(\n",
    "        orientation=\"h\",  # Set orientation to horizontal\n",
    "        yanchor=\"bottom\",  # Anchor the legend to the bottom\n",
    "        y=1.02  # Adjust the position of the legend\n",
    "    )\n",
    ")\n",
    "fig.show()\n",
    "\n",
    "fig = px.bar(df_returns_new, x='Index', y=['Error'], title='Error Rate 2020')\n",
    "fig.show()"
   ]
  },
  {
   "cell_type": "code",
   "execution_count": 55,
   "metadata": {},
   "outputs": [
    {
     "data": {
      "application/vnd.plotly.v1+json": {
       "config": {
        "plotlyServerURL": "https://plot.ly"
       },
       "data": [
        {
         "hovertemplate": "variable=2019_return_error<br>m=%{x}<br>value=%{y}<extra></extra>",
         "legendgroup": "2019_return_error",
         "line": {
          "color": "#636efa",
          "dash": "solid"
         },
         "marker": {
          "symbol": "circle"
         },
         "mode": "lines",
         "name": "2019_return_error",
         "orientation": "v",
         "showlegend": true,
         "type": "scatter",
         "x": [
          5,
          10,
          15,
          20,
          25,
          30,
          35,
          40,
          45,
          50,
          55,
          60,
          65,
          70,
          75,
          80,
          85,
          90,
          95,
          100
         ],
         "xaxis": "x",
         "y": [
          0.7891782824631471,
          0.7012177959266304,
          0.5822760082911881,
          0.4788357879113356,
          0.4429662824315858,
          0.4180147550230181,
          0.382997456645814,
          0.3705172225552055,
          0.3439444962310913,
          0.3325400929154756,
          0.3122492090945182,
          0.3448899790645137,
          0.1777646211954884,
          0.1698237182753089,
          0.1589493073243201,
          0.1476825280009612,
          0.1108611175935567,
          0.053779189845472,
          0.0486664307767494,
          0.0449108163561474
         ],
         "yaxis": "y"
        },
        {
         "hovertemplate": "variable=2020_return_error<br>m=%{x}<br>value=%{y}<extra></extra>",
         "legendgroup": "2020_return_error",
         "line": {
          "color": "#EF553B",
          "dash": "solid"
         },
         "marker": {
          "symbol": "circle"
         },
         "mode": "lines",
         "name": "2020_return_error",
         "orientation": "v",
         "showlegend": true,
         "type": "scatter",
         "x": [
          5,
          10,
          15,
          20,
          25,
          30,
          35,
          40,
          45,
          50,
          55,
          60,
          65,
          70,
          75,
          80,
          85,
          90,
          95,
          100
         ],
         "xaxis": "x",
         "y": [
          1.1124373455076464,
          1.1024044007151053,
          1.2646892450924831,
          0.8995975248049078,
          0.8050650113947341,
          0.7691103647201496,
          0.7667738507704889,
          0.7910472207956691,
          0.7604945653754235,
          0.7720996592107854,
          0.796320441603154,
          1.0973035971624083,
          0.5587497953651943,
          0.5578542933361194,
          0.5610733378247444,
          0.5373227700587149,
          0.4518751689870794,
          0.3677895223581099,
          0.3689707298354131,
          0.3686708536103171
         ],
         "yaxis": "y"
        },
        {
         "hovertemplate": "variable=2019_return_error<br>m=%{x}<br>value=%{y}<extra></extra>",
         "legendgroup": "2019_return_error",
         "line": {
          "color": "#636efa",
          "dash": "solid"
         },
         "marker": {
          "symbol": "circle"
         },
         "mode": "lines",
         "name": "2019_return_error",
         "orientation": "v",
         "showlegend": false,
         "type": "scatter",
         "x": [
          5,
          10,
          15,
          20,
          25,
          30,
          35,
          40,
          45,
          50,
          55,
          60,
          65,
          70,
          75,
          80,
          85,
          90,
          95,
          100
         ],
         "xaxis": "x2",
         "y": [
          0.4992586920546359,
          0.2901370241328436,
          0.207519687674673,
          0.157501375716148,
          0.1334421038015731,
          0.1056528385515256,
          0.0929860664440422,
          0.0785768870761832,
          0.0676973114646407,
          0.060978779501919,
          0.0562059035034644,
          0.0524416066893452,
          0.0491732454433438,
          0.0474877229535415,
          0.0460415500685385,
          0.0452271208876129,
          0.0449656608450206,
          0.0449108164606383,
          0.0449108164083928,
          0.0449108164083929
         ],
         "yaxis": "y2"
        },
        {
         "hovertemplate": "variable=2020_return_error<br>m=%{x}<br>value=%{y}<extra></extra>",
         "legendgroup": "2020_return_error",
         "line": {
          "color": "#EF553B",
          "dash": "solid"
         },
         "marker": {
          "symbol": "circle"
         },
         "mode": "lines",
         "name": "2020_return_error",
         "orientation": "v",
         "showlegend": false,
         "type": "scatter",
         "x": [
          5,
          10,
          15,
          20,
          25,
          30,
          35,
          40,
          45,
          50,
          55,
          60,
          65,
          70,
          75,
          80,
          85,
          90,
          95,
          100
         ],
         "xaxis": "x2",
         "y": [
          0.7773624845503464,
          0.7533721642362791,
          0.6367542674477454,
          0.5594636769069442,
          0.4780148711571821,
          0.4916229113126487,
          0.4764355877134356,
          0.4082495639884021,
          0.4066852051243997,
          0.3916770832192824,
          0.3760911483040245,
          0.373525715107096,
          0.3691970811770877,
          0.3605022771103967,
          0.362994790889923,
          0.3706285957205264,
          0.3610194322421359,
          0.3686708536103169,
          0.3686708536103173,
          0.3686708536103171
         ],
         "yaxis": "y2"
        }
       ],
       "layout": {
        "legend": {
         "orientation": "h",
         "y": 1.02,
         "yanchor": "bottom"
        },
        "template": {
         "data": {
          "bar": [
           {
            "error_x": {
             "color": "#2a3f5f"
            },
            "error_y": {
             "color": "#2a3f5f"
            },
            "marker": {
             "line": {
              "color": "#E5ECF6",
              "width": 0.5
             },
             "pattern": {
              "fillmode": "overlay",
              "size": 10,
              "solidity": 0.2
             }
            },
            "type": "bar"
           }
          ],
          "barpolar": [
           {
            "marker": {
             "line": {
              "color": "#E5ECF6",
              "width": 0.5
             },
             "pattern": {
              "fillmode": "overlay",
              "size": 10,
              "solidity": 0.2
             }
            },
            "type": "barpolar"
           }
          ],
          "carpet": [
           {
            "aaxis": {
             "endlinecolor": "#2a3f5f",
             "gridcolor": "white",
             "linecolor": "white",
             "minorgridcolor": "white",
             "startlinecolor": "#2a3f5f"
            },
            "baxis": {
             "endlinecolor": "#2a3f5f",
             "gridcolor": "white",
             "linecolor": "white",
             "minorgridcolor": "white",
             "startlinecolor": "#2a3f5f"
            },
            "type": "carpet"
           }
          ],
          "choropleth": [
           {
            "colorbar": {
             "outlinewidth": 0,
             "ticks": ""
            },
            "type": "choropleth"
           }
          ],
          "contour": [
           {
            "colorbar": {
             "outlinewidth": 0,
             "ticks": ""
            },
            "colorscale": [
             [
              0,
              "#0d0887"
             ],
             [
              0.1111111111111111,
              "#46039f"
             ],
             [
              0.2222222222222222,
              "#7201a8"
             ],
             [
              0.3333333333333333,
              "#9c179e"
             ],
             [
              0.4444444444444444,
              "#bd3786"
             ],
             [
              0.5555555555555556,
              "#d8576b"
             ],
             [
              0.6666666666666666,
              "#ed7953"
             ],
             [
              0.7777777777777778,
              "#fb9f3a"
             ],
             [
              0.8888888888888888,
              "#fdca26"
             ],
             [
              1,
              "#f0f921"
             ]
            ],
            "type": "contour"
           }
          ],
          "contourcarpet": [
           {
            "colorbar": {
             "outlinewidth": 0,
             "ticks": ""
            },
            "type": "contourcarpet"
           }
          ],
          "heatmap": [
           {
            "colorbar": {
             "outlinewidth": 0,
             "ticks": ""
            },
            "colorscale": [
             [
              0,
              "#0d0887"
             ],
             [
              0.1111111111111111,
              "#46039f"
             ],
             [
              0.2222222222222222,
              "#7201a8"
             ],
             [
              0.3333333333333333,
              "#9c179e"
             ],
             [
              0.4444444444444444,
              "#bd3786"
             ],
             [
              0.5555555555555556,
              "#d8576b"
             ],
             [
              0.6666666666666666,
              "#ed7953"
             ],
             [
              0.7777777777777778,
              "#fb9f3a"
             ],
             [
              0.8888888888888888,
              "#fdca26"
             ],
             [
              1,
              "#f0f921"
             ]
            ],
            "type": "heatmap"
           }
          ],
          "heatmapgl": [
           {
            "colorbar": {
             "outlinewidth": 0,
             "ticks": ""
            },
            "colorscale": [
             [
              0,
              "#0d0887"
             ],
             [
              0.1111111111111111,
              "#46039f"
             ],
             [
              0.2222222222222222,
              "#7201a8"
             ],
             [
              0.3333333333333333,
              "#9c179e"
             ],
             [
              0.4444444444444444,
              "#bd3786"
             ],
             [
              0.5555555555555556,
              "#d8576b"
             ],
             [
              0.6666666666666666,
              "#ed7953"
             ],
             [
              0.7777777777777778,
              "#fb9f3a"
             ],
             [
              0.8888888888888888,
              "#fdca26"
             ],
             [
              1,
              "#f0f921"
             ]
            ],
            "type": "heatmapgl"
           }
          ],
          "histogram": [
           {
            "marker": {
             "pattern": {
              "fillmode": "overlay",
              "size": 10,
              "solidity": 0.2
             }
            },
            "type": "histogram"
           }
          ],
          "histogram2d": [
           {
            "colorbar": {
             "outlinewidth": 0,
             "ticks": ""
            },
            "colorscale": [
             [
              0,
              "#0d0887"
             ],
             [
              0.1111111111111111,
              "#46039f"
             ],
             [
              0.2222222222222222,
              "#7201a8"
             ],
             [
              0.3333333333333333,
              "#9c179e"
             ],
             [
              0.4444444444444444,
              "#bd3786"
             ],
             [
              0.5555555555555556,
              "#d8576b"
             ],
             [
              0.6666666666666666,
              "#ed7953"
             ],
             [
              0.7777777777777778,
              "#fb9f3a"
             ],
             [
              0.8888888888888888,
              "#fdca26"
             ],
             [
              1,
              "#f0f921"
             ]
            ],
            "type": "histogram2d"
           }
          ],
          "histogram2dcontour": [
           {
            "colorbar": {
             "outlinewidth": 0,
             "ticks": ""
            },
            "colorscale": [
             [
              0,
              "#0d0887"
             ],
             [
              0.1111111111111111,
              "#46039f"
             ],
             [
              0.2222222222222222,
              "#7201a8"
             ],
             [
              0.3333333333333333,
              "#9c179e"
             ],
             [
              0.4444444444444444,
              "#bd3786"
             ],
             [
              0.5555555555555556,
              "#d8576b"
             ],
             [
              0.6666666666666666,
              "#ed7953"
             ],
             [
              0.7777777777777778,
              "#fb9f3a"
             ],
             [
              0.8888888888888888,
              "#fdca26"
             ],
             [
              1,
              "#f0f921"
             ]
            ],
            "type": "histogram2dcontour"
           }
          ],
          "mesh3d": [
           {
            "colorbar": {
             "outlinewidth": 0,
             "ticks": ""
            },
            "type": "mesh3d"
           }
          ],
          "parcoords": [
           {
            "line": {
             "colorbar": {
              "outlinewidth": 0,
              "ticks": ""
             }
            },
            "type": "parcoords"
           }
          ],
          "pie": [
           {
            "automargin": true,
            "type": "pie"
           }
          ],
          "scatter": [
           {
            "fillpattern": {
             "fillmode": "overlay",
             "size": 10,
             "solidity": 0.2
            },
            "type": "scatter"
           }
          ],
          "scatter3d": [
           {
            "line": {
             "colorbar": {
              "outlinewidth": 0,
              "ticks": ""
             }
            },
            "marker": {
             "colorbar": {
              "outlinewidth": 0,
              "ticks": ""
             }
            },
            "type": "scatter3d"
           }
          ],
          "scattercarpet": [
           {
            "marker": {
             "colorbar": {
              "outlinewidth": 0,
              "ticks": ""
             }
            },
            "type": "scattercarpet"
           }
          ],
          "scattergeo": [
           {
            "marker": {
             "colorbar": {
              "outlinewidth": 0,
              "ticks": ""
             }
            },
            "type": "scattergeo"
           }
          ],
          "scattergl": [
           {
            "marker": {
             "colorbar": {
              "outlinewidth": 0,
              "ticks": ""
             }
            },
            "type": "scattergl"
           }
          ],
          "scattermapbox": [
           {
            "marker": {
             "colorbar": {
              "outlinewidth": 0,
              "ticks": ""
             }
            },
            "type": "scattermapbox"
           }
          ],
          "scatterpolar": [
           {
            "marker": {
             "colorbar": {
              "outlinewidth": 0,
              "ticks": ""
             }
            },
            "type": "scatterpolar"
           }
          ],
          "scatterpolargl": [
           {
            "marker": {
             "colorbar": {
              "outlinewidth": 0,
              "ticks": ""
             }
            },
            "type": "scatterpolargl"
           }
          ],
          "scatterternary": [
           {
            "marker": {
             "colorbar": {
              "outlinewidth": 0,
              "ticks": ""
             }
            },
            "type": "scatterternary"
           }
          ],
          "surface": [
           {
            "colorbar": {
             "outlinewidth": 0,
             "ticks": ""
            },
            "colorscale": [
             [
              0,
              "#0d0887"
             ],
             [
              0.1111111111111111,
              "#46039f"
             ],
             [
              0.2222222222222222,
              "#7201a8"
             ],
             [
              0.3333333333333333,
              "#9c179e"
             ],
             [
              0.4444444444444444,
              "#bd3786"
             ],
             [
              0.5555555555555556,
              "#d8576b"
             ],
             [
              0.6666666666666666,
              "#ed7953"
             ],
             [
              0.7777777777777778,
              "#fb9f3a"
             ],
             [
              0.8888888888888888,
              "#fdca26"
             ],
             [
              1,
              "#f0f921"
             ]
            ],
            "type": "surface"
           }
          ],
          "table": [
           {
            "cells": {
             "fill": {
              "color": "#EBF0F8"
             },
             "line": {
              "color": "white"
             }
            },
            "header": {
             "fill": {
              "color": "#C8D4E3"
             },
             "line": {
              "color": "white"
             }
            },
            "type": "table"
           }
          ]
         },
         "layout": {
          "annotationdefaults": {
           "arrowcolor": "#2a3f5f",
           "arrowhead": 0,
           "arrowwidth": 1
          },
          "autotypenumbers": "strict",
          "coloraxis": {
           "colorbar": {
            "outlinewidth": 0,
            "ticks": ""
           }
          },
          "colorscale": {
           "diverging": [
            [
             0,
             "#8e0152"
            ],
            [
             0.1,
             "#c51b7d"
            ],
            [
             0.2,
             "#de77ae"
            ],
            [
             0.3,
             "#f1b6da"
            ],
            [
             0.4,
             "#fde0ef"
            ],
            [
             0.5,
             "#f7f7f7"
            ],
            [
             0.6,
             "#e6f5d0"
            ],
            [
             0.7,
             "#b8e186"
            ],
            [
             0.8,
             "#7fbc41"
            ],
            [
             0.9,
             "#4d9221"
            ],
            [
             1,
             "#276419"
            ]
           ],
           "sequential": [
            [
             0,
             "#0d0887"
            ],
            [
             0.1111111111111111,
             "#46039f"
            ],
            [
             0.2222222222222222,
             "#7201a8"
            ],
            [
             0.3333333333333333,
             "#9c179e"
            ],
            [
             0.4444444444444444,
             "#bd3786"
            ],
            [
             0.5555555555555556,
             "#d8576b"
            ],
            [
             0.6666666666666666,
             "#ed7953"
            ],
            [
             0.7777777777777778,
             "#fb9f3a"
            ],
            [
             0.8888888888888888,
             "#fdca26"
            ],
            [
             1,
             "#f0f921"
            ]
           ],
           "sequentialminus": [
            [
             0,
             "#0d0887"
            ],
            [
             0.1111111111111111,
             "#46039f"
            ],
            [
             0.2222222222222222,
             "#7201a8"
            ],
            [
             0.3333333333333333,
             "#9c179e"
            ],
            [
             0.4444444444444444,
             "#bd3786"
            ],
            [
             0.5555555555555556,
             "#d8576b"
            ],
            [
             0.6666666666666666,
             "#ed7953"
            ],
            [
             0.7777777777777778,
             "#fb9f3a"
            ],
            [
             0.8888888888888888,
             "#fdca26"
            ],
            [
             1,
             "#f0f921"
            ]
           ]
          },
          "colorway": [
           "#636efa",
           "#EF553B",
           "#00cc96",
           "#ab63fa",
           "#FFA15A",
           "#19d3f3",
           "#FF6692",
           "#B6E880",
           "#FF97FF",
           "#FECB52"
          ],
          "font": {
           "color": "#2a3f5f"
          },
          "geo": {
           "bgcolor": "white",
           "lakecolor": "white",
           "landcolor": "#E5ECF6",
           "showlakes": true,
           "showland": true,
           "subunitcolor": "white"
          },
          "hoverlabel": {
           "align": "left"
          },
          "hovermode": "closest",
          "mapbox": {
           "style": "light"
          },
          "paper_bgcolor": "white",
          "plot_bgcolor": "#E5ECF6",
          "polar": {
           "angularaxis": {
            "gridcolor": "white",
            "linecolor": "white",
            "ticks": ""
           },
           "bgcolor": "#E5ECF6",
           "radialaxis": {
            "gridcolor": "white",
            "linecolor": "white",
            "ticks": ""
           }
          },
          "scene": {
           "xaxis": {
            "backgroundcolor": "#E5ECF6",
            "gridcolor": "white",
            "gridwidth": 2,
            "linecolor": "white",
            "showbackground": true,
            "ticks": "",
            "zerolinecolor": "white"
           },
           "yaxis": {
            "backgroundcolor": "#E5ECF6",
            "gridcolor": "white",
            "gridwidth": 2,
            "linecolor": "white",
            "showbackground": true,
            "ticks": "",
            "zerolinecolor": "white"
           },
           "zaxis": {
            "backgroundcolor": "#E5ECF6",
            "gridcolor": "white",
            "gridwidth": 2,
            "linecolor": "white",
            "showbackground": true,
            "ticks": "",
            "zerolinecolor": "white"
           }
          },
          "shapedefaults": {
           "line": {
            "color": "#2a3f5f"
           }
          },
          "ternary": {
           "aaxis": {
            "gridcolor": "white",
            "linecolor": "white",
            "ticks": ""
           },
           "baxis": {
            "gridcolor": "white",
            "linecolor": "white",
            "ticks": ""
           },
           "bgcolor": "#E5ECF6",
           "caxis": {
            "gridcolor": "white",
            "linecolor": "white",
            "ticks": ""
           }
          },
          "title": {
           "x": 0.05
          },
          "xaxis": {
           "automargin": true,
           "gridcolor": "white",
           "linecolor": "white",
           "ticks": "",
           "title": {
            "standoff": 15
           },
           "zerolinecolor": "white",
           "zerolinewidth": 2
          },
          "yaxis": {
           "automargin": true,
           "gridcolor": "white",
           "linecolor": "white",
           "ticks": "",
           "title": {
            "standoff": 15
           },
           "zerolinecolor": "white",
           "zerolinewidth": 2
          }
         }
        },
        "title": {
         "text": "Error Comparison"
        },
        "xaxis": {
         "anchor": "y",
         "domain": [
          0,
          0.45
         ]
        },
        "xaxis2": {
         "anchor": "y2",
         "domain": [
          0.55,
          1
         ]
        },
        "yaxis": {
         "anchor": "x",
         "domain": [
          0,
          1
         ]
        },
        "yaxis2": {
         "anchor": "x2",
         "domain": [
          0,
          1
         ],
         "matches": "y",
         "showticklabels": false
        }
       }
      }
     },
     "metadata": {},
     "output_type": "display_data"
    }
   ],
   "source": [
    "data_2_step = pd.read_csv('stockSelectionApproach.csv')\n",
    "data_2_step['Delta'] = data_2_step['2020_return_error'] - data_2_step['2019_return_error']\n",
    "fig1 = px.line(data_2_step, x='m', y=['2019_return_error', '2020_return_error'], title='Error Comparison: 2019 vs 2020')\n",
    "\n",
    "data_MIP = pd.read_csv('MIPApproach_T-3600.csv')\n",
    "data_MIP['Delta'] = data_MIP['2020_return_error'] - data_MIP['2019_return_error']\n",
    "fig2 = px.line(data_MIP, x='m', y=['2019_return_error', '2020_return_error'], title='Error Comparison: 2019 vs 2020')\n",
    "\n",
    "fig = make_subplots(rows=1, cols=2, shared_yaxes=True)\n",
    "fig2.update_traces(showlegend=False)\n",
    "fig.add_trace(fig1.data[0], row=1, col=1)\n",
    "fig.add_trace(fig1.data[1], row=1, col=1)\n",
    "fig.add_trace(fig2.data[0], row=1, col=2)\n",
    "fig.add_trace(fig2.data[1], row=1, col=2)\n",
    "fig.update_layout(\n",
    "    legend=dict(\n",
    "        orientation=\"h\",  # Set orientation to horizontal,\n",
    "        yanchor=\"bottom\",  # Anchor the legend to the bottom\n",
    "        y=1.02  # Adjust the position of the legend\n",
    "    ),\n",
    "    title='Error Comparison'\n",
    "    # width=600,  # Set the width of the figure\n",
    "    # height=400  # Set the height of the figure\n",
    ")\n",
    "fig.show()"
   ]
  },
  {
   "cell_type": "markdown",
   "metadata": {},
   "source": [
    "#### MIP Approach"
   ]
  },
  {
   "cell_type": "code",
   "execution_count": 37,
   "metadata": {},
   "outputs": [
    {
     "data": {
      "application/vnd.plotly.v1+json": {
       "config": {
        "plotlyServerURL": "https://plot.ly"
       },
       "data": [
        {
         "hovertemplate": "variable=Index Return<br>Index=%{x}<br>value=%{y}<extra></extra>",
         "legendgroup": "Index Return",
         "line": {
          "color": "#636efa",
          "dash": "solid"
         },
         "marker": {
          "symbol": "circle"
         },
         "mode": "lines",
         "name": "Index Return",
         "orientation": "v",
         "showlegend": true,
         "type": "scatter",
         "x": [
          1,
          2,
          3,
          4,
          5,
          6,
          7,
          8,
          9,
          10,
          11,
          12,
          13,
          14,
          15,
          16,
          17,
          18,
          19,
          20,
          21,
          22,
          23,
          24,
          25,
          26,
          27,
          28,
          29,
          30,
          31,
          32,
          33,
          34,
          35,
          36,
          37,
          38,
          39,
          40,
          41,
          42,
          43,
          44,
          45,
          46,
          47,
          48,
          49,
          50,
          51,
          52,
          53,
          54,
          55,
          56,
          57,
          58,
          59,
          60,
          61,
          62,
          63,
          64,
          65,
          66,
          67,
          68,
          69,
          70,
          71,
          72,
          73,
          74,
          75,
          76,
          77,
          78,
          79,
          80,
          81,
          82,
          83,
          84,
          85,
          86,
          87,
          88,
          89,
          90,
          91,
          92,
          93,
          94,
          95,
          96,
          97,
          98,
          99,
          100,
          101,
          102,
          103,
          104,
          105,
          106,
          107,
          108,
          109,
          110,
          111,
          112,
          113,
          114,
          115,
          116,
          117,
          118,
          119,
          120,
          121,
          122,
          123,
          124,
          125,
          126,
          127,
          128,
          129,
          130,
          131,
          132,
          133,
          134,
          135,
          136,
          137,
          138,
          139,
          140,
          141,
          142,
          143,
          144,
          145,
          146,
          147,
          148,
          149,
          150,
          151,
          152,
          153,
          154,
          155,
          156,
          157,
          158,
          159,
          160,
          161,
          162,
          163,
          164,
          165,
          166,
          167,
          168,
          169,
          170,
          171,
          172,
          173,
          174,
          175,
          176,
          177,
          178,
          179,
          180,
          181,
          182,
          183,
          184,
          185,
          186,
          187,
          188,
          189,
          190,
          191,
          192,
          193,
          194,
          195,
          196,
          197,
          198,
          199,
          200,
          201,
          202,
          203,
          204,
          205,
          206,
          207,
          208,
          209,
          210,
          211,
          212,
          213,
          214,
          215,
          216,
          217,
          218,
          219,
          220,
          221,
          222,
          223,
          224,
          225,
          226,
          227,
          228,
          229,
          230,
          231,
          232,
          233,
          234,
          235,
          236,
          237,
          238,
          239,
          240,
          241,
          242,
          243,
          244,
          245,
          246,
          247,
          248,
          249,
          250
         ],
         "xaxis": "x",
         "y": [
          -0.0336023578643369,
          0.0448241771760853,
          0.0102107190306268,
          0.0098023500944013,
          0.0074543590389695,
          0.0030678611146719,
          -0.002951248489508,
          -0.0091434943945317,
          0.0196604969902707,
          -0.0001619394716677,
          0.0074813956174342,
          0.0098474597682121,
          -0.0203106452371703,
          0.0017978108135976,
          0.0065763055792451,
          0.0126549319986739,
          -0.0133012155582733,
          -0.00960115609881,
          0.0264021800735911,
          0.0145315795498286,
          -0.0045346098515962,
          0.012281244291977,
          0.0091322449203958,
          -0.0036875958103981,
          -0.0132388062585651,
          0.0011802935017342,
          -0.0005713341231606,
          0.0152680554440356,
          0.0001724900834185,
          0.0009321765921117,
          0.0046650947057962,
          0.0016200418295313,
          -0.0006042528288362,
          -0.0038485386713712,
          0.0078846431026438,
          0.003497614938196,
          0.0010948092817038,
          -0.0008732307597204,
          -0.0027357334551075,
          0.0076139221161437,
          -0.0001034382685487,
          0.0008334642181384,
          -0.0061926958536557,
          -0.0120338404819598,
          -0.0015924481685066,
          0.0211426217873673,
          0.0052009576879992,
          0.007734763356372,
          -0.0019250726939444,
          0.0088334090477601,
          0.0026398763899044,
          0.0031393832442887,
          0.0042820814992281,
          0.0152450658808387,
          -0.0223146851179399,
          -0.001242154435906,
          0.0046726975659612,
          -0.0058439783670187,
          0.0016803441206565,
          0.0079639426550142,
          0.0135049475359581,
          0.0028375265392057,
          0.0060443004160106,
          -0.0005832217854554,
          0.0050752159177938,
          0.0027577294718197,
          -0.004111982651748,
          0.0056814501532724,
          -0.0021809260065588,
          0.0043792292449325,
          0.0001271887695528,
          0.0033568567026402,
          0.003395317022012,
          0.0011717651142171,
          0.0030911422438533,
          0.0126038568858839,
          -0.0033671465374234,
          0.0041762658118602,
          0.0012486061130714,
          0.0015791961242905,
          -0.0073452970916763,
          -0.0038051809234258,
          -0.0035849556749258,
          0.0157520682219749,
          -0.0065819415314621,
          -0.0197508554662741,
          -0.0029580698402376,
          -0.00456837249389,
          0.0004984715307769,
          -0.0345876058535766,
          0.0106155954689532,
          0.01369518535863,
          0.010247577649685,
          -0.0100868796114712,
          -0.0169223604980042,
          0.01007494178093,
          -0.0040745916557073,
          -0.015191368103396,
          -0.0009537878485609,
          -0.0030927546679638,
          -0.0084524332322487,
          0.0039546339463125,
          -0.0162088970365297,
          -0.0210354634173568,
          0.0270463511797147,
          0.0075557124219485,
          0.0076209717274653,
          0.0194284248997169,
          0.011411194190191,
          0.0015889140155067,
          -0.0055311269799036,
          0.0051376668731579,
          -0.0042033893416046,
          0.0063390106400955,
          0.0144661652012718,
          0.0042355780201543,
          0.0091695295946823,
          -0.0011979788491423,
          -0.0007452360088171,
          -0.0170244257634333,
          0.0046775444531115,
          0.003933368834216,
          0.0018323340395198,
          0.0126527239988487,
          0.0040781559602804,
          0.0074194171539621,
          -0.0020858720722077,
          -0.0070791536327438,
          0.0052749719417393,
          0.0097791503028985,
          -0.0008376290055024,
          0.0058834677254457,
          0.0029824028107066,
          -0.0050019389049055,
          -0.0048341017906896,
          0.0019483565802376,
          -0.00875870994338,
          0.0089624903800078,
          0.0062541670801028,
          0.0070462481374544,
          -0.0100791010148835,
          0.0109812741842163,
          -0.0034763989200509,
          -0.0045824879263401,
          -0.0130387699917968,
          -0.0060684443065948,
          -0.0138889905156447,
          -0.0360219778265762,
          0.0142441072699104,
          0.0040657861539701,
          0.0228988967338141,
          -0.0101698104950859,
          -0.0110628899814867,
          0.0220149123112027,
          -0.0307990944816433,
          -0.0006995534232179,
          0.0159280528929424,
          0.015151012159962,
          -0.0071054976669664,
          0.0089699611416651,
          -0.0033349676180145,
          -0.0314553536605402,
          0.0147394413858519,
          -0.0011868265663013,
          0.0028905671298518,
          0.0150779739424138,
          -0.0014683983004273,
          -0.0105955316603822,
          0.0144214591182114,
          0.0185626892508987,
          -0.0012718536186013,
          -0.0025647926530745,
          -0.0022546943747715,
          0.0093208272852234,
          0.0037729906645265,
          -0.0030805358214455,
          -0.0051362339807593,
          0.0046329575604506,
          -0.000029152759658090943,
          0.0016771096247034,
          -0.0099015835163727,
          -0.0006314195120024,
          -0.0138860776918648,
          0.0121270446751307,
          -0.00404301186927,
          -0.0116328190435036,
          0.008835437020878,
          -0.0084277021410033,
          -0.01735393884319,
          0.0116014480004797,
          0.0151484748650774,
          -0.0037361156851034,
          -0.0156450266636895,
          0.0113435957393843,
          0.0064794077122216,
          0.0133740577740888,
          -0.000197581429486,
          0.0128176216762396,
          -0.0028503794885542,
          0.0027688882123058,
          -0.0092733069084097,
          0.009130067123878,
          -0.0082754697039686,
          0.0018858177003282,
          0.0097915319907193,
          0.0078451355530626,
          0.0101441615523059,
          -0.0077872921235124,
          0.0044237407639324,
          0.00008910122616256899,
          0.0095672278182192,
          0.0060641102284353,
          -0.000058517584563322345,
          -0.0017233989434701,
          0.0028818973592386,
          0.0044088562501005,
          -0.0016932750552676,
          0.0026547102050209,
          -0.0004816759599668,
          -0.0002396534669744,
          0.0069860305255846,
          0.0015586444060027,
          0.0012318891829294,
          -0.006594549351206,
          -0.0021886081786629,
          0.0007778833177654,
          0.0120743812421955,
          0.001650791694991,
          0.0070309705154578,
          -0.0048586953476779,
          -0.0112355450832838,
          -0.0065612983027781,
          0.0050625504637775,
          0.0014307328014735,
          0.0107084061688187,
          -0.0041238962338807,
          -0.0010104576686055,
          0.0057838922008248,
          0.0076499198828969,
          0.0024590273247411,
          0.0097340881556544,
          0.0006265939527561,
          0.000573704990628,
          0.0070705754564055,
          0.0043049353548034,
          0.0020187303929157,
          0.0004024834486369,
          0.0090579591401771,
          -0.000834910291276,
          -0.0069832557735683
         ],
         "yaxis": "y"
        },
        {
         "hovertemplate": "variable=Portfolio Return<br>Index=%{x}<br>value=%{y}<extra></extra>",
         "legendgroup": "Portfolio Return",
         "line": {
          "color": "#EF553B",
          "dash": "solid"
         },
         "marker": {
          "symbol": "circle"
         },
         "mode": "lines",
         "name": "Portfolio Return",
         "orientation": "v",
         "showlegend": true,
         "type": "scatter",
         "x": [
          1,
          2,
          3,
          4,
          5,
          6,
          7,
          8,
          9,
          10,
          11,
          12,
          13,
          14,
          15,
          16,
          17,
          18,
          19,
          20,
          21,
          22,
          23,
          24,
          25,
          26,
          27,
          28,
          29,
          30,
          31,
          32,
          33,
          34,
          35,
          36,
          37,
          38,
          39,
          40,
          41,
          42,
          43,
          44,
          45,
          46,
          47,
          48,
          49,
          50,
          51,
          52,
          53,
          54,
          55,
          56,
          57,
          58,
          59,
          60,
          61,
          62,
          63,
          64,
          65,
          66,
          67,
          68,
          69,
          70,
          71,
          72,
          73,
          74,
          75,
          76,
          77,
          78,
          79,
          80,
          81,
          82,
          83,
          84,
          85,
          86,
          87,
          88,
          89,
          90,
          91,
          92,
          93,
          94,
          95,
          96,
          97,
          98,
          99,
          100,
          101,
          102,
          103,
          104,
          105,
          106,
          107,
          108,
          109,
          110,
          111,
          112,
          113,
          114,
          115,
          116,
          117,
          118,
          119,
          120,
          121,
          122,
          123,
          124,
          125,
          126,
          127,
          128,
          129,
          130,
          131,
          132,
          133,
          134,
          135,
          136,
          137,
          138,
          139,
          140,
          141,
          142,
          143,
          144,
          145,
          146,
          147,
          148,
          149,
          150,
          151,
          152,
          153,
          154,
          155,
          156,
          157,
          158,
          159,
          160,
          161,
          162,
          163,
          164,
          165,
          166,
          167,
          168,
          169,
          170,
          171,
          172,
          173,
          174,
          175,
          176,
          177,
          178,
          179,
          180,
          181,
          182,
          183,
          184,
          185,
          186,
          187,
          188,
          189,
          190,
          191,
          192,
          193,
          194,
          195,
          196,
          197,
          198,
          199,
          200,
          201,
          202,
          203,
          204,
          205,
          206,
          207,
          208,
          209,
          210,
          211,
          212,
          213,
          214,
          215,
          216,
          217,
          218,
          219,
          220,
          221,
          222,
          223,
          224,
          225,
          226,
          227,
          228,
          229,
          230,
          231,
          232,
          233,
          234,
          235,
          236,
          237,
          238,
          239,
          240,
          241,
          242,
          243,
          244,
          245,
          246,
          247,
          248,
          249,
          250
         ],
         "xaxis": "x",
         "y": [
          -0.0435238461238357,
          0.0412269358544627,
          0.0103106006847362,
          0.0162947165680982,
          0.0101607819773332,
          0.0013540065371068,
          -0.0050254299907707,
          -0.0108759375575589,
          0.023017733134858,
          0.0029763813393775,
          0.0082829132620884,
          0.0103794970227974,
          -0.0228043241380103,
          0.0058205257195494,
          0.0052044695701612,
          0.0137557928960801,
          -0.0112571017208126,
          -0.0138854122127289,
          0.0384963268172883,
          0.0117701324609394,
          -0.0183212424181649,
          0.0157630937368792,
          0.0116049124005739,
          -0.002931259057616,
          -0.0106298027745638,
          -0.0012823031644267,
          0.0011476942920594,
          0.0164674366376164,
          -0.0001209745516294,
          -0.0025686247548471,
          0.0049913693323875,
          0.0016654351912728,
          0.0013688932443354,
          0.0043355322147141,
          0.0066231009644158,
          0.0037222901075654,
          0.0025921539294527,
          -0.0014838846993592,
          -0.0006462102480259,
          0.009977764540995,
          0.0033707134474779,
          -0.0029938764542843,
          -0.0058251413425095,
          -0.013899722606117,
          -0.0010715278912432,
          0.0246557989505253,
          0.0042399900513761,
          0.0070058642977429,
          0.0020875693170632,
          0.0123770137954751,
          0.0109860438477378,
          0.0029837433759385,
          0.004804610596773,
          0.0206700580151456,
          -0.0211844123927651,
          -0.0008585066715151,
          0.003162826576296,
          -0.00638063040608,
          0.0007178630025714,
          0.0078838918351838,
          0.0111937583202944,
          0.0028375265392057,
          0.0062382102324645,
          -0.0009166901087523,
          0.0061435718941935,
          0.0048937678849438,
          -0.0052206252406345,
          0.0066666349045587,
          -0.0020464832601577,
          0.0040842844021242,
          0.0010883868454167,
          0.0029923955315594,
          0.0065126617857097,
          0.004034863180616,
          0.004096771557109,
          0.0125867597605959,
          -0.0009206883296419,
          0.004589124407935,
          0.0073987933765617,
          -0.0013603385613203,
          -0.000037796197940141805,
          0.002318848335158,
          -0.0046704753929895,
          0.0175030838138608,
          -0.0086074524150516,
          -0.017910131573754,
          -0.0035379948291139,
          -0.0033870857155467,
          0.0014238213434307,
          -0.0372445235251147,
          0.0127194306816787,
          0.0124397519086961,
          0.010247577649685,
          -0.0139533024125548,
          -0.0151031132666816,
          0.0074932174615347,
          -0.0003644050180972,
          -0.0157873510878688,
          0.0003863798003385,
          -0.0041256902568696,
          -0.0043178950282515,
          0.0032756881265342,
          -0.0167561758062465,
          -0.0210354634173568,
          0.0280322599425141,
          0.0118036265727815,
          0.0113125531121739,
          0.0227407556051359,
          0.0200513281875515,
          -0.0005044214762112,
          -0.002335458801848,
          0.0056298747870937,
          -0.0019530500841064,
          0.0045466407007172,
          0.0162852384148318,
          0.0041071284812227,
          0.0081437531534842,
          -0.0009729432368899,
          0.0013147445341456,
          -0.0189346933631546,
          0.0056041524525278,
          0.0030618513723138,
          -0.0041540955382197,
          0.0154794040640999,
          0.003826222397714,
          0.0061408592576171,
          -0.0016780471042895,
          -0.0041568985169777,
          0.0060385384683405,
          0.0096517682126976,
          -0.0048601513970864,
          0.0057832802399509,
          0.004299645066608,
          -0.0071526297644716,
          -0.006173555323457,
          0.0037465065940266,
          -0.0053055952682478,
          0.0121013682756759,
          0.0069755361049273,
          0.0070462481374544,
          -0.008255187733035,
          -0.00007220694785429354,
          -0.0031947457252899,
          -0.0044164803755333,
          -0.0157119554268438,
          -0.0043769056314475,
          -0.0122106360808592,
          -0.0374627276597156,
          0.0158321832248227,
          0.0063221834231243,
          0.0244975996901032,
          -0.0099187509273137,
          -0.0106545111239748,
          0.0247907839079547,
          -0.0294583264375343,
          0.000030021534263606747,
          0.0165075406819095,
          0.0124406040112872,
          -0.0069445601316446,
          0.0075196170909839,
          -0.0042216794616183,
          -0.0328901506924013,
          0.0152937047425373,
          -0.0015570671800417,
          0.003593377998865,
          0.0146057643412678,
          -0.0015313063860437,
          -0.0071084552674949,
          0.0127072614148643,
          0.0182402003045543,
          -0.0019672421121559,
          -0.0029766469018526,
          -0.0070105979953478,
          0.0080852016741056,
          0.0073812425154168,
          -0.0064770433517952,
          -0.0066814110543087,
          0.006864857843052,
          0.0048030878217474,
          0.0045748722499203,
          -0.011540847157879,
          -0.002126149399869,
          -0.0127682973372809,
          0.0131216559266145,
          -0.0027794147617339,
          -0.0089148247497833,
          0.0092754296857315,
          -0.0074785106920715,
          -0.0158602584727281,
          0.0103006819985953,
          0.0178514715912887,
          -0.0077780227572586,
          -0.0154955774312248,
          0.0133387448598856,
          0.0058190479121771,
          0.0092732818421613,
          -0.0024860371053105,
          0.0107353446716194,
          -0.0037801123731634,
          0.0010905272759764,
          -0.0089663951918717,
          0.0085944085573578,
          -0.0102603133946172,
          -0.0017063904364373,
          0.0095350331110223,
          0.002109576414809,
          0.0123588795467607,
          -0.0087667830236147,
          0.003910929495842,
          0.0009257573169964,
          0.0099143329599527,
          0.0060182881316088,
          0.0011195533644359,
          -0.0014146151936199,
          0.0004037191674706,
          0.0043257186973358,
          -0.0004410412303571,
          0.0041487902946502,
          0.0015923424336057,
          0.0001016001367263,
          0.0037091860119689,
          0.0028830227296071,
          -0.0017893786599415,
          -0.007837459515605,
          -0.0034742742873808,
          0.0027867136479381,
          0.0136281239518156,
          0.0069907151281087,
          0.0052750492731247,
          -0.0059542655625777,
          -0.0092069107089091,
          -0.0057016769459716,
          0.0063129003672749,
          0.0010382810307419,
          0.0113727949714397,
          -0.0040264222205576,
          -0.0013149269462287,
          0.0051560313835124,
          0.0042937596351248,
          0.0068180082283042,
          0.0077824176220102,
          0.0028989903821602,
          -0.0024689394197254,
          0.0072749120726543,
          0.0037350374994798,
          0.0015518081506728,
          0.0008575008658891,
          0.0169173585122179,
          0.0015405492375901,
          -0.0049730493488101
         ],
         "yaxis": "y"
        }
       ],
       "layout": {
        "legend": {
         "title": {
          "text": "variable"
         },
         "tracegroupgap": 0
        },
        "template": {
         "data": {
          "bar": [
           {
            "error_x": {
             "color": "#2a3f5f"
            },
            "error_y": {
             "color": "#2a3f5f"
            },
            "marker": {
             "line": {
              "color": "#E5ECF6",
              "width": 0.5
             },
             "pattern": {
              "fillmode": "overlay",
              "size": 10,
              "solidity": 0.2
             }
            },
            "type": "bar"
           }
          ],
          "barpolar": [
           {
            "marker": {
             "line": {
              "color": "#E5ECF6",
              "width": 0.5
             },
             "pattern": {
              "fillmode": "overlay",
              "size": 10,
              "solidity": 0.2
             }
            },
            "type": "barpolar"
           }
          ],
          "carpet": [
           {
            "aaxis": {
             "endlinecolor": "#2a3f5f",
             "gridcolor": "white",
             "linecolor": "white",
             "minorgridcolor": "white",
             "startlinecolor": "#2a3f5f"
            },
            "baxis": {
             "endlinecolor": "#2a3f5f",
             "gridcolor": "white",
             "linecolor": "white",
             "minorgridcolor": "white",
             "startlinecolor": "#2a3f5f"
            },
            "type": "carpet"
           }
          ],
          "choropleth": [
           {
            "colorbar": {
             "outlinewidth": 0,
             "ticks": ""
            },
            "type": "choropleth"
           }
          ],
          "contour": [
           {
            "colorbar": {
             "outlinewidth": 0,
             "ticks": ""
            },
            "colorscale": [
             [
              0,
              "#0d0887"
             ],
             [
              0.1111111111111111,
              "#46039f"
             ],
             [
              0.2222222222222222,
              "#7201a8"
             ],
             [
              0.3333333333333333,
              "#9c179e"
             ],
             [
              0.4444444444444444,
              "#bd3786"
             ],
             [
              0.5555555555555556,
              "#d8576b"
             ],
             [
              0.6666666666666666,
              "#ed7953"
             ],
             [
              0.7777777777777778,
              "#fb9f3a"
             ],
             [
              0.8888888888888888,
              "#fdca26"
             ],
             [
              1,
              "#f0f921"
             ]
            ],
            "type": "contour"
           }
          ],
          "contourcarpet": [
           {
            "colorbar": {
             "outlinewidth": 0,
             "ticks": ""
            },
            "type": "contourcarpet"
           }
          ],
          "heatmap": [
           {
            "colorbar": {
             "outlinewidth": 0,
             "ticks": ""
            },
            "colorscale": [
             [
              0,
              "#0d0887"
             ],
             [
              0.1111111111111111,
              "#46039f"
             ],
             [
              0.2222222222222222,
              "#7201a8"
             ],
             [
              0.3333333333333333,
              "#9c179e"
             ],
             [
              0.4444444444444444,
              "#bd3786"
             ],
             [
              0.5555555555555556,
              "#d8576b"
             ],
             [
              0.6666666666666666,
              "#ed7953"
             ],
             [
              0.7777777777777778,
              "#fb9f3a"
             ],
             [
              0.8888888888888888,
              "#fdca26"
             ],
             [
              1,
              "#f0f921"
             ]
            ],
            "type": "heatmap"
           }
          ],
          "heatmapgl": [
           {
            "colorbar": {
             "outlinewidth": 0,
             "ticks": ""
            },
            "colorscale": [
             [
              0,
              "#0d0887"
             ],
             [
              0.1111111111111111,
              "#46039f"
             ],
             [
              0.2222222222222222,
              "#7201a8"
             ],
             [
              0.3333333333333333,
              "#9c179e"
             ],
             [
              0.4444444444444444,
              "#bd3786"
             ],
             [
              0.5555555555555556,
              "#d8576b"
             ],
             [
              0.6666666666666666,
              "#ed7953"
             ],
             [
              0.7777777777777778,
              "#fb9f3a"
             ],
             [
              0.8888888888888888,
              "#fdca26"
             ],
             [
              1,
              "#f0f921"
             ]
            ],
            "type": "heatmapgl"
           }
          ],
          "histogram": [
           {
            "marker": {
             "pattern": {
              "fillmode": "overlay",
              "size": 10,
              "solidity": 0.2
             }
            },
            "type": "histogram"
           }
          ],
          "histogram2d": [
           {
            "colorbar": {
             "outlinewidth": 0,
             "ticks": ""
            },
            "colorscale": [
             [
              0,
              "#0d0887"
             ],
             [
              0.1111111111111111,
              "#46039f"
             ],
             [
              0.2222222222222222,
              "#7201a8"
             ],
             [
              0.3333333333333333,
              "#9c179e"
             ],
             [
              0.4444444444444444,
              "#bd3786"
             ],
             [
              0.5555555555555556,
              "#d8576b"
             ],
             [
              0.6666666666666666,
              "#ed7953"
             ],
             [
              0.7777777777777778,
              "#fb9f3a"
             ],
             [
              0.8888888888888888,
              "#fdca26"
             ],
             [
              1,
              "#f0f921"
             ]
            ],
            "type": "histogram2d"
           }
          ],
          "histogram2dcontour": [
           {
            "colorbar": {
             "outlinewidth": 0,
             "ticks": ""
            },
            "colorscale": [
             [
              0,
              "#0d0887"
             ],
             [
              0.1111111111111111,
              "#46039f"
             ],
             [
              0.2222222222222222,
              "#7201a8"
             ],
             [
              0.3333333333333333,
              "#9c179e"
             ],
             [
              0.4444444444444444,
              "#bd3786"
             ],
             [
              0.5555555555555556,
              "#d8576b"
             ],
             [
              0.6666666666666666,
              "#ed7953"
             ],
             [
              0.7777777777777778,
              "#fb9f3a"
             ],
             [
              0.8888888888888888,
              "#fdca26"
             ],
             [
              1,
              "#f0f921"
             ]
            ],
            "type": "histogram2dcontour"
           }
          ],
          "mesh3d": [
           {
            "colorbar": {
             "outlinewidth": 0,
             "ticks": ""
            },
            "type": "mesh3d"
           }
          ],
          "parcoords": [
           {
            "line": {
             "colorbar": {
              "outlinewidth": 0,
              "ticks": ""
             }
            },
            "type": "parcoords"
           }
          ],
          "pie": [
           {
            "automargin": true,
            "type": "pie"
           }
          ],
          "scatter": [
           {
            "fillpattern": {
             "fillmode": "overlay",
             "size": 10,
             "solidity": 0.2
            },
            "type": "scatter"
           }
          ],
          "scatter3d": [
           {
            "line": {
             "colorbar": {
              "outlinewidth": 0,
              "ticks": ""
             }
            },
            "marker": {
             "colorbar": {
              "outlinewidth": 0,
              "ticks": ""
             }
            },
            "type": "scatter3d"
           }
          ],
          "scattercarpet": [
           {
            "marker": {
             "colorbar": {
              "outlinewidth": 0,
              "ticks": ""
             }
            },
            "type": "scattercarpet"
           }
          ],
          "scattergeo": [
           {
            "marker": {
             "colorbar": {
              "outlinewidth": 0,
              "ticks": ""
             }
            },
            "type": "scattergeo"
           }
          ],
          "scattergl": [
           {
            "marker": {
             "colorbar": {
              "outlinewidth": 0,
              "ticks": ""
             }
            },
            "type": "scattergl"
           }
          ],
          "scattermapbox": [
           {
            "marker": {
             "colorbar": {
              "outlinewidth": 0,
              "ticks": ""
             }
            },
            "type": "scattermapbox"
           }
          ],
          "scatterpolar": [
           {
            "marker": {
             "colorbar": {
              "outlinewidth": 0,
              "ticks": ""
             }
            },
            "type": "scatterpolar"
           }
          ],
          "scatterpolargl": [
           {
            "marker": {
             "colorbar": {
              "outlinewidth": 0,
              "ticks": ""
             }
            },
            "type": "scatterpolargl"
           }
          ],
          "scatterternary": [
           {
            "marker": {
             "colorbar": {
              "outlinewidth": 0,
              "ticks": ""
             }
            },
            "type": "scatterternary"
           }
          ],
          "surface": [
           {
            "colorbar": {
             "outlinewidth": 0,
             "ticks": ""
            },
            "colorscale": [
             [
              0,
              "#0d0887"
             ],
             [
              0.1111111111111111,
              "#46039f"
             ],
             [
              0.2222222222222222,
              "#7201a8"
             ],
             [
              0.3333333333333333,
              "#9c179e"
             ],
             [
              0.4444444444444444,
              "#bd3786"
             ],
             [
              0.5555555555555556,
              "#d8576b"
             ],
             [
              0.6666666666666666,
              "#ed7953"
             ],
             [
              0.7777777777777778,
              "#fb9f3a"
             ],
             [
              0.8888888888888888,
              "#fdca26"
             ],
             [
              1,
              "#f0f921"
             ]
            ],
            "type": "surface"
           }
          ],
          "table": [
           {
            "cells": {
             "fill": {
              "color": "#EBF0F8"
             },
             "line": {
              "color": "white"
             }
            },
            "header": {
             "fill": {
              "color": "#C8D4E3"
             },
             "line": {
              "color": "white"
             }
            },
            "type": "table"
           }
          ]
         },
         "layout": {
          "annotationdefaults": {
           "arrowcolor": "#2a3f5f",
           "arrowhead": 0,
           "arrowwidth": 1
          },
          "autotypenumbers": "strict",
          "coloraxis": {
           "colorbar": {
            "outlinewidth": 0,
            "ticks": ""
           }
          },
          "colorscale": {
           "diverging": [
            [
             0,
             "#8e0152"
            ],
            [
             0.1,
             "#c51b7d"
            ],
            [
             0.2,
             "#de77ae"
            ],
            [
             0.3,
             "#f1b6da"
            ],
            [
             0.4,
             "#fde0ef"
            ],
            [
             0.5,
             "#f7f7f7"
            ],
            [
             0.6,
             "#e6f5d0"
            ],
            [
             0.7,
             "#b8e186"
            ],
            [
             0.8,
             "#7fbc41"
            ],
            [
             0.9,
             "#4d9221"
            ],
            [
             1,
             "#276419"
            ]
           ],
           "sequential": [
            [
             0,
             "#0d0887"
            ],
            [
             0.1111111111111111,
             "#46039f"
            ],
            [
             0.2222222222222222,
             "#7201a8"
            ],
            [
             0.3333333333333333,
             "#9c179e"
            ],
            [
             0.4444444444444444,
             "#bd3786"
            ],
            [
             0.5555555555555556,
             "#d8576b"
            ],
            [
             0.6666666666666666,
             "#ed7953"
            ],
            [
             0.7777777777777778,
             "#fb9f3a"
            ],
            [
             0.8888888888888888,
             "#fdca26"
            ],
            [
             1,
             "#f0f921"
            ]
           ],
           "sequentialminus": [
            [
             0,
             "#0d0887"
            ],
            [
             0.1111111111111111,
             "#46039f"
            ],
            [
             0.2222222222222222,
             "#7201a8"
            ],
            [
             0.3333333333333333,
             "#9c179e"
            ],
            [
             0.4444444444444444,
             "#bd3786"
            ],
            [
             0.5555555555555556,
             "#d8576b"
            ],
            [
             0.6666666666666666,
             "#ed7953"
            ],
            [
             0.7777777777777778,
             "#fb9f3a"
            ],
            [
             0.8888888888888888,
             "#fdca26"
            ],
            [
             1,
             "#f0f921"
            ]
           ]
          },
          "colorway": [
           "#636efa",
           "#EF553B",
           "#00cc96",
           "#ab63fa",
           "#FFA15A",
           "#19d3f3",
           "#FF6692",
           "#B6E880",
           "#FF97FF",
           "#FECB52"
          ],
          "font": {
           "color": "#2a3f5f"
          },
          "geo": {
           "bgcolor": "white",
           "lakecolor": "white",
           "landcolor": "#E5ECF6",
           "showlakes": true,
           "showland": true,
           "subunitcolor": "white"
          },
          "hoverlabel": {
           "align": "left"
          },
          "hovermode": "closest",
          "mapbox": {
           "style": "light"
          },
          "paper_bgcolor": "white",
          "plot_bgcolor": "#E5ECF6",
          "polar": {
           "angularaxis": {
            "gridcolor": "white",
            "linecolor": "white",
            "ticks": ""
           },
           "bgcolor": "#E5ECF6",
           "radialaxis": {
            "gridcolor": "white",
            "linecolor": "white",
            "ticks": ""
           }
          },
          "scene": {
           "xaxis": {
            "backgroundcolor": "#E5ECF6",
            "gridcolor": "white",
            "gridwidth": 2,
            "linecolor": "white",
            "showbackground": true,
            "ticks": "",
            "zerolinecolor": "white"
           },
           "yaxis": {
            "backgroundcolor": "#E5ECF6",
            "gridcolor": "white",
            "gridwidth": 2,
            "linecolor": "white",
            "showbackground": true,
            "ticks": "",
            "zerolinecolor": "white"
           },
           "zaxis": {
            "backgroundcolor": "#E5ECF6",
            "gridcolor": "white",
            "gridwidth": 2,
            "linecolor": "white",
            "showbackground": true,
            "ticks": "",
            "zerolinecolor": "white"
           }
          },
          "shapedefaults": {
           "line": {
            "color": "#2a3f5f"
           }
          },
          "ternary": {
           "aaxis": {
            "gridcolor": "white",
            "linecolor": "white",
            "ticks": ""
           },
           "baxis": {
            "gridcolor": "white",
            "linecolor": "white",
            "ticks": ""
           },
           "bgcolor": "#E5ECF6",
           "caxis": {
            "gridcolor": "white",
            "linecolor": "white",
            "ticks": ""
           }
          },
          "title": {
           "x": 0.05
          },
          "xaxis": {
           "automargin": true,
           "gridcolor": "white",
           "linecolor": "white",
           "ticks": "",
           "title": {
            "standoff": 15
           },
           "zerolinecolor": "white",
           "zerolinewidth": 2
          },
          "yaxis": {
           "automargin": true,
           "gridcolor": "white",
           "linecolor": "white",
           "ticks": "",
           "title": {
            "standoff": 15
           },
           "zerolinecolor": "white",
           "zerolinewidth": 2
          }
         }
        },
        "title": {
         "text": "Portfolio vs Index Returns: 2019"
        },
        "xaxis": {
         "anchor": "y",
         "domain": [
          0,
          1
         ],
         "title": {
          "text": "Index"
         }
        },
        "yaxis": {
         "anchor": "x",
         "domain": [
          0,
          1
         ],
         "title": {
          "text": "value"
         }
        }
       }
      }
     },
     "metadata": {},
     "output_type": "display_data"
    },
    {
     "data": {
      "application/vnd.plotly.v1+json": {
       "config": {
        "plotlyServerURL": "https://plot.ly"
       },
       "data": [
        {
         "hovertemplate": "variable=Index Return<br>Index=%{x}<br>value=%{y}<extra></extra>",
         "legendgroup": "Index Return",
         "line": {
          "color": "#636efa",
          "dash": "solid"
         },
         "marker": {
          "symbol": "circle"
         },
         "mode": "lines",
         "name": "Index Return",
         "orientation": "v",
         "showlegend": true,
         "type": "scatter",
         "x": [
          1,
          2,
          3,
          4,
          5,
          6,
          7,
          8,
          9,
          10,
          11,
          12,
          13,
          14,
          15,
          16,
          17,
          18,
          19,
          20,
          21,
          22,
          23,
          24,
          25,
          26,
          27,
          28,
          29,
          30,
          31,
          32,
          33,
          34,
          35,
          36,
          37,
          38,
          39,
          40,
          41,
          42,
          43,
          44,
          45,
          46,
          47,
          48,
          49,
          50,
          51,
          52,
          53,
          54,
          55,
          56,
          57,
          58,
          59,
          60,
          61,
          62,
          63,
          64,
          65,
          66,
          67,
          68,
          69,
          70,
          71,
          72,
          73,
          74,
          75,
          76,
          77,
          78,
          79,
          80,
          81,
          82,
          83,
          84,
          85,
          86,
          87,
          88,
          89,
          90,
          91,
          92,
          93,
          94,
          95,
          96,
          97,
          98,
          99,
          100,
          101,
          102,
          103,
          104,
          105,
          106,
          107,
          108,
          109,
          110,
          111,
          112,
          113,
          114,
          115,
          116,
          117,
          118,
          119,
          120,
          121,
          122,
          123,
          124,
          125,
          126,
          127,
          128,
          129,
          130,
          131,
          132,
          133,
          134,
          135,
          136,
          137,
          138,
          139,
          140,
          141,
          142,
          143,
          144,
          145,
          146,
          147,
          148,
          149,
          150,
          151,
          152,
          153,
          154,
          155,
          156,
          157,
          158,
          159,
          160,
          161,
          162,
          163,
          164,
          165,
          166,
          167,
          168,
          169,
          170,
          171,
          172,
          173,
          174,
          175,
          176,
          177,
          178,
          179,
          180,
          181,
          182,
          183,
          184,
          185,
          186,
          187,
          188,
          189,
          190,
          191,
          192,
          193,
          194,
          195,
          196,
          197,
          198,
          199,
          200,
          201,
          202,
          203,
          204,
          205,
          206,
          207,
          208,
          209,
          210,
          211,
          212,
          213,
          214,
          215,
          216,
          217,
          218,
          219,
          220,
          221,
          222,
          223,
          224,
          225,
          226,
          227,
          228,
          229,
          230,
          231,
          232,
          233,
          234,
          235,
          236,
          237,
          238,
          239,
          240,
          241,
          242,
          243,
          244,
          245,
          246,
          247,
          248,
          249,
          250,
          251
         ],
         "xaxis": "x",
         "y": [
          -0.0088274793016744,
          0.006211025548561,
          -0.0002338623984216,
          0.0074515676397814,
          0.0086688237792804,
          -0.0025574173018485,
          0.011599746067993,
          -0.0041044982879001,
          0.000249075103275,
          0.0098863812834177,
          0.0053403253698629,
          -0.0007740129300718,
          0.0023945763361417,
          0.0030908356632812,
          -0.0081925682986928,
          -0.0207067402346602,
          0.0154990186564272,
          0.0011748703781195,
          0.0037882847832992,
          -0.0158251593918979,
          0.0149831014485939,
          0.0227727210819355,
          0.0035805320021116,
          0.0083735913044686,
          -0.0047449389122609,
          0.0123113507795618,
          0.0001072318139978,
          0.0100169407276464,
          -0.0018204135610431,
          0.0029054558222367,
          0.0006463007477039,
          0.0092349442149175,
          -0.0093531136901003,
          -0.0188141716806897,
          -0.0388559940351512,
          -0.0269570201818764,
          0.0044018359619308,
          -0.0492564432130244,
          0.0029822378062216,
          0.0491797149273833,
          -0.0319318381010057,
          0.041281103281314,
          -0.0310215021243195,
          -0.0162968000887603,
          -0.068263406810173,
          0.0533767181900413,
          -0.0437335913092928,
          -0.0927378310779346,
          0.1007220713925867,
          -0.1219322337900384,
          0.0646076593516442,
          -0.0399748474641795,
          0.0157960972714115,
          -0.0403689610775055,
          0.0018057419594519,
          0.0780528623258325,
          -0.0111479819019566,
          0.0572331335869458,
          -0.0390977191175062,
          0.0396184746348211,
          -0.0095715138198245,
          -0.0418775146861201,
          0.0199524886454909,
          -0.0140852645092498,
          0.0735311124669755,
          -0.0040029024204862,
          0.0223907364331781,
          0.0010924345658926,
          0.01143528734837,
          0.0431334605312021,
          -0.0115276517231258,
          0.0193052711782766,
          0.0085158169701586,
          -0.0119899764763596,
          -0.0370720682924632,
          0.0311364569796501,
          -0.0026705839988788,
          0.0167910211190187,
          0.0058111839929178,
          -0.0181111905385196,
          0.035166425134838,
          0.0019760074256003,
          -0.0313682319490967,
          0.0132975768048886,
          0.010924672791545,
          0.006073512733651,
          0.0130240789968374,
          0.0130159623641346,
          0.0085214028026991,
          -0.0200528371643288,
          -0.0123314931325118,
          0.0104821116237181,
          0.0064016975793215,
          0.0195888887681903,
          -0.0035780004903955,
          0.0200547065687588,
          -0.0112840354888246,
          0.003838775590689,
          -0.0025504344494947,
          0.0055452017362445,
          -0.002683722763947,
          0.0147419122575649,
          0.0045376210174872,
          0.0060861124715785,
          0.0049062173741627,
          -0.0077313413077103,
          0.0202218446804345,
          0.0078508574846378,
          0.0066303349495457,
          0.0127508459266338,
          -0.0501056355319059,
          0.0078531529832539,
          0.0117044646923545,
          0.0176416503826739,
          0.0033278842389656,
          0.0029621236016263,
          -0.0003406055767516,
          0.0121585384483295,
          0.0078467561641386,
          -0.020286361925208,
          0.0099103120175489,
          -0.024992474234926,
          0.0113509710280117,
          0.01964524723379,
          0.0120510192333151,
          0.0060937957535811,
          0.0253502917622023,
          -0.0075489768302008,
          0.013558561149074,
          0.00823962784667,
          0.0076004981329904,
          -0.0216051115342178,
          0.0082350349907613,
          0.0011375777897102,
          -0.0070287779282245,
          0.0017653828340402,
          0.0288261170537622,
          -0.0108664079454028,
          0.0034782096784895,
          -0.026691825311041,
          -0.009211202917209,
          0.0182435973024499,
          -0.0132916273914733,
          0.0123883664846902,
          0.0049263243187764,
          0.0177658472705586,
          0.0136807118400059,
          0.0037503084283401,
          0.0026044505670976,
          0.0127311499163722,
          -0.0113330542690169,
          -0.0048673878644687,
          -0.0188621231346899,
          0.025895326986228,
          0.0018507715285656,
          -0.0012452548851549,
          0.0111174404271157,
          0.0097851151179126,
          -0.007052408678269,
          0.0139955122610517,
          0.006805786442779,
          0.006145285657382,
          0.0082262387921472,
          0.0213389288152376,
          -0.0038239640656148,
          0.0058434105416205,
          0.009574193886547,
          0.0150412566566549,
          0.0103864915377485,
          -0.0522658369047857,
          -0.0126782386823802,
          -0.0476565066574526,
          0.0295972308933256,
          -0.0212120638892846,
          -0.005981621973065,
          0.017168982205395,
          0.0142856696086548,
          -0.016721101646707,
          -0.0148164422435375,
          -0.0129925437260786,
          0.003953491561826,
          0.0187747053400724,
          -0.0315598390016439,
          0.0058282771348918,
          0.023370885829093,
          0.0191299287422521,
          -0.0036517384712548,
          0.0083996986933669,
          0.0144631081128612,
          -0.0282745497224504,
          0.0225103152557117,
          -0.0189233567413015,
          0.0187685626879194,
          0.0041510223003411,
          0.0151424190142757,
          0.0308941997423419,
          -0.0004087015966065,
          -0.0080946945749811,
          -0.0072413375539436,
          -0.003899660950106,
          -0.0183780954433027,
          0.0037380886304654,
          -0.001067810500131,
          -0.0002108771496056,
          0.0025431174203609,
          -0.0160829291605089,
          0.0082081367895248,
          -0.0393303206009107,
          0.0186650761833662,
          -0.0262352960217467,
          0.0028779257505386,
          0.0176052881658435,
          0.0440703306097962,
          0.0255625609886374,
          0.0010994554311383,
          -0.0215823682564083,
          -0.017421202183311,
          0.0231101984788397,
          -0.0055318615105679,
          0.0093598446687828,
          0.0063277813249671,
          -0.0029874731639636,
          -0.0069113201856478,
          0.0076268971925399,
          -0.0065904403966347,
          -0.00004199407899785346,
          0.0146035620640174,
          0.0059943130378339,
          0.0087218822861097,
          0.0008247819243585,
          0.0152433067669066,
          0.00008671628877454651,
          0.0008605785986739,
          0.0049209874759081,
          0.005426776228993,
          0.0031159523931154,
          -0.0214534736281303,
          0.003000538717681,
          -0.0021230947844164,
          0.0070138927823626,
          0.0107292334529083,
          0.005735209532834,
          0.0066228567479684,
          -0.0010884422178086,
          -0.0037619127038708,
          0.002151240439107,
          -0.0050654309614529,
          0.0045735779103648,
          0.0100582551908463,
          0.0003606145618679,
          0.0001456083951099
         ],
         "yaxis": "y"
        },
        {
         "hovertemplate": "variable=Portfolio Return<br>Index=%{x}<br>value=%{y}<extra></extra>",
         "legendgroup": "Portfolio Return",
         "line": {
          "color": "#EF553B",
          "dash": "solid"
         },
         "marker": {
          "symbol": "circle"
         },
         "mode": "lines",
         "name": "Portfolio Return",
         "orientation": "v",
         "showlegend": true,
         "type": "scatter",
         "x": [
          1,
          2,
          3,
          4,
          5,
          6,
          7,
          8,
          9,
          10,
          11,
          12,
          13,
          14,
          15,
          16,
          17,
          18,
          19,
          20,
          21,
          22,
          23,
          24,
          25,
          26,
          27,
          28,
          29,
          30,
          31,
          32,
          33,
          34,
          35,
          36,
          37,
          38,
          39,
          40,
          41,
          42,
          43,
          44,
          45,
          46,
          47,
          48,
          49,
          50,
          51,
          52,
          53,
          54,
          55,
          56,
          57,
          58,
          59,
          60,
          61,
          62,
          63,
          64,
          65,
          66,
          67,
          68,
          69,
          70,
          71,
          72,
          73,
          74,
          75,
          76,
          77,
          78,
          79,
          80,
          81,
          82,
          83,
          84,
          85,
          86,
          87,
          88,
          89,
          90,
          91,
          92,
          93,
          94,
          95,
          96,
          97,
          98,
          99,
          100,
          101,
          102,
          103,
          104,
          105,
          106,
          107,
          108,
          109,
          110,
          111,
          112,
          113,
          114,
          115,
          116,
          117,
          118,
          119,
          120,
          121,
          122,
          123,
          124,
          125,
          126,
          127,
          128,
          129,
          130,
          131,
          132,
          133,
          134,
          135,
          136,
          137,
          138,
          139,
          140,
          141,
          142,
          143,
          144,
          145,
          146,
          147,
          148,
          149,
          150,
          151,
          152,
          153,
          154,
          155,
          156,
          157,
          158,
          159,
          160,
          161,
          162,
          163,
          164,
          165,
          166,
          167,
          168,
          169,
          170,
          171,
          172,
          173,
          174,
          175,
          176,
          177,
          178,
          179,
          180,
          181,
          182,
          183,
          184,
          185,
          186,
          187,
          188,
          189,
          190,
          191,
          192,
          193,
          194,
          195,
          196,
          197,
          198,
          199,
          200,
          201,
          202,
          203,
          204,
          205,
          206,
          207,
          208,
          209,
          210,
          211,
          212,
          213,
          214,
          215,
          216,
          217,
          218,
          219,
          220,
          221,
          222,
          223,
          224,
          225,
          226,
          227,
          228,
          229,
          230,
          231,
          232,
          233,
          234,
          235,
          236,
          237,
          238,
          239,
          240,
          241,
          242,
          243,
          244,
          245,
          246,
          247,
          248,
          249,
          250,
          251
         ],
         "xaxis": "x",
         "y": [
          -0.0107678358201538,
          0.0044070085343954,
          -0.0010898074942719,
          0.0071476929883836,
          0.0092937359639157,
          -0.0050609977792832,
          0.0101008351428726,
          -0.0082045039721782,
          -0.0002907118136819,
          0.0126899102627302,
          0.0022244434923592,
          0.0022316768249993,
          -0.0004451567219468,
          0.0026578982599814,
          -0.0105903761994743,
          -0.0212668498544009,
          0.0170920378917102,
          0.007281558238635,
          0.0207527745367192,
          -0.0007055083005376,
          0.0066944763681703,
          0.0237663815626752,
          0.0056005891759902,
          0.0099890826069045,
          -0.0014743809335675,
          0.0165192073175686,
          -0.0019725444814014,
          0.0081349518022063,
          -0.0038306031482183,
          0.0014146340855334,
          0.0027048597271648,
          0.0095052684576365,
          -0.0084379607504426,
          -0.0225332879738039,
          -0.0396083504563069,
          -0.0203707010115322,
          0.0072761818964998,
          -0.057991871087317,
          0.003526901649395,
          0.0569675382277257,
          -0.0321463447955052,
          0.0429568669265581,
          -0.0267450529472962,
          -0.0189375172700657,
          -0.0628919931933305,
          0.0548293030703524,
          -0.0453221186086693,
          -0.085800650786292,
          0.1038003312316153,
          -0.1173817881469592,
          0.0793390443981387,
          -0.036761008739479,
          0.0178674965580994,
          -0.0415976281222022,
          -0.004128353123343,
          0.0793616374595219,
          -0.0118833230296227,
          0.0447110952221027,
          -0.0349674031174187,
          0.0486604088293711,
          -0.0115870209623404,
          -0.037145480643788,
          0.0209419263756398,
          -0.0072411134399322,
          0.0661345572173209,
          -0.0037368453622594,
          0.0177752317864475,
          0.00008475015391969901,
          0.0199215905702344,
          0.0484452432045726,
          -0.0072245219826575,
          0.0218763270367598,
          -0.0022657774526263,
          -0.0098269299445158,
          -0.0367258882863265,
          0.0292787439249097,
          -0.003424924298589,
          0.0167827395348631,
          -0.0017694337434872,
          -0.018060011605685,
          0.0313357103950491,
          0.0150566074698923,
          -0.0380036074881919,
          0.0108648840460347,
          0.0097817259038863,
          0.0071491536617943,
          0.0066561736032234,
          0.0135380000206583,
          0.0075444174750114,
          -0.0172574666718437,
          -0.0110978590276465,
          0.0063737308112474,
          0.0026750769238782,
          0.0194294141525073,
          -0.0061213787662837,
          0.0210946238032803,
          -0.0150324771334966,
          0.0017211235741867,
          -0.0045666682039044,
          0.0044010091574075,
          -0.0013712538899687,
          0.0112433125358323,
          0.004843413861644,
          0.008289966908144,
          0.0066764308911186,
          -0.0089258682639147,
          0.0203099143499353,
          0.0094398883427928,
          0.0136827987416188,
          0.0201608411219685,
          -0.0474249404301603,
          0.0060038448246382,
          0.0085212315744445,
          0.0244504755374288,
          0.0034291726616817,
          0.005785796660235,
          -0.004820154719459,
          0.0163803727330499,
          0.0120174720905553,
          -0.0192413385551537,
          0.0092334929203206,
          -0.0216881191978305,
          0.0099001587101944,
          0.0214861619489023,
          0.0099443347315436,
          0.0052797628027686,
          0.0284203699550237,
          -0.0099020148043663,
          0.0170341657194182,
          0.0093704487139215,
          0.0047339296050388,
          -0.0233351939771402,
          0.0076806941952807,
          -0.0061311499032341,
          -0.0093156882829739,
          -0.001271468623923,
          0.0347762003698174,
          -0.0117470645686096,
          0.0024089961043921,
          -0.031482501722028,
          -0.0001306489428323,
          0.0177033834393881,
          -0.0102461165409443,
          0.0144350922090506,
          -0.0003612865160219,
          0.0286964464636844,
          0.0186641382673961,
          -0.00005912468183311826,
          0.0033181494962125,
          0.0143994278578804,
          -0.0141088920179691,
          -0.0043839513565128,
          -0.018844329172742,
          0.0261943270828432,
          0.0015026292284972,
          -0.0015138823027913,
          0.005500862366954,
          0.0159661313564474,
          -0.006561130836528,
          0.0144622587351209,
          0.0060474314017311,
          0.0074939834281635,
          0.0075010720690498,
          0.0178346528083437,
          0.0003688248525542,
          0.0037973676016578,
          0.0035581230572759,
          0.0146103817916326,
          0.0090175872146249,
          -0.0523688003076825,
          -0.0089467585878892,
          -0.0479194778973882,
          0.0350118290274422,
          -0.0237821213313234,
          -0.0082969700359367,
          0.0087028945021031,
          0.0109821890725826,
          -0.0178294566532259,
          -0.013817443928414,
          -0.0165900687367371,
          0.006591550701402,
          0.0248926476406149,
          -0.0328315000185915,
          0.0097967076984092,
          0.0223731871160988,
          0.0191407950859158,
          -0.0077511047663715,
          0.0102319475789574,
          0.0137491915033886,
          -0.0297800557744464,
          0.0209140374615971,
          -0.0231283449747433,
          0.0198521392044841,
          0.002904153407251,
          0.0230824951499242,
          0.0377836963456645,
          -0.004737109294774,
          -0.0095834326043602,
          -0.0039880325921936,
          -0.0089160254954735,
          -0.0201615244878054,
          0.0042983343470507,
          -0.0027198130415044,
          -0.0023954199773365,
          0.0017637941312589,
          -0.0146012864105023,
          0.0117359758932832,
          -0.0414873118836708,
          0.0159135273936346,
          -0.0277002264188058,
          0.0005337831342258,
          0.0139211081580883,
          0.0449862127826717,
          0.0282832270872015,
          0.0028000163976639,
          -0.0211971818564855,
          -0.0166595666799084,
          0.025819529011476,
          -0.0063923348078637,
          0.0052602758202183,
          0.0059184761004627,
          -0.0069115125169833,
          -0.0126838730555009,
          0.0058441315902898,
          -0.0085965227630949,
          -0.0037536388653914,
          0.0101012044100054,
          0.0051570686266813,
          0.005000451594355,
          0.0014168498301746,
          0.0169825743078146,
          -0.0027519970520372,
          -0.0021696748441964,
          0.0018665796495865,
          0.00006636274952758186,
          0.0064284512505371,
          -0.0203080974462503,
          -0.0015191342934151,
          0.0041757536768524,
          0.0042004674218319,
          0.0119672784042211,
          0.0111923460197493,
          0.0038964884010837,
          -0.0051384767467104,
          0.0047879763102485,
          0.0071959196274231,
          -0.0070965079451639,
          0.0050997655666296,
          0.0197915158805533,
          -0.0010233142053201,
          -0.0059139715220892
         ],
         "yaxis": "y"
        }
       ],
       "layout": {
        "legend": {
         "orientation": "h",
         "title": {
          "text": "variable"
         },
         "tracegroupgap": 0,
         "y": 1.02,
         "yanchor": "bottom"
        },
        "template": {
         "data": {
          "bar": [
           {
            "error_x": {
             "color": "#2a3f5f"
            },
            "error_y": {
             "color": "#2a3f5f"
            },
            "marker": {
             "line": {
              "color": "#E5ECF6",
              "width": 0.5
             },
             "pattern": {
              "fillmode": "overlay",
              "size": 10,
              "solidity": 0.2
             }
            },
            "type": "bar"
           }
          ],
          "barpolar": [
           {
            "marker": {
             "line": {
              "color": "#E5ECF6",
              "width": 0.5
             },
             "pattern": {
              "fillmode": "overlay",
              "size": 10,
              "solidity": 0.2
             }
            },
            "type": "barpolar"
           }
          ],
          "carpet": [
           {
            "aaxis": {
             "endlinecolor": "#2a3f5f",
             "gridcolor": "white",
             "linecolor": "white",
             "minorgridcolor": "white",
             "startlinecolor": "#2a3f5f"
            },
            "baxis": {
             "endlinecolor": "#2a3f5f",
             "gridcolor": "white",
             "linecolor": "white",
             "minorgridcolor": "white",
             "startlinecolor": "#2a3f5f"
            },
            "type": "carpet"
           }
          ],
          "choropleth": [
           {
            "colorbar": {
             "outlinewidth": 0,
             "ticks": ""
            },
            "type": "choropleth"
           }
          ],
          "contour": [
           {
            "colorbar": {
             "outlinewidth": 0,
             "ticks": ""
            },
            "colorscale": [
             [
              0,
              "#0d0887"
             ],
             [
              0.1111111111111111,
              "#46039f"
             ],
             [
              0.2222222222222222,
              "#7201a8"
             ],
             [
              0.3333333333333333,
              "#9c179e"
             ],
             [
              0.4444444444444444,
              "#bd3786"
             ],
             [
              0.5555555555555556,
              "#d8576b"
             ],
             [
              0.6666666666666666,
              "#ed7953"
             ],
             [
              0.7777777777777778,
              "#fb9f3a"
             ],
             [
              0.8888888888888888,
              "#fdca26"
             ],
             [
              1,
              "#f0f921"
             ]
            ],
            "type": "contour"
           }
          ],
          "contourcarpet": [
           {
            "colorbar": {
             "outlinewidth": 0,
             "ticks": ""
            },
            "type": "contourcarpet"
           }
          ],
          "heatmap": [
           {
            "colorbar": {
             "outlinewidth": 0,
             "ticks": ""
            },
            "colorscale": [
             [
              0,
              "#0d0887"
             ],
             [
              0.1111111111111111,
              "#46039f"
             ],
             [
              0.2222222222222222,
              "#7201a8"
             ],
             [
              0.3333333333333333,
              "#9c179e"
             ],
             [
              0.4444444444444444,
              "#bd3786"
             ],
             [
              0.5555555555555556,
              "#d8576b"
             ],
             [
              0.6666666666666666,
              "#ed7953"
             ],
             [
              0.7777777777777778,
              "#fb9f3a"
             ],
             [
              0.8888888888888888,
              "#fdca26"
             ],
             [
              1,
              "#f0f921"
             ]
            ],
            "type": "heatmap"
           }
          ],
          "heatmapgl": [
           {
            "colorbar": {
             "outlinewidth": 0,
             "ticks": ""
            },
            "colorscale": [
             [
              0,
              "#0d0887"
             ],
             [
              0.1111111111111111,
              "#46039f"
             ],
             [
              0.2222222222222222,
              "#7201a8"
             ],
             [
              0.3333333333333333,
              "#9c179e"
             ],
             [
              0.4444444444444444,
              "#bd3786"
             ],
             [
              0.5555555555555556,
              "#d8576b"
             ],
             [
              0.6666666666666666,
              "#ed7953"
             ],
             [
              0.7777777777777778,
              "#fb9f3a"
             ],
             [
              0.8888888888888888,
              "#fdca26"
             ],
             [
              1,
              "#f0f921"
             ]
            ],
            "type": "heatmapgl"
           }
          ],
          "histogram": [
           {
            "marker": {
             "pattern": {
              "fillmode": "overlay",
              "size": 10,
              "solidity": 0.2
             }
            },
            "type": "histogram"
           }
          ],
          "histogram2d": [
           {
            "colorbar": {
             "outlinewidth": 0,
             "ticks": ""
            },
            "colorscale": [
             [
              0,
              "#0d0887"
             ],
             [
              0.1111111111111111,
              "#46039f"
             ],
             [
              0.2222222222222222,
              "#7201a8"
             ],
             [
              0.3333333333333333,
              "#9c179e"
             ],
             [
              0.4444444444444444,
              "#bd3786"
             ],
             [
              0.5555555555555556,
              "#d8576b"
             ],
             [
              0.6666666666666666,
              "#ed7953"
             ],
             [
              0.7777777777777778,
              "#fb9f3a"
             ],
             [
              0.8888888888888888,
              "#fdca26"
             ],
             [
              1,
              "#f0f921"
             ]
            ],
            "type": "histogram2d"
           }
          ],
          "histogram2dcontour": [
           {
            "colorbar": {
             "outlinewidth": 0,
             "ticks": ""
            },
            "colorscale": [
             [
              0,
              "#0d0887"
             ],
             [
              0.1111111111111111,
              "#46039f"
             ],
             [
              0.2222222222222222,
              "#7201a8"
             ],
             [
              0.3333333333333333,
              "#9c179e"
             ],
             [
              0.4444444444444444,
              "#bd3786"
             ],
             [
              0.5555555555555556,
              "#d8576b"
             ],
             [
              0.6666666666666666,
              "#ed7953"
             ],
             [
              0.7777777777777778,
              "#fb9f3a"
             ],
             [
              0.8888888888888888,
              "#fdca26"
             ],
             [
              1,
              "#f0f921"
             ]
            ],
            "type": "histogram2dcontour"
           }
          ],
          "mesh3d": [
           {
            "colorbar": {
             "outlinewidth": 0,
             "ticks": ""
            },
            "type": "mesh3d"
           }
          ],
          "parcoords": [
           {
            "line": {
             "colorbar": {
              "outlinewidth": 0,
              "ticks": ""
             }
            },
            "type": "parcoords"
           }
          ],
          "pie": [
           {
            "automargin": true,
            "type": "pie"
           }
          ],
          "scatter": [
           {
            "fillpattern": {
             "fillmode": "overlay",
             "size": 10,
             "solidity": 0.2
            },
            "type": "scatter"
           }
          ],
          "scatter3d": [
           {
            "line": {
             "colorbar": {
              "outlinewidth": 0,
              "ticks": ""
             }
            },
            "marker": {
             "colorbar": {
              "outlinewidth": 0,
              "ticks": ""
             }
            },
            "type": "scatter3d"
           }
          ],
          "scattercarpet": [
           {
            "marker": {
             "colorbar": {
              "outlinewidth": 0,
              "ticks": ""
             }
            },
            "type": "scattercarpet"
           }
          ],
          "scattergeo": [
           {
            "marker": {
             "colorbar": {
              "outlinewidth": 0,
              "ticks": ""
             }
            },
            "type": "scattergeo"
           }
          ],
          "scattergl": [
           {
            "marker": {
             "colorbar": {
              "outlinewidth": 0,
              "ticks": ""
             }
            },
            "type": "scattergl"
           }
          ],
          "scattermapbox": [
           {
            "marker": {
             "colorbar": {
              "outlinewidth": 0,
              "ticks": ""
             }
            },
            "type": "scattermapbox"
           }
          ],
          "scatterpolar": [
           {
            "marker": {
             "colorbar": {
              "outlinewidth": 0,
              "ticks": ""
             }
            },
            "type": "scatterpolar"
           }
          ],
          "scatterpolargl": [
           {
            "marker": {
             "colorbar": {
              "outlinewidth": 0,
              "ticks": ""
             }
            },
            "type": "scatterpolargl"
           }
          ],
          "scatterternary": [
           {
            "marker": {
             "colorbar": {
              "outlinewidth": 0,
              "ticks": ""
             }
            },
            "type": "scatterternary"
           }
          ],
          "surface": [
           {
            "colorbar": {
             "outlinewidth": 0,
             "ticks": ""
            },
            "colorscale": [
             [
              0,
              "#0d0887"
             ],
             [
              0.1111111111111111,
              "#46039f"
             ],
             [
              0.2222222222222222,
              "#7201a8"
             ],
             [
              0.3333333333333333,
              "#9c179e"
             ],
             [
              0.4444444444444444,
              "#bd3786"
             ],
             [
              0.5555555555555556,
              "#d8576b"
             ],
             [
              0.6666666666666666,
              "#ed7953"
             ],
             [
              0.7777777777777778,
              "#fb9f3a"
             ],
             [
              0.8888888888888888,
              "#fdca26"
             ],
             [
              1,
              "#f0f921"
             ]
            ],
            "type": "surface"
           }
          ],
          "table": [
           {
            "cells": {
             "fill": {
              "color": "#EBF0F8"
             },
             "line": {
              "color": "white"
             }
            },
            "header": {
             "fill": {
              "color": "#C8D4E3"
             },
             "line": {
              "color": "white"
             }
            },
            "type": "table"
           }
          ]
         },
         "layout": {
          "annotationdefaults": {
           "arrowcolor": "#2a3f5f",
           "arrowhead": 0,
           "arrowwidth": 1
          },
          "autotypenumbers": "strict",
          "coloraxis": {
           "colorbar": {
            "outlinewidth": 0,
            "ticks": ""
           }
          },
          "colorscale": {
           "diverging": [
            [
             0,
             "#8e0152"
            ],
            [
             0.1,
             "#c51b7d"
            ],
            [
             0.2,
             "#de77ae"
            ],
            [
             0.3,
             "#f1b6da"
            ],
            [
             0.4,
             "#fde0ef"
            ],
            [
             0.5,
             "#f7f7f7"
            ],
            [
             0.6,
             "#e6f5d0"
            ],
            [
             0.7,
             "#b8e186"
            ],
            [
             0.8,
             "#7fbc41"
            ],
            [
             0.9,
             "#4d9221"
            ],
            [
             1,
             "#276419"
            ]
           ],
           "sequential": [
            [
             0,
             "#0d0887"
            ],
            [
             0.1111111111111111,
             "#46039f"
            ],
            [
             0.2222222222222222,
             "#7201a8"
            ],
            [
             0.3333333333333333,
             "#9c179e"
            ],
            [
             0.4444444444444444,
             "#bd3786"
            ],
            [
             0.5555555555555556,
             "#d8576b"
            ],
            [
             0.6666666666666666,
             "#ed7953"
            ],
            [
             0.7777777777777778,
             "#fb9f3a"
            ],
            [
             0.8888888888888888,
             "#fdca26"
            ],
            [
             1,
             "#f0f921"
            ]
           ],
           "sequentialminus": [
            [
             0,
             "#0d0887"
            ],
            [
             0.1111111111111111,
             "#46039f"
            ],
            [
             0.2222222222222222,
             "#7201a8"
            ],
            [
             0.3333333333333333,
             "#9c179e"
            ],
            [
             0.4444444444444444,
             "#bd3786"
            ],
            [
             0.5555555555555556,
             "#d8576b"
            ],
            [
             0.6666666666666666,
             "#ed7953"
            ],
            [
             0.7777777777777778,
             "#fb9f3a"
            ],
            [
             0.8888888888888888,
             "#fdca26"
            ],
            [
             1,
             "#f0f921"
            ]
           ]
          },
          "colorway": [
           "#636efa",
           "#EF553B",
           "#00cc96",
           "#ab63fa",
           "#FFA15A",
           "#19d3f3",
           "#FF6692",
           "#B6E880",
           "#FF97FF",
           "#FECB52"
          ],
          "font": {
           "color": "#2a3f5f"
          },
          "geo": {
           "bgcolor": "white",
           "lakecolor": "white",
           "landcolor": "#E5ECF6",
           "showlakes": true,
           "showland": true,
           "subunitcolor": "white"
          },
          "hoverlabel": {
           "align": "left"
          },
          "hovermode": "closest",
          "mapbox": {
           "style": "light"
          },
          "paper_bgcolor": "white",
          "plot_bgcolor": "#E5ECF6",
          "polar": {
           "angularaxis": {
            "gridcolor": "white",
            "linecolor": "white",
            "ticks": ""
           },
           "bgcolor": "#E5ECF6",
           "radialaxis": {
            "gridcolor": "white",
            "linecolor": "white",
            "ticks": ""
           }
          },
          "scene": {
           "xaxis": {
            "backgroundcolor": "#E5ECF6",
            "gridcolor": "white",
            "gridwidth": 2,
            "linecolor": "white",
            "showbackground": true,
            "ticks": "",
            "zerolinecolor": "white"
           },
           "yaxis": {
            "backgroundcolor": "#E5ECF6",
            "gridcolor": "white",
            "gridwidth": 2,
            "linecolor": "white",
            "showbackground": true,
            "ticks": "",
            "zerolinecolor": "white"
           },
           "zaxis": {
            "backgroundcolor": "#E5ECF6",
            "gridcolor": "white",
            "gridwidth": 2,
            "linecolor": "white",
            "showbackground": true,
            "ticks": "",
            "zerolinecolor": "white"
           }
          },
          "shapedefaults": {
           "line": {
            "color": "#2a3f5f"
           }
          },
          "ternary": {
           "aaxis": {
            "gridcolor": "white",
            "linecolor": "white",
            "ticks": ""
           },
           "baxis": {
            "gridcolor": "white",
            "linecolor": "white",
            "ticks": ""
           },
           "bgcolor": "#E5ECF6",
           "caxis": {
            "gridcolor": "white",
            "linecolor": "white",
            "ticks": ""
           }
          },
          "title": {
           "x": 0.05
          },
          "xaxis": {
           "automargin": true,
           "gridcolor": "white",
           "linecolor": "white",
           "ticks": "",
           "title": {
            "standoff": 15
           },
           "zerolinecolor": "white",
           "zerolinewidth": 2
          },
          "yaxis": {
           "automargin": true,
           "gridcolor": "white",
           "linecolor": "white",
           "ticks": "",
           "title": {
            "standoff": 15
           },
           "zerolinecolor": "white",
           "zerolinewidth": 2
          }
         }
        },
        "title": {
         "text": "Portfolio vs Index Returns: 2020"
        },
        "xaxis": {
         "anchor": "y",
         "domain": [
          0,
          1
         ],
         "title": {
          "text": "Index"
         }
        },
        "yaxis": {
         "anchor": "x",
         "domain": [
          0,
          1
         ],
         "title": {
          "text": "value"
         }
        }
       }
      }
     },
     "metadata": {},
     "output_type": "display_data"
    }
   ],
   "source": [
    "df_returns_old = pd.read_csv('Returns_old_m-5_T-3600.csv')\n",
    "fig = px.line(df_returns_old, x='Index', y=['Index Return', 'Portfolio Return'], title='Portfolio vs Index Returns: 2019')\n",
    "fig.show()\n",
    "\n",
    "df_returns_new = pd.read_csv('Returns_new_m-5_T-3600.csv')\n",
    "df_returns_new['Error'] = df_returns_new['Index Return'] - df_returns_new['Portfolio Return']\n",
    "fig = px.line(df_returns_new, x='Index', y=['Index Return', 'Portfolio Return'], title='Portfolio vs Index Returns: 2020')\n",
    "fig.update_layout(\n",
    "    legend=dict(\n",
    "        orientation=\"h\",  # Set orientation to horizontal\n",
    "        yanchor=\"bottom\",  # Anchor the legend to the bottom\n",
    "        y=1.02  # Adjust the position of the legend\n",
    "    )\n",
    ")\n",
    "fig.show()"
   ]
  },
  {
   "cell_type": "code",
   "execution_count": 24,
   "metadata": {},
   "outputs": [
    {
     "data": {
      "application/vnd.plotly.v1+json": {
       "config": {
        "plotlyServerURL": "https://plot.ly"
       },
       "data": [
        {
         "hovertemplate": "variable=2019_return_error<br>m=%{x}<br>value=%{y}<extra></extra>",
         "legendgroup": "2019_return_error",
         "line": {
          "color": "#636efa",
          "dash": "solid"
         },
         "marker": {
          "symbol": "circle"
         },
         "mode": "lines",
         "name": "2019_return_error",
         "orientation": "v",
         "showlegend": true,
         "type": "scatter",
         "x": [
          5,
          10,
          15,
          20,
          25,
          30,
          35,
          40,
          45,
          50,
          55,
          60,
          65,
          70,
          75,
          80,
          85,
          90,
          95,
          100
         ],
         "xaxis": "x",
         "y": [
          0.4992586920546359,
          0.2901370241328436,
          0.207519687674673,
          0.157501375716148,
          0.1334421038015731,
          0.1056528385515256,
          0.0929860664440422,
          0.0785768870761832,
          0.0676973114646407,
          0.060978779501919,
          0.0562059035034644,
          0.0524416066893452,
          0.0491732454433438,
          0.0474877229535415,
          0.0460415500685385,
          0.0452271208876129,
          0.0449656608450206,
          0.0449108164606383,
          0.0449108164083928,
          0.0449108164083929
         ],
         "yaxis": "y"
        },
        {
         "hovertemplate": "variable=2020_return_error<br>m=%{x}<br>value=%{y}<extra></extra>",
         "legendgroup": "2020_return_error",
         "line": {
          "color": "#EF553B",
          "dash": "solid"
         },
         "marker": {
          "symbol": "circle"
         },
         "mode": "lines",
         "name": "2020_return_error",
         "orientation": "v",
         "showlegend": true,
         "type": "scatter",
         "x": [
          5,
          10,
          15,
          20,
          25,
          30,
          35,
          40,
          45,
          50,
          55,
          60,
          65,
          70,
          75,
          80,
          85,
          90,
          95,
          100
         ],
         "xaxis": "x",
         "y": [
          0.7773624845503464,
          0.7533721642362791,
          0.6367542674477454,
          0.5594636769069442,
          0.4780148711571821,
          0.4916229113126487,
          0.4764355877134356,
          0.4082495639884021,
          0.4066852051243997,
          0.3916770832192824,
          0.3760911483040245,
          0.373525715107096,
          0.3691970811770877,
          0.3605022771103967,
          0.362994790889923,
          0.3706285957205264,
          0.3610194322421359,
          0.3686708536103169,
          0.3686708536103173,
          0.3686708536103171
         ],
         "yaxis": "y"
        }
       ],
       "layout": {
        "legend": {
         "title": {
          "text": "variable"
         },
         "tracegroupgap": 0
        },
        "template": {
         "data": {
          "bar": [
           {
            "error_x": {
             "color": "#2a3f5f"
            },
            "error_y": {
             "color": "#2a3f5f"
            },
            "marker": {
             "line": {
              "color": "#E5ECF6",
              "width": 0.5
             },
             "pattern": {
              "fillmode": "overlay",
              "size": 10,
              "solidity": 0.2
             }
            },
            "type": "bar"
           }
          ],
          "barpolar": [
           {
            "marker": {
             "line": {
              "color": "#E5ECF6",
              "width": 0.5
             },
             "pattern": {
              "fillmode": "overlay",
              "size": 10,
              "solidity": 0.2
             }
            },
            "type": "barpolar"
           }
          ],
          "carpet": [
           {
            "aaxis": {
             "endlinecolor": "#2a3f5f",
             "gridcolor": "white",
             "linecolor": "white",
             "minorgridcolor": "white",
             "startlinecolor": "#2a3f5f"
            },
            "baxis": {
             "endlinecolor": "#2a3f5f",
             "gridcolor": "white",
             "linecolor": "white",
             "minorgridcolor": "white",
             "startlinecolor": "#2a3f5f"
            },
            "type": "carpet"
           }
          ],
          "choropleth": [
           {
            "colorbar": {
             "outlinewidth": 0,
             "ticks": ""
            },
            "type": "choropleth"
           }
          ],
          "contour": [
           {
            "colorbar": {
             "outlinewidth": 0,
             "ticks": ""
            },
            "colorscale": [
             [
              0,
              "#0d0887"
             ],
             [
              0.1111111111111111,
              "#46039f"
             ],
             [
              0.2222222222222222,
              "#7201a8"
             ],
             [
              0.3333333333333333,
              "#9c179e"
             ],
             [
              0.4444444444444444,
              "#bd3786"
             ],
             [
              0.5555555555555556,
              "#d8576b"
             ],
             [
              0.6666666666666666,
              "#ed7953"
             ],
             [
              0.7777777777777778,
              "#fb9f3a"
             ],
             [
              0.8888888888888888,
              "#fdca26"
             ],
             [
              1,
              "#f0f921"
             ]
            ],
            "type": "contour"
           }
          ],
          "contourcarpet": [
           {
            "colorbar": {
             "outlinewidth": 0,
             "ticks": ""
            },
            "type": "contourcarpet"
           }
          ],
          "heatmap": [
           {
            "colorbar": {
             "outlinewidth": 0,
             "ticks": ""
            },
            "colorscale": [
             [
              0,
              "#0d0887"
             ],
             [
              0.1111111111111111,
              "#46039f"
             ],
             [
              0.2222222222222222,
              "#7201a8"
             ],
             [
              0.3333333333333333,
              "#9c179e"
             ],
             [
              0.4444444444444444,
              "#bd3786"
             ],
             [
              0.5555555555555556,
              "#d8576b"
             ],
             [
              0.6666666666666666,
              "#ed7953"
             ],
             [
              0.7777777777777778,
              "#fb9f3a"
             ],
             [
              0.8888888888888888,
              "#fdca26"
             ],
             [
              1,
              "#f0f921"
             ]
            ],
            "type": "heatmap"
           }
          ],
          "heatmapgl": [
           {
            "colorbar": {
             "outlinewidth": 0,
             "ticks": ""
            },
            "colorscale": [
             [
              0,
              "#0d0887"
             ],
             [
              0.1111111111111111,
              "#46039f"
             ],
             [
              0.2222222222222222,
              "#7201a8"
             ],
             [
              0.3333333333333333,
              "#9c179e"
             ],
             [
              0.4444444444444444,
              "#bd3786"
             ],
             [
              0.5555555555555556,
              "#d8576b"
             ],
             [
              0.6666666666666666,
              "#ed7953"
             ],
             [
              0.7777777777777778,
              "#fb9f3a"
             ],
             [
              0.8888888888888888,
              "#fdca26"
             ],
             [
              1,
              "#f0f921"
             ]
            ],
            "type": "heatmapgl"
           }
          ],
          "histogram": [
           {
            "marker": {
             "pattern": {
              "fillmode": "overlay",
              "size": 10,
              "solidity": 0.2
             }
            },
            "type": "histogram"
           }
          ],
          "histogram2d": [
           {
            "colorbar": {
             "outlinewidth": 0,
             "ticks": ""
            },
            "colorscale": [
             [
              0,
              "#0d0887"
             ],
             [
              0.1111111111111111,
              "#46039f"
             ],
             [
              0.2222222222222222,
              "#7201a8"
             ],
             [
              0.3333333333333333,
              "#9c179e"
             ],
             [
              0.4444444444444444,
              "#bd3786"
             ],
             [
              0.5555555555555556,
              "#d8576b"
             ],
             [
              0.6666666666666666,
              "#ed7953"
             ],
             [
              0.7777777777777778,
              "#fb9f3a"
             ],
             [
              0.8888888888888888,
              "#fdca26"
             ],
             [
              1,
              "#f0f921"
             ]
            ],
            "type": "histogram2d"
           }
          ],
          "histogram2dcontour": [
           {
            "colorbar": {
             "outlinewidth": 0,
             "ticks": ""
            },
            "colorscale": [
             [
              0,
              "#0d0887"
             ],
             [
              0.1111111111111111,
              "#46039f"
             ],
             [
              0.2222222222222222,
              "#7201a8"
             ],
             [
              0.3333333333333333,
              "#9c179e"
             ],
             [
              0.4444444444444444,
              "#bd3786"
             ],
             [
              0.5555555555555556,
              "#d8576b"
             ],
             [
              0.6666666666666666,
              "#ed7953"
             ],
             [
              0.7777777777777778,
              "#fb9f3a"
             ],
             [
              0.8888888888888888,
              "#fdca26"
             ],
             [
              1,
              "#f0f921"
             ]
            ],
            "type": "histogram2dcontour"
           }
          ],
          "mesh3d": [
           {
            "colorbar": {
             "outlinewidth": 0,
             "ticks": ""
            },
            "type": "mesh3d"
           }
          ],
          "parcoords": [
           {
            "line": {
             "colorbar": {
              "outlinewidth": 0,
              "ticks": ""
             }
            },
            "type": "parcoords"
           }
          ],
          "pie": [
           {
            "automargin": true,
            "type": "pie"
           }
          ],
          "scatter": [
           {
            "fillpattern": {
             "fillmode": "overlay",
             "size": 10,
             "solidity": 0.2
            },
            "type": "scatter"
           }
          ],
          "scatter3d": [
           {
            "line": {
             "colorbar": {
              "outlinewidth": 0,
              "ticks": ""
             }
            },
            "marker": {
             "colorbar": {
              "outlinewidth": 0,
              "ticks": ""
             }
            },
            "type": "scatter3d"
           }
          ],
          "scattercarpet": [
           {
            "marker": {
             "colorbar": {
              "outlinewidth": 0,
              "ticks": ""
             }
            },
            "type": "scattercarpet"
           }
          ],
          "scattergeo": [
           {
            "marker": {
             "colorbar": {
              "outlinewidth": 0,
              "ticks": ""
             }
            },
            "type": "scattergeo"
           }
          ],
          "scattergl": [
           {
            "marker": {
             "colorbar": {
              "outlinewidth": 0,
              "ticks": ""
             }
            },
            "type": "scattergl"
           }
          ],
          "scattermapbox": [
           {
            "marker": {
             "colorbar": {
              "outlinewidth": 0,
              "ticks": ""
             }
            },
            "type": "scattermapbox"
           }
          ],
          "scatterpolar": [
           {
            "marker": {
             "colorbar": {
              "outlinewidth": 0,
              "ticks": ""
             }
            },
            "type": "scatterpolar"
           }
          ],
          "scatterpolargl": [
           {
            "marker": {
             "colorbar": {
              "outlinewidth": 0,
              "ticks": ""
             }
            },
            "type": "scatterpolargl"
           }
          ],
          "scatterternary": [
           {
            "marker": {
             "colorbar": {
              "outlinewidth": 0,
              "ticks": ""
             }
            },
            "type": "scatterternary"
           }
          ],
          "surface": [
           {
            "colorbar": {
             "outlinewidth": 0,
             "ticks": ""
            },
            "colorscale": [
             [
              0,
              "#0d0887"
             ],
             [
              0.1111111111111111,
              "#46039f"
             ],
             [
              0.2222222222222222,
              "#7201a8"
             ],
             [
              0.3333333333333333,
              "#9c179e"
             ],
             [
              0.4444444444444444,
              "#bd3786"
             ],
             [
              0.5555555555555556,
              "#d8576b"
             ],
             [
              0.6666666666666666,
              "#ed7953"
             ],
             [
              0.7777777777777778,
              "#fb9f3a"
             ],
             [
              0.8888888888888888,
              "#fdca26"
             ],
             [
              1,
              "#f0f921"
             ]
            ],
            "type": "surface"
           }
          ],
          "table": [
           {
            "cells": {
             "fill": {
              "color": "#EBF0F8"
             },
             "line": {
              "color": "white"
             }
            },
            "header": {
             "fill": {
              "color": "#C8D4E3"
             },
             "line": {
              "color": "white"
             }
            },
            "type": "table"
           }
          ]
         },
         "layout": {
          "annotationdefaults": {
           "arrowcolor": "#2a3f5f",
           "arrowhead": 0,
           "arrowwidth": 1
          },
          "autotypenumbers": "strict",
          "coloraxis": {
           "colorbar": {
            "outlinewidth": 0,
            "ticks": ""
           }
          },
          "colorscale": {
           "diverging": [
            [
             0,
             "#8e0152"
            ],
            [
             0.1,
             "#c51b7d"
            ],
            [
             0.2,
             "#de77ae"
            ],
            [
             0.3,
             "#f1b6da"
            ],
            [
             0.4,
             "#fde0ef"
            ],
            [
             0.5,
             "#f7f7f7"
            ],
            [
             0.6,
             "#e6f5d0"
            ],
            [
             0.7,
             "#b8e186"
            ],
            [
             0.8,
             "#7fbc41"
            ],
            [
             0.9,
             "#4d9221"
            ],
            [
             1,
             "#276419"
            ]
           ],
           "sequential": [
            [
             0,
             "#0d0887"
            ],
            [
             0.1111111111111111,
             "#46039f"
            ],
            [
             0.2222222222222222,
             "#7201a8"
            ],
            [
             0.3333333333333333,
             "#9c179e"
            ],
            [
             0.4444444444444444,
             "#bd3786"
            ],
            [
             0.5555555555555556,
             "#d8576b"
            ],
            [
             0.6666666666666666,
             "#ed7953"
            ],
            [
             0.7777777777777778,
             "#fb9f3a"
            ],
            [
             0.8888888888888888,
             "#fdca26"
            ],
            [
             1,
             "#f0f921"
            ]
           ],
           "sequentialminus": [
            [
             0,
             "#0d0887"
            ],
            [
             0.1111111111111111,
             "#46039f"
            ],
            [
             0.2222222222222222,
             "#7201a8"
            ],
            [
             0.3333333333333333,
             "#9c179e"
            ],
            [
             0.4444444444444444,
             "#bd3786"
            ],
            [
             0.5555555555555556,
             "#d8576b"
            ],
            [
             0.6666666666666666,
             "#ed7953"
            ],
            [
             0.7777777777777778,
             "#fb9f3a"
            ],
            [
             0.8888888888888888,
             "#fdca26"
            ],
            [
             1,
             "#f0f921"
            ]
           ]
          },
          "colorway": [
           "#636efa",
           "#EF553B",
           "#00cc96",
           "#ab63fa",
           "#FFA15A",
           "#19d3f3",
           "#FF6692",
           "#B6E880",
           "#FF97FF",
           "#FECB52"
          ],
          "font": {
           "color": "#2a3f5f"
          },
          "geo": {
           "bgcolor": "white",
           "lakecolor": "white",
           "landcolor": "#E5ECF6",
           "showlakes": true,
           "showland": true,
           "subunitcolor": "white"
          },
          "hoverlabel": {
           "align": "left"
          },
          "hovermode": "closest",
          "mapbox": {
           "style": "light"
          },
          "paper_bgcolor": "white",
          "plot_bgcolor": "#E5ECF6",
          "polar": {
           "angularaxis": {
            "gridcolor": "white",
            "linecolor": "white",
            "ticks": ""
           },
           "bgcolor": "#E5ECF6",
           "radialaxis": {
            "gridcolor": "white",
            "linecolor": "white",
            "ticks": ""
           }
          },
          "scene": {
           "xaxis": {
            "backgroundcolor": "#E5ECF6",
            "gridcolor": "white",
            "gridwidth": 2,
            "linecolor": "white",
            "showbackground": true,
            "ticks": "",
            "zerolinecolor": "white"
           },
           "yaxis": {
            "backgroundcolor": "#E5ECF6",
            "gridcolor": "white",
            "gridwidth": 2,
            "linecolor": "white",
            "showbackground": true,
            "ticks": "",
            "zerolinecolor": "white"
           },
           "zaxis": {
            "backgroundcolor": "#E5ECF6",
            "gridcolor": "white",
            "gridwidth": 2,
            "linecolor": "white",
            "showbackground": true,
            "ticks": "",
            "zerolinecolor": "white"
           }
          },
          "shapedefaults": {
           "line": {
            "color": "#2a3f5f"
           }
          },
          "ternary": {
           "aaxis": {
            "gridcolor": "white",
            "linecolor": "white",
            "ticks": ""
           },
           "baxis": {
            "gridcolor": "white",
            "linecolor": "white",
            "ticks": ""
           },
           "bgcolor": "#E5ECF6",
           "caxis": {
            "gridcolor": "white",
            "linecolor": "white",
            "ticks": ""
           }
          },
          "title": {
           "x": 0.05
          },
          "xaxis": {
           "automargin": true,
           "gridcolor": "white",
           "linecolor": "white",
           "ticks": "",
           "title": {
            "standoff": 15
           },
           "zerolinecolor": "white",
           "zerolinewidth": 2
          },
          "yaxis": {
           "automargin": true,
           "gridcolor": "white",
           "linecolor": "white",
           "ticks": "",
           "title": {
            "standoff": 15
           },
           "zerolinecolor": "white",
           "zerolinewidth": 2
          }
         }
        },
        "title": {
         "text": "Error Comparison: 2019 vs 2020"
        },
        "xaxis": {
         "anchor": "y",
         "domain": [
          0,
          1
         ],
         "title": {
          "text": "m"
         }
        },
        "yaxis": {
         "anchor": "x",
         "domain": [
          0,
          1
         ],
         "title": {
          "text": "value"
         }
        }
       }
      }
     },
     "metadata": {},
     "output_type": "display_data"
    }
   ],
   "source": [
    "data_MIP = pd.read_csv('MIPApproach_T-3600.csv')\n",
    "data_MIP['Delta'] = data_MIP['2020_return_error'] - data_MIP['2019_return_error']\n",
    "fig = px.line(data_MIP, x='m', y=['2019_return_error', '2020_return_error'], title='Error Comparison: 2019 vs 2020')\n",
    "fig.show()"
   ]
  },
  {
   "cell_type": "markdown",
   "metadata": {},
   "source": [
    "#### Combined Analysis"
   ]
  },
  {
   "cell_type": "code",
   "execution_count": 56,
   "metadata": {},
   "outputs": [
    {
     "data": {
      "application/vnd.plotly.v1+json": {
       "config": {
        "plotlyServerURL": "https://plot.ly"
       },
       "data": [
        {
         "hovertemplate": "variable=2020_return_error_MIP<br>m=%{x}<br>value=%{y}<extra></extra>",
         "legendgroup": "2020_return_error_MIP",
         "line": {
          "color": "#636efa",
          "dash": "solid"
         },
         "marker": {
          "symbol": "circle"
         },
         "mode": "lines",
         "name": "2020_return_error_MIP",
         "orientation": "v",
         "showlegend": true,
         "type": "scatter",
         "x": [
          5,
          10,
          15,
          20,
          25,
          30,
          35,
          40,
          45,
          50,
          55,
          60,
          65,
          70,
          75,
          80,
          85,
          90,
          95,
          100
         ],
         "xaxis": "x",
         "y": [
          0.7773624845503464,
          0.7533721642362791,
          0.6367542674477454,
          0.5594636769069442,
          0.4780148711571821,
          0.4916229113126487,
          0.4764355877134356,
          0.4082495639884021,
          0.4066852051243997,
          0.3916770832192824,
          0.3760911483040245,
          0.373525715107096,
          0.3691970811770877,
          0.3605022771103967,
          0.362994790889923,
          0.3706285957205264,
          0.3610194322421359,
          0.3686708536103169,
          0.3686708536103173,
          0.3686708536103171
         ],
         "yaxis": "y"
        },
        {
         "hovertemplate": "variable=2020_return_error_2_step<br>m=%{x}<br>value=%{y}<extra></extra>",
         "legendgroup": "2020_return_error_2_step",
         "line": {
          "color": "#EF553B",
          "dash": "solid"
         },
         "marker": {
          "symbol": "circle"
         },
         "mode": "lines",
         "name": "2020_return_error_2_step",
         "orientation": "v",
         "showlegend": true,
         "type": "scatter",
         "x": [
          5,
          10,
          15,
          20,
          25,
          30,
          35,
          40,
          45,
          50,
          55,
          60,
          65,
          70,
          75,
          80,
          85,
          90,
          95,
          100
         ],
         "xaxis": "x",
         "y": [
          1.1124373455076464,
          1.1024044007151053,
          1.2646892450924831,
          0.8995975248049078,
          0.8050650113947341,
          0.7691103647201496,
          0.7667738507704889,
          0.7910472207956691,
          0.7604945653754235,
          0.7720996592107854,
          0.796320441603154,
          1.0973035971624083,
          0.5587497953651943,
          0.5578542933361194,
          0.5610733378247444,
          0.5373227700587149,
          0.4518751689870794,
          0.3677895223581099,
          0.3689707298354131,
          0.3686708536103171
         ],
         "yaxis": "y"
        }
       ],
       "layout": {
        "legend": {
         "orientation": "h",
         "title": {
          "text": "variable"
         },
         "tracegroupgap": 0,
         "y": 1.02,
         "yanchor": "bottom"
        },
        "template": {
         "data": {
          "bar": [
           {
            "error_x": {
             "color": "#2a3f5f"
            },
            "error_y": {
             "color": "#2a3f5f"
            },
            "marker": {
             "line": {
              "color": "#E5ECF6",
              "width": 0.5
             },
             "pattern": {
              "fillmode": "overlay",
              "size": 10,
              "solidity": 0.2
             }
            },
            "type": "bar"
           }
          ],
          "barpolar": [
           {
            "marker": {
             "line": {
              "color": "#E5ECF6",
              "width": 0.5
             },
             "pattern": {
              "fillmode": "overlay",
              "size": 10,
              "solidity": 0.2
             }
            },
            "type": "barpolar"
           }
          ],
          "carpet": [
           {
            "aaxis": {
             "endlinecolor": "#2a3f5f",
             "gridcolor": "white",
             "linecolor": "white",
             "minorgridcolor": "white",
             "startlinecolor": "#2a3f5f"
            },
            "baxis": {
             "endlinecolor": "#2a3f5f",
             "gridcolor": "white",
             "linecolor": "white",
             "minorgridcolor": "white",
             "startlinecolor": "#2a3f5f"
            },
            "type": "carpet"
           }
          ],
          "choropleth": [
           {
            "colorbar": {
             "outlinewidth": 0,
             "ticks": ""
            },
            "type": "choropleth"
           }
          ],
          "contour": [
           {
            "colorbar": {
             "outlinewidth": 0,
             "ticks": ""
            },
            "colorscale": [
             [
              0,
              "#0d0887"
             ],
             [
              0.1111111111111111,
              "#46039f"
             ],
             [
              0.2222222222222222,
              "#7201a8"
             ],
             [
              0.3333333333333333,
              "#9c179e"
             ],
             [
              0.4444444444444444,
              "#bd3786"
             ],
             [
              0.5555555555555556,
              "#d8576b"
             ],
             [
              0.6666666666666666,
              "#ed7953"
             ],
             [
              0.7777777777777778,
              "#fb9f3a"
             ],
             [
              0.8888888888888888,
              "#fdca26"
             ],
             [
              1,
              "#f0f921"
             ]
            ],
            "type": "contour"
           }
          ],
          "contourcarpet": [
           {
            "colorbar": {
             "outlinewidth": 0,
             "ticks": ""
            },
            "type": "contourcarpet"
           }
          ],
          "heatmap": [
           {
            "colorbar": {
             "outlinewidth": 0,
             "ticks": ""
            },
            "colorscale": [
             [
              0,
              "#0d0887"
             ],
             [
              0.1111111111111111,
              "#46039f"
             ],
             [
              0.2222222222222222,
              "#7201a8"
             ],
             [
              0.3333333333333333,
              "#9c179e"
             ],
             [
              0.4444444444444444,
              "#bd3786"
             ],
             [
              0.5555555555555556,
              "#d8576b"
             ],
             [
              0.6666666666666666,
              "#ed7953"
             ],
             [
              0.7777777777777778,
              "#fb9f3a"
             ],
             [
              0.8888888888888888,
              "#fdca26"
             ],
             [
              1,
              "#f0f921"
             ]
            ],
            "type": "heatmap"
           }
          ],
          "heatmapgl": [
           {
            "colorbar": {
             "outlinewidth": 0,
             "ticks": ""
            },
            "colorscale": [
             [
              0,
              "#0d0887"
             ],
             [
              0.1111111111111111,
              "#46039f"
             ],
             [
              0.2222222222222222,
              "#7201a8"
             ],
             [
              0.3333333333333333,
              "#9c179e"
             ],
             [
              0.4444444444444444,
              "#bd3786"
             ],
             [
              0.5555555555555556,
              "#d8576b"
             ],
             [
              0.6666666666666666,
              "#ed7953"
             ],
             [
              0.7777777777777778,
              "#fb9f3a"
             ],
             [
              0.8888888888888888,
              "#fdca26"
             ],
             [
              1,
              "#f0f921"
             ]
            ],
            "type": "heatmapgl"
           }
          ],
          "histogram": [
           {
            "marker": {
             "pattern": {
              "fillmode": "overlay",
              "size": 10,
              "solidity": 0.2
             }
            },
            "type": "histogram"
           }
          ],
          "histogram2d": [
           {
            "colorbar": {
             "outlinewidth": 0,
             "ticks": ""
            },
            "colorscale": [
             [
              0,
              "#0d0887"
             ],
             [
              0.1111111111111111,
              "#46039f"
             ],
             [
              0.2222222222222222,
              "#7201a8"
             ],
             [
              0.3333333333333333,
              "#9c179e"
             ],
             [
              0.4444444444444444,
              "#bd3786"
             ],
             [
              0.5555555555555556,
              "#d8576b"
             ],
             [
              0.6666666666666666,
              "#ed7953"
             ],
             [
              0.7777777777777778,
              "#fb9f3a"
             ],
             [
              0.8888888888888888,
              "#fdca26"
             ],
             [
              1,
              "#f0f921"
             ]
            ],
            "type": "histogram2d"
           }
          ],
          "histogram2dcontour": [
           {
            "colorbar": {
             "outlinewidth": 0,
             "ticks": ""
            },
            "colorscale": [
             [
              0,
              "#0d0887"
             ],
             [
              0.1111111111111111,
              "#46039f"
             ],
             [
              0.2222222222222222,
              "#7201a8"
             ],
             [
              0.3333333333333333,
              "#9c179e"
             ],
             [
              0.4444444444444444,
              "#bd3786"
             ],
             [
              0.5555555555555556,
              "#d8576b"
             ],
             [
              0.6666666666666666,
              "#ed7953"
             ],
             [
              0.7777777777777778,
              "#fb9f3a"
             ],
             [
              0.8888888888888888,
              "#fdca26"
             ],
             [
              1,
              "#f0f921"
             ]
            ],
            "type": "histogram2dcontour"
           }
          ],
          "mesh3d": [
           {
            "colorbar": {
             "outlinewidth": 0,
             "ticks": ""
            },
            "type": "mesh3d"
           }
          ],
          "parcoords": [
           {
            "line": {
             "colorbar": {
              "outlinewidth": 0,
              "ticks": ""
             }
            },
            "type": "parcoords"
           }
          ],
          "pie": [
           {
            "automargin": true,
            "type": "pie"
           }
          ],
          "scatter": [
           {
            "fillpattern": {
             "fillmode": "overlay",
             "size": 10,
             "solidity": 0.2
            },
            "type": "scatter"
           }
          ],
          "scatter3d": [
           {
            "line": {
             "colorbar": {
              "outlinewidth": 0,
              "ticks": ""
             }
            },
            "marker": {
             "colorbar": {
              "outlinewidth": 0,
              "ticks": ""
             }
            },
            "type": "scatter3d"
           }
          ],
          "scattercarpet": [
           {
            "marker": {
             "colorbar": {
              "outlinewidth": 0,
              "ticks": ""
             }
            },
            "type": "scattercarpet"
           }
          ],
          "scattergeo": [
           {
            "marker": {
             "colorbar": {
              "outlinewidth": 0,
              "ticks": ""
             }
            },
            "type": "scattergeo"
           }
          ],
          "scattergl": [
           {
            "marker": {
             "colorbar": {
              "outlinewidth": 0,
              "ticks": ""
             }
            },
            "type": "scattergl"
           }
          ],
          "scattermapbox": [
           {
            "marker": {
             "colorbar": {
              "outlinewidth": 0,
              "ticks": ""
             }
            },
            "type": "scattermapbox"
           }
          ],
          "scatterpolar": [
           {
            "marker": {
             "colorbar": {
              "outlinewidth": 0,
              "ticks": ""
             }
            },
            "type": "scatterpolar"
           }
          ],
          "scatterpolargl": [
           {
            "marker": {
             "colorbar": {
              "outlinewidth": 0,
              "ticks": ""
             }
            },
            "type": "scatterpolargl"
           }
          ],
          "scatterternary": [
           {
            "marker": {
             "colorbar": {
              "outlinewidth": 0,
              "ticks": ""
             }
            },
            "type": "scatterternary"
           }
          ],
          "surface": [
           {
            "colorbar": {
             "outlinewidth": 0,
             "ticks": ""
            },
            "colorscale": [
             [
              0,
              "#0d0887"
             ],
             [
              0.1111111111111111,
              "#46039f"
             ],
             [
              0.2222222222222222,
              "#7201a8"
             ],
             [
              0.3333333333333333,
              "#9c179e"
             ],
             [
              0.4444444444444444,
              "#bd3786"
             ],
             [
              0.5555555555555556,
              "#d8576b"
             ],
             [
              0.6666666666666666,
              "#ed7953"
             ],
             [
              0.7777777777777778,
              "#fb9f3a"
             ],
             [
              0.8888888888888888,
              "#fdca26"
             ],
             [
              1,
              "#f0f921"
             ]
            ],
            "type": "surface"
           }
          ],
          "table": [
           {
            "cells": {
             "fill": {
              "color": "#EBF0F8"
             },
             "line": {
              "color": "white"
             }
            },
            "header": {
             "fill": {
              "color": "#C8D4E3"
             },
             "line": {
              "color": "white"
             }
            },
            "type": "table"
           }
          ]
         },
         "layout": {
          "annotationdefaults": {
           "arrowcolor": "#2a3f5f",
           "arrowhead": 0,
           "arrowwidth": 1
          },
          "autotypenumbers": "strict",
          "coloraxis": {
           "colorbar": {
            "outlinewidth": 0,
            "ticks": ""
           }
          },
          "colorscale": {
           "diverging": [
            [
             0,
             "#8e0152"
            ],
            [
             0.1,
             "#c51b7d"
            ],
            [
             0.2,
             "#de77ae"
            ],
            [
             0.3,
             "#f1b6da"
            ],
            [
             0.4,
             "#fde0ef"
            ],
            [
             0.5,
             "#f7f7f7"
            ],
            [
             0.6,
             "#e6f5d0"
            ],
            [
             0.7,
             "#b8e186"
            ],
            [
             0.8,
             "#7fbc41"
            ],
            [
             0.9,
             "#4d9221"
            ],
            [
             1,
             "#276419"
            ]
           ],
           "sequential": [
            [
             0,
             "#0d0887"
            ],
            [
             0.1111111111111111,
             "#46039f"
            ],
            [
             0.2222222222222222,
             "#7201a8"
            ],
            [
             0.3333333333333333,
             "#9c179e"
            ],
            [
             0.4444444444444444,
             "#bd3786"
            ],
            [
             0.5555555555555556,
             "#d8576b"
            ],
            [
             0.6666666666666666,
             "#ed7953"
            ],
            [
             0.7777777777777778,
             "#fb9f3a"
            ],
            [
             0.8888888888888888,
             "#fdca26"
            ],
            [
             1,
             "#f0f921"
            ]
           ],
           "sequentialminus": [
            [
             0,
             "#0d0887"
            ],
            [
             0.1111111111111111,
             "#46039f"
            ],
            [
             0.2222222222222222,
             "#7201a8"
            ],
            [
             0.3333333333333333,
             "#9c179e"
            ],
            [
             0.4444444444444444,
             "#bd3786"
            ],
            [
             0.5555555555555556,
             "#d8576b"
            ],
            [
             0.6666666666666666,
             "#ed7953"
            ],
            [
             0.7777777777777778,
             "#fb9f3a"
            ],
            [
             0.8888888888888888,
             "#fdca26"
            ],
            [
             1,
             "#f0f921"
            ]
           ]
          },
          "colorway": [
           "#636efa",
           "#EF553B",
           "#00cc96",
           "#ab63fa",
           "#FFA15A",
           "#19d3f3",
           "#FF6692",
           "#B6E880",
           "#FF97FF",
           "#FECB52"
          ],
          "font": {
           "color": "#2a3f5f"
          },
          "geo": {
           "bgcolor": "white",
           "lakecolor": "white",
           "landcolor": "#E5ECF6",
           "showlakes": true,
           "showland": true,
           "subunitcolor": "white"
          },
          "hoverlabel": {
           "align": "left"
          },
          "hovermode": "closest",
          "mapbox": {
           "style": "light"
          },
          "paper_bgcolor": "white",
          "plot_bgcolor": "#E5ECF6",
          "polar": {
           "angularaxis": {
            "gridcolor": "white",
            "linecolor": "white",
            "ticks": ""
           },
           "bgcolor": "#E5ECF6",
           "radialaxis": {
            "gridcolor": "white",
            "linecolor": "white",
            "ticks": ""
           }
          },
          "scene": {
           "xaxis": {
            "backgroundcolor": "#E5ECF6",
            "gridcolor": "white",
            "gridwidth": 2,
            "linecolor": "white",
            "showbackground": true,
            "ticks": "",
            "zerolinecolor": "white"
           },
           "yaxis": {
            "backgroundcolor": "#E5ECF6",
            "gridcolor": "white",
            "gridwidth": 2,
            "linecolor": "white",
            "showbackground": true,
            "ticks": "",
            "zerolinecolor": "white"
           },
           "zaxis": {
            "backgroundcolor": "#E5ECF6",
            "gridcolor": "white",
            "gridwidth": 2,
            "linecolor": "white",
            "showbackground": true,
            "ticks": "",
            "zerolinecolor": "white"
           }
          },
          "shapedefaults": {
           "line": {
            "color": "#2a3f5f"
           }
          },
          "ternary": {
           "aaxis": {
            "gridcolor": "white",
            "linecolor": "white",
            "ticks": ""
           },
           "baxis": {
            "gridcolor": "white",
            "linecolor": "white",
            "ticks": ""
           },
           "bgcolor": "#E5ECF6",
           "caxis": {
            "gridcolor": "white",
            "linecolor": "white",
            "ticks": ""
           }
          },
          "title": {
           "x": 0.05
          },
          "xaxis": {
           "automargin": true,
           "gridcolor": "white",
           "linecolor": "white",
           "ticks": "",
           "title": {
            "standoff": 15
           },
           "zerolinecolor": "white",
           "zerolinewidth": 2
          },
          "yaxis": {
           "automargin": true,
           "gridcolor": "white",
           "linecolor": "white",
           "ticks": "",
           "title": {
            "standoff": 15
           },
           "zerolinecolor": "white",
           "zerolinewidth": 2
          }
         }
        },
        "title": {
         "text": "Error Comparison: 2-Step vs MIP"
        },
        "xaxis": {
         "anchor": "y",
         "domain": [
          0,
          1
         ],
         "title": {
          "text": "m"
         }
        },
        "yaxis": {
         "anchor": "x",
         "domain": [
          0,
          1
         ],
         "title": {
          "text": "value"
         }
        }
       }
      }
     },
     "metadata": {},
     "output_type": "display_data"
    }
   ],
   "source": [
    "data_combined = data_MIP.merge(data_2_step, left_on='m', right_on='m', how='inner', suffixes=['_MIP', '_2_step'])\n",
    "fig = px.line(data_combined, x='m', y=['2020_return_error_MIP', '2020_return_error_2_step'], title='Error Comparison: 2-Step vs MIP')\n",
    "fig.update_layout(\n",
    "    legend=dict(\n",
    "        orientation=\"h\",  # Set orientation to horizontal\n",
    "        yanchor=\"bottom\",  # Anchor the legend to the bottom\n",
    "        y=1.02  # Adjust the position of the legend\n",
    "    )\n",
    ")\n",
    "fig.show()"
   ]
  },
  {
   "cell_type": "code",
   "execution_count": 26,
   "metadata": {},
   "outputs": [
    {
     "data": {
      "application/vnd.plotly.v1+json": {
       "config": {
        "plotlyServerURL": "https://plot.ly"
       },
       "data": [
        {
         "hovertemplate": "variable=2020_return_error_3600<br>m=%{x}<br>value=%{y}<extra></extra>",
         "legendgroup": "2020_return_error_3600",
         "line": {
          "color": "#636efa",
          "dash": "solid"
         },
         "marker": {
          "symbol": "circle"
         },
         "mode": "lines",
         "name": "2020_return_error_3600",
         "orientation": "v",
         "showlegend": true,
         "type": "scatter",
         "x": [
          5,
          10,
          15,
          20,
          25,
          30,
          35,
          40,
          45,
          50,
          55,
          60,
          65,
          70,
          75,
          80,
          85,
          90,
          95,
          100
         ],
         "xaxis": "x",
         "y": [
          0.7773624845503464,
          0.7533721642362791,
          0.6367542674477454,
          0.5594636769069442,
          0.4780148711571821,
          0.4916229113126487,
          0.4764355877134356,
          0.4082495639884021,
          0.4066852051243997,
          0.3916770832192824,
          0.3760911483040245,
          0.373525715107096,
          0.3691970811770877,
          0.3605022771103967,
          0.362994790889923,
          0.3706285957205264,
          0.3610194322421359,
          0.3686708536103169,
          0.3686708536103173,
          0.3686708536103171
         ],
         "yaxis": "y"
        },
        {
         "hovertemplate": "variable=2020_return_error_20<br>m=%{x}<br>value=%{y}<extra></extra>",
         "legendgroup": "2020_return_error_20",
         "line": {
          "color": "#EF553B",
          "dash": "solid"
         },
         "marker": {
          "symbol": "circle"
         },
         "mode": "lines",
         "name": "2020_return_error_20",
         "orientation": "v",
         "showlegend": true,
         "type": "scatter",
         "x": [
          5,
          10,
          15,
          20,
          25,
          30,
          35,
          40,
          45,
          50,
          55,
          60,
          65,
          70,
          75,
          80,
          85,
          90,
          95,
          100
         ],
         "xaxis": "x",
         "y": [
          0.7773624845503464,
          0.6405179674062256,
          0.698479497453663,
          0.6088299508441254,
          0.6554722552901999,
          0.4854228911422722,
          0.4769197466212817,
          0.4112857690780359,
          0.3787382583305461,
          0.3796100862490798,
          0.4043606731173249,
          0.3872330790329113,
          0.3677515751988919,
          0.3637054547585118,
          0.3698531707918353,
          0.3706285957205264,
          0.3610194322421359,
          0.3686708536103169,
          0.3686708536103173,
          0.3686708536103171
         ],
         "yaxis": "y"
        }
       ],
       "layout": {
        "legend": {
         "title": {
          "text": "variable"
         },
         "tracegroupgap": 0
        },
        "template": {
         "data": {
          "bar": [
           {
            "error_x": {
             "color": "#2a3f5f"
            },
            "error_y": {
             "color": "#2a3f5f"
            },
            "marker": {
             "line": {
              "color": "#E5ECF6",
              "width": 0.5
             },
             "pattern": {
              "fillmode": "overlay",
              "size": 10,
              "solidity": 0.2
             }
            },
            "type": "bar"
           }
          ],
          "barpolar": [
           {
            "marker": {
             "line": {
              "color": "#E5ECF6",
              "width": 0.5
             },
             "pattern": {
              "fillmode": "overlay",
              "size": 10,
              "solidity": 0.2
             }
            },
            "type": "barpolar"
           }
          ],
          "carpet": [
           {
            "aaxis": {
             "endlinecolor": "#2a3f5f",
             "gridcolor": "white",
             "linecolor": "white",
             "minorgridcolor": "white",
             "startlinecolor": "#2a3f5f"
            },
            "baxis": {
             "endlinecolor": "#2a3f5f",
             "gridcolor": "white",
             "linecolor": "white",
             "minorgridcolor": "white",
             "startlinecolor": "#2a3f5f"
            },
            "type": "carpet"
           }
          ],
          "choropleth": [
           {
            "colorbar": {
             "outlinewidth": 0,
             "ticks": ""
            },
            "type": "choropleth"
           }
          ],
          "contour": [
           {
            "colorbar": {
             "outlinewidth": 0,
             "ticks": ""
            },
            "colorscale": [
             [
              0,
              "#0d0887"
             ],
             [
              0.1111111111111111,
              "#46039f"
             ],
             [
              0.2222222222222222,
              "#7201a8"
             ],
             [
              0.3333333333333333,
              "#9c179e"
             ],
             [
              0.4444444444444444,
              "#bd3786"
             ],
             [
              0.5555555555555556,
              "#d8576b"
             ],
             [
              0.6666666666666666,
              "#ed7953"
             ],
             [
              0.7777777777777778,
              "#fb9f3a"
             ],
             [
              0.8888888888888888,
              "#fdca26"
             ],
             [
              1,
              "#f0f921"
             ]
            ],
            "type": "contour"
           }
          ],
          "contourcarpet": [
           {
            "colorbar": {
             "outlinewidth": 0,
             "ticks": ""
            },
            "type": "contourcarpet"
           }
          ],
          "heatmap": [
           {
            "colorbar": {
             "outlinewidth": 0,
             "ticks": ""
            },
            "colorscale": [
             [
              0,
              "#0d0887"
             ],
             [
              0.1111111111111111,
              "#46039f"
             ],
             [
              0.2222222222222222,
              "#7201a8"
             ],
             [
              0.3333333333333333,
              "#9c179e"
             ],
             [
              0.4444444444444444,
              "#bd3786"
             ],
             [
              0.5555555555555556,
              "#d8576b"
             ],
             [
              0.6666666666666666,
              "#ed7953"
             ],
             [
              0.7777777777777778,
              "#fb9f3a"
             ],
             [
              0.8888888888888888,
              "#fdca26"
             ],
             [
              1,
              "#f0f921"
             ]
            ],
            "type": "heatmap"
           }
          ],
          "heatmapgl": [
           {
            "colorbar": {
             "outlinewidth": 0,
             "ticks": ""
            },
            "colorscale": [
             [
              0,
              "#0d0887"
             ],
             [
              0.1111111111111111,
              "#46039f"
             ],
             [
              0.2222222222222222,
              "#7201a8"
             ],
             [
              0.3333333333333333,
              "#9c179e"
             ],
             [
              0.4444444444444444,
              "#bd3786"
             ],
             [
              0.5555555555555556,
              "#d8576b"
             ],
             [
              0.6666666666666666,
              "#ed7953"
             ],
             [
              0.7777777777777778,
              "#fb9f3a"
             ],
             [
              0.8888888888888888,
              "#fdca26"
             ],
             [
              1,
              "#f0f921"
             ]
            ],
            "type": "heatmapgl"
           }
          ],
          "histogram": [
           {
            "marker": {
             "pattern": {
              "fillmode": "overlay",
              "size": 10,
              "solidity": 0.2
             }
            },
            "type": "histogram"
           }
          ],
          "histogram2d": [
           {
            "colorbar": {
             "outlinewidth": 0,
             "ticks": ""
            },
            "colorscale": [
             [
              0,
              "#0d0887"
             ],
             [
              0.1111111111111111,
              "#46039f"
             ],
             [
              0.2222222222222222,
              "#7201a8"
             ],
             [
              0.3333333333333333,
              "#9c179e"
             ],
             [
              0.4444444444444444,
              "#bd3786"
             ],
             [
              0.5555555555555556,
              "#d8576b"
             ],
             [
              0.6666666666666666,
              "#ed7953"
             ],
             [
              0.7777777777777778,
              "#fb9f3a"
             ],
             [
              0.8888888888888888,
              "#fdca26"
             ],
             [
              1,
              "#f0f921"
             ]
            ],
            "type": "histogram2d"
           }
          ],
          "histogram2dcontour": [
           {
            "colorbar": {
             "outlinewidth": 0,
             "ticks": ""
            },
            "colorscale": [
             [
              0,
              "#0d0887"
             ],
             [
              0.1111111111111111,
              "#46039f"
             ],
             [
              0.2222222222222222,
              "#7201a8"
             ],
             [
              0.3333333333333333,
              "#9c179e"
             ],
             [
              0.4444444444444444,
              "#bd3786"
             ],
             [
              0.5555555555555556,
              "#d8576b"
             ],
             [
              0.6666666666666666,
              "#ed7953"
             ],
             [
              0.7777777777777778,
              "#fb9f3a"
             ],
             [
              0.8888888888888888,
              "#fdca26"
             ],
             [
              1,
              "#f0f921"
             ]
            ],
            "type": "histogram2dcontour"
           }
          ],
          "mesh3d": [
           {
            "colorbar": {
             "outlinewidth": 0,
             "ticks": ""
            },
            "type": "mesh3d"
           }
          ],
          "parcoords": [
           {
            "line": {
             "colorbar": {
              "outlinewidth": 0,
              "ticks": ""
             }
            },
            "type": "parcoords"
           }
          ],
          "pie": [
           {
            "automargin": true,
            "type": "pie"
           }
          ],
          "scatter": [
           {
            "fillpattern": {
             "fillmode": "overlay",
             "size": 10,
             "solidity": 0.2
            },
            "type": "scatter"
           }
          ],
          "scatter3d": [
           {
            "line": {
             "colorbar": {
              "outlinewidth": 0,
              "ticks": ""
             }
            },
            "marker": {
             "colorbar": {
              "outlinewidth": 0,
              "ticks": ""
             }
            },
            "type": "scatter3d"
           }
          ],
          "scattercarpet": [
           {
            "marker": {
             "colorbar": {
              "outlinewidth": 0,
              "ticks": ""
             }
            },
            "type": "scattercarpet"
           }
          ],
          "scattergeo": [
           {
            "marker": {
             "colorbar": {
              "outlinewidth": 0,
              "ticks": ""
             }
            },
            "type": "scattergeo"
           }
          ],
          "scattergl": [
           {
            "marker": {
             "colorbar": {
              "outlinewidth": 0,
              "ticks": ""
             }
            },
            "type": "scattergl"
           }
          ],
          "scattermapbox": [
           {
            "marker": {
             "colorbar": {
              "outlinewidth": 0,
              "ticks": ""
             }
            },
            "type": "scattermapbox"
           }
          ],
          "scatterpolar": [
           {
            "marker": {
             "colorbar": {
              "outlinewidth": 0,
              "ticks": ""
             }
            },
            "type": "scatterpolar"
           }
          ],
          "scatterpolargl": [
           {
            "marker": {
             "colorbar": {
              "outlinewidth": 0,
              "ticks": ""
             }
            },
            "type": "scatterpolargl"
           }
          ],
          "scatterternary": [
           {
            "marker": {
             "colorbar": {
              "outlinewidth": 0,
              "ticks": ""
             }
            },
            "type": "scatterternary"
           }
          ],
          "surface": [
           {
            "colorbar": {
             "outlinewidth": 0,
             "ticks": ""
            },
            "colorscale": [
             [
              0,
              "#0d0887"
             ],
             [
              0.1111111111111111,
              "#46039f"
             ],
             [
              0.2222222222222222,
              "#7201a8"
             ],
             [
              0.3333333333333333,
              "#9c179e"
             ],
             [
              0.4444444444444444,
              "#bd3786"
             ],
             [
              0.5555555555555556,
              "#d8576b"
             ],
             [
              0.6666666666666666,
              "#ed7953"
             ],
             [
              0.7777777777777778,
              "#fb9f3a"
             ],
             [
              0.8888888888888888,
              "#fdca26"
             ],
             [
              1,
              "#f0f921"
             ]
            ],
            "type": "surface"
           }
          ],
          "table": [
           {
            "cells": {
             "fill": {
              "color": "#EBF0F8"
             },
             "line": {
              "color": "white"
             }
            },
            "header": {
             "fill": {
              "color": "#C8D4E3"
             },
             "line": {
              "color": "white"
             }
            },
            "type": "table"
           }
          ]
         },
         "layout": {
          "annotationdefaults": {
           "arrowcolor": "#2a3f5f",
           "arrowhead": 0,
           "arrowwidth": 1
          },
          "autotypenumbers": "strict",
          "coloraxis": {
           "colorbar": {
            "outlinewidth": 0,
            "ticks": ""
           }
          },
          "colorscale": {
           "diverging": [
            [
             0,
             "#8e0152"
            ],
            [
             0.1,
             "#c51b7d"
            ],
            [
             0.2,
             "#de77ae"
            ],
            [
             0.3,
             "#f1b6da"
            ],
            [
             0.4,
             "#fde0ef"
            ],
            [
             0.5,
             "#f7f7f7"
            ],
            [
             0.6,
             "#e6f5d0"
            ],
            [
             0.7,
             "#b8e186"
            ],
            [
             0.8,
             "#7fbc41"
            ],
            [
             0.9,
             "#4d9221"
            ],
            [
             1,
             "#276419"
            ]
           ],
           "sequential": [
            [
             0,
             "#0d0887"
            ],
            [
             0.1111111111111111,
             "#46039f"
            ],
            [
             0.2222222222222222,
             "#7201a8"
            ],
            [
             0.3333333333333333,
             "#9c179e"
            ],
            [
             0.4444444444444444,
             "#bd3786"
            ],
            [
             0.5555555555555556,
             "#d8576b"
            ],
            [
             0.6666666666666666,
             "#ed7953"
            ],
            [
             0.7777777777777778,
             "#fb9f3a"
            ],
            [
             0.8888888888888888,
             "#fdca26"
            ],
            [
             1,
             "#f0f921"
            ]
           ],
           "sequentialminus": [
            [
             0,
             "#0d0887"
            ],
            [
             0.1111111111111111,
             "#46039f"
            ],
            [
             0.2222222222222222,
             "#7201a8"
            ],
            [
             0.3333333333333333,
             "#9c179e"
            ],
            [
             0.4444444444444444,
             "#bd3786"
            ],
            [
             0.5555555555555556,
             "#d8576b"
            ],
            [
             0.6666666666666666,
             "#ed7953"
            ],
            [
             0.7777777777777778,
             "#fb9f3a"
            ],
            [
             0.8888888888888888,
             "#fdca26"
            ],
            [
             1,
             "#f0f921"
            ]
           ]
          },
          "colorway": [
           "#636efa",
           "#EF553B",
           "#00cc96",
           "#ab63fa",
           "#FFA15A",
           "#19d3f3",
           "#FF6692",
           "#B6E880",
           "#FF97FF",
           "#FECB52"
          ],
          "font": {
           "color": "#2a3f5f"
          },
          "geo": {
           "bgcolor": "white",
           "lakecolor": "white",
           "landcolor": "#E5ECF6",
           "showlakes": true,
           "showland": true,
           "subunitcolor": "white"
          },
          "hoverlabel": {
           "align": "left"
          },
          "hovermode": "closest",
          "mapbox": {
           "style": "light"
          },
          "paper_bgcolor": "white",
          "plot_bgcolor": "#E5ECF6",
          "polar": {
           "angularaxis": {
            "gridcolor": "white",
            "linecolor": "white",
            "ticks": ""
           },
           "bgcolor": "#E5ECF6",
           "radialaxis": {
            "gridcolor": "white",
            "linecolor": "white",
            "ticks": ""
           }
          },
          "scene": {
           "xaxis": {
            "backgroundcolor": "#E5ECF6",
            "gridcolor": "white",
            "gridwidth": 2,
            "linecolor": "white",
            "showbackground": true,
            "ticks": "",
            "zerolinecolor": "white"
           },
           "yaxis": {
            "backgroundcolor": "#E5ECF6",
            "gridcolor": "white",
            "gridwidth": 2,
            "linecolor": "white",
            "showbackground": true,
            "ticks": "",
            "zerolinecolor": "white"
           },
           "zaxis": {
            "backgroundcolor": "#E5ECF6",
            "gridcolor": "white",
            "gridwidth": 2,
            "linecolor": "white",
            "showbackground": true,
            "ticks": "",
            "zerolinecolor": "white"
           }
          },
          "shapedefaults": {
           "line": {
            "color": "#2a3f5f"
           }
          },
          "ternary": {
           "aaxis": {
            "gridcolor": "white",
            "linecolor": "white",
            "ticks": ""
           },
           "baxis": {
            "gridcolor": "white",
            "linecolor": "white",
            "ticks": ""
           },
           "bgcolor": "#E5ECF6",
           "caxis": {
            "gridcolor": "white",
            "linecolor": "white",
            "ticks": ""
           }
          },
          "title": {
           "x": 0.05
          },
          "xaxis": {
           "automargin": true,
           "gridcolor": "white",
           "linecolor": "white",
           "ticks": "",
           "title": {
            "standoff": 15
           },
           "zerolinecolor": "white",
           "zerolinewidth": 2
          },
          "yaxis": {
           "automargin": true,
           "gridcolor": "white",
           "linecolor": "white",
           "ticks": "",
           "title": {
            "standoff": 15
           },
           "zerolinecolor": "white",
           "zerolinewidth": 2
          }
         }
        },
        "title": {
         "text": "MIP Error Comparison: 20 vs 3600"
        },
        "xaxis": {
         "anchor": "y",
         "domain": [
          0,
          1
         ],
         "title": {
          "text": "m"
         }
        },
        "yaxis": {
         "anchor": "x",
         "domain": [
          0,
          1
         ],
         "title": {
          "text": "value"
         }
        }
       }
      }
     },
     "metadata": {},
     "output_type": "display_data"
    }
   ],
   "source": [
    "MIP_20 = pd.read_csv('MIPApproach_T-20.csv')\n",
    "MIP_3600 = pd.read_csv('MIPApproach_T-3600.csv')\n",
    "combined_data = MIP_3600.merge(MIP_20, how='inner', left_on='m', right_on='m', suffixes=['_3600', '_20'])\n",
    "\n",
    "fig = px.line(combined_data, x='m', y=['2020_return_error_3600', '2020_return_error_20'], title='MIP Error Comparison: 20 vs 3600')\n",
    "fig.show()"
   ]
  },
  {
   "cell_type": "code",
   "execution_count": null,
   "metadata": {},
   "outputs": [],
   "source": []
  }
 ],
 "metadata": {
  "kernelspec": {
   "display_name": "Python 3",
   "language": "python",
   "name": "python3"
  },
  "language_info": {
   "codemirror_mode": {
    "name": "ipython",
    "version": 3
   },
   "file_extension": ".py",
   "mimetype": "text/x-python",
   "name": "python",
   "nbconvert_exporter": "python",
   "pygments_lexer": "ipython3",
   "version": "3.10.11"
  }
 },
 "nbformat": 4,
 "nbformat_minor": 2
}
